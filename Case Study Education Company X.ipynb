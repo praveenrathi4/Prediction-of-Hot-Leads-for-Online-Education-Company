{
 "cells": [
  {
   "cell_type": "code",
   "execution_count": 1,
   "id": "94809065",
   "metadata": {},
   "outputs": [],
   "source": [
    "import pandas as pd\n",
    "import numpy as np\n",
    "import matplotlib.pyplot as plt\n",
    "import seaborn as sns"
   ]
  },
  {
   "cell_type": "code",
   "execution_count": 2,
   "id": "56d98cde",
   "metadata": {},
   "outputs": [],
   "source": [
    "data = pd.read_csv('Leads.csv')"
   ]
  },
  {
   "cell_type": "code",
   "execution_count": 3,
   "id": "9eec8c27",
   "metadata": {},
   "outputs": [
    {
     "data": {
      "text/html": [
       "<div>\n",
       "<style scoped>\n",
       "    .dataframe tbody tr th:only-of-type {\n",
       "        vertical-align: middle;\n",
       "    }\n",
       "\n",
       "    .dataframe tbody tr th {\n",
       "        vertical-align: top;\n",
       "    }\n",
       "\n",
       "    .dataframe thead th {\n",
       "        text-align: right;\n",
       "    }\n",
       "</style>\n",
       "<table border=\"1\" class=\"dataframe\">\n",
       "  <thead>\n",
       "    <tr style=\"text-align: right;\">\n",
       "      <th></th>\n",
       "      <th>Prospect ID</th>\n",
       "      <th>Lead Number</th>\n",
       "      <th>Lead Origin</th>\n",
       "      <th>Lead Source</th>\n",
       "      <th>Do Not Email</th>\n",
       "      <th>Do Not Call</th>\n",
       "      <th>Converted</th>\n",
       "      <th>TotalVisits</th>\n",
       "      <th>Total Time Spent on Website</th>\n",
       "      <th>Page Views Per Visit</th>\n",
       "      <th>...</th>\n",
       "      <th>Get updates on DM Content</th>\n",
       "      <th>Lead Profile</th>\n",
       "      <th>City</th>\n",
       "      <th>Asymmetrique Activity Index</th>\n",
       "      <th>Asymmetrique Profile Index</th>\n",
       "      <th>Asymmetrique Activity Score</th>\n",
       "      <th>Asymmetrique Profile Score</th>\n",
       "      <th>I agree to pay the amount through cheque</th>\n",
       "      <th>A free copy of Mastering The Interview</th>\n",
       "      <th>Last Notable Activity</th>\n",
       "    </tr>\n",
       "  </thead>\n",
       "  <tbody>\n",
       "    <tr>\n",
       "      <th>0</th>\n",
       "      <td>7927b2df-8bba-4d29-b9a2-b6e0beafe620</td>\n",
       "      <td>660737</td>\n",
       "      <td>API</td>\n",
       "      <td>Olark Chat</td>\n",
       "      <td>No</td>\n",
       "      <td>No</td>\n",
       "      <td>0</td>\n",
       "      <td>0.0</td>\n",
       "      <td>0</td>\n",
       "      <td>0.0</td>\n",
       "      <td>...</td>\n",
       "      <td>No</td>\n",
       "      <td>Select</td>\n",
       "      <td>Select</td>\n",
       "      <td>02.Medium</td>\n",
       "      <td>02.Medium</td>\n",
       "      <td>15.0</td>\n",
       "      <td>15.0</td>\n",
       "      <td>No</td>\n",
       "      <td>No</td>\n",
       "      <td>Modified</td>\n",
       "    </tr>\n",
       "    <tr>\n",
       "      <th>1</th>\n",
       "      <td>2a272436-5132-4136-86fa-dcc88c88f482</td>\n",
       "      <td>660728</td>\n",
       "      <td>API</td>\n",
       "      <td>Organic Search</td>\n",
       "      <td>No</td>\n",
       "      <td>No</td>\n",
       "      <td>0</td>\n",
       "      <td>5.0</td>\n",
       "      <td>674</td>\n",
       "      <td>2.5</td>\n",
       "      <td>...</td>\n",
       "      <td>No</td>\n",
       "      <td>Select</td>\n",
       "      <td>Select</td>\n",
       "      <td>02.Medium</td>\n",
       "      <td>02.Medium</td>\n",
       "      <td>15.0</td>\n",
       "      <td>15.0</td>\n",
       "      <td>No</td>\n",
       "      <td>No</td>\n",
       "      <td>Email Opened</td>\n",
       "    </tr>\n",
       "    <tr>\n",
       "      <th>2</th>\n",
       "      <td>8cc8c611-a219-4f35-ad23-fdfd2656bd8a</td>\n",
       "      <td>660727</td>\n",
       "      <td>Landing Page Submission</td>\n",
       "      <td>Direct Traffic</td>\n",
       "      <td>No</td>\n",
       "      <td>No</td>\n",
       "      <td>1</td>\n",
       "      <td>2.0</td>\n",
       "      <td>1532</td>\n",
       "      <td>2.0</td>\n",
       "      <td>...</td>\n",
       "      <td>No</td>\n",
       "      <td>Potential Lead</td>\n",
       "      <td>Mumbai</td>\n",
       "      <td>02.Medium</td>\n",
       "      <td>01.High</td>\n",
       "      <td>14.0</td>\n",
       "      <td>20.0</td>\n",
       "      <td>No</td>\n",
       "      <td>Yes</td>\n",
       "      <td>Email Opened</td>\n",
       "    </tr>\n",
       "    <tr>\n",
       "      <th>3</th>\n",
       "      <td>0cc2df48-7cf4-4e39-9de9-19797f9b38cc</td>\n",
       "      <td>660719</td>\n",
       "      <td>Landing Page Submission</td>\n",
       "      <td>Direct Traffic</td>\n",
       "      <td>No</td>\n",
       "      <td>No</td>\n",
       "      <td>0</td>\n",
       "      <td>1.0</td>\n",
       "      <td>305</td>\n",
       "      <td>1.0</td>\n",
       "      <td>...</td>\n",
       "      <td>No</td>\n",
       "      <td>Select</td>\n",
       "      <td>Mumbai</td>\n",
       "      <td>02.Medium</td>\n",
       "      <td>01.High</td>\n",
       "      <td>13.0</td>\n",
       "      <td>17.0</td>\n",
       "      <td>No</td>\n",
       "      <td>No</td>\n",
       "      <td>Modified</td>\n",
       "    </tr>\n",
       "    <tr>\n",
       "      <th>4</th>\n",
       "      <td>3256f628-e534-4826-9d63-4a8b88782852</td>\n",
       "      <td>660681</td>\n",
       "      <td>Landing Page Submission</td>\n",
       "      <td>Google</td>\n",
       "      <td>No</td>\n",
       "      <td>No</td>\n",
       "      <td>1</td>\n",
       "      <td>2.0</td>\n",
       "      <td>1428</td>\n",
       "      <td>1.0</td>\n",
       "      <td>...</td>\n",
       "      <td>No</td>\n",
       "      <td>Select</td>\n",
       "      <td>Mumbai</td>\n",
       "      <td>02.Medium</td>\n",
       "      <td>01.High</td>\n",
       "      <td>15.0</td>\n",
       "      <td>18.0</td>\n",
       "      <td>No</td>\n",
       "      <td>No</td>\n",
       "      <td>Modified</td>\n",
       "    </tr>\n",
       "  </tbody>\n",
       "</table>\n",
       "<p>5 rows × 37 columns</p>\n",
       "</div>"
      ],
      "text/plain": [
       "                            Prospect ID  Lead Number              Lead Origin  \\\n",
       "0  7927b2df-8bba-4d29-b9a2-b6e0beafe620       660737                      API   \n",
       "1  2a272436-5132-4136-86fa-dcc88c88f482       660728                      API   \n",
       "2  8cc8c611-a219-4f35-ad23-fdfd2656bd8a       660727  Landing Page Submission   \n",
       "3  0cc2df48-7cf4-4e39-9de9-19797f9b38cc       660719  Landing Page Submission   \n",
       "4  3256f628-e534-4826-9d63-4a8b88782852       660681  Landing Page Submission   \n",
       "\n",
       "      Lead Source Do Not Email Do Not Call  Converted  TotalVisits  \\\n",
       "0      Olark Chat           No          No          0          0.0   \n",
       "1  Organic Search           No          No          0          5.0   \n",
       "2  Direct Traffic           No          No          1          2.0   \n",
       "3  Direct Traffic           No          No          0          1.0   \n",
       "4          Google           No          No          1          2.0   \n",
       "\n",
       "   Total Time Spent on Website  Page Views Per Visit  ...  \\\n",
       "0                            0                   0.0  ...   \n",
       "1                          674                   2.5  ...   \n",
       "2                         1532                   2.0  ...   \n",
       "3                          305                   1.0  ...   \n",
       "4                         1428                   1.0  ...   \n",
       "\n",
       "  Get updates on DM Content    Lead Profile    City  \\\n",
       "0                        No          Select  Select   \n",
       "1                        No          Select  Select   \n",
       "2                        No  Potential Lead  Mumbai   \n",
       "3                        No          Select  Mumbai   \n",
       "4                        No          Select  Mumbai   \n",
       "\n",
       "  Asymmetrique Activity Index Asymmetrique Profile Index  \\\n",
       "0                   02.Medium                  02.Medium   \n",
       "1                   02.Medium                  02.Medium   \n",
       "2                   02.Medium                    01.High   \n",
       "3                   02.Medium                    01.High   \n",
       "4                   02.Medium                    01.High   \n",
       "\n",
       "  Asymmetrique Activity Score Asymmetrique Profile Score  \\\n",
       "0                        15.0                       15.0   \n",
       "1                        15.0                       15.0   \n",
       "2                        14.0                       20.0   \n",
       "3                        13.0                       17.0   \n",
       "4                        15.0                       18.0   \n",
       "\n",
       "  I agree to pay the amount through cheque  \\\n",
       "0                                       No   \n",
       "1                                       No   \n",
       "2                                       No   \n",
       "3                                       No   \n",
       "4                                       No   \n",
       "\n",
       "  A free copy of Mastering The Interview Last Notable Activity  \n",
       "0                                     No              Modified  \n",
       "1                                     No          Email Opened  \n",
       "2                                    Yes          Email Opened  \n",
       "3                                     No              Modified  \n",
       "4                                     No              Modified  \n",
       "\n",
       "[5 rows x 37 columns]"
      ]
     },
     "execution_count": 3,
     "metadata": {},
     "output_type": "execute_result"
    }
   ],
   "source": [
    "data.head()"
   ]
  },
  {
   "cell_type": "code",
   "execution_count": 4,
   "id": "caceece4",
   "metadata": {},
   "outputs": [
    {
     "data": {
      "text/plain": [
       "(9240, 37)"
      ]
     },
     "execution_count": 4,
     "metadata": {},
     "output_type": "execute_result"
    }
   ],
   "source": [
    "data.shape"
   ]
  },
  {
   "cell_type": "markdown",
   "id": "3683dd65",
   "metadata": {},
   "source": [
    "## 1. Data cleaning, handling missing values, handling outliers"
   ]
  },
  {
   "cell_type": "markdown",
   "id": "07779e2f",
   "metadata": {},
   "source": [
    "### Removing prospect id and lead number as these columns are uniqe index type in nature and no need"
   ]
  },
  {
   "cell_type": "code",
   "execution_count": 5,
   "id": "0fe950b3",
   "metadata": {},
   "outputs": [],
   "source": [
    "data = data.drop(['Prospect ID','Lead Number'], axis = 1)"
   ]
  },
  {
   "cell_type": "markdown",
   "id": "998d7265",
   "metadata": {},
   "source": [
    "### As we can see in data info that there are some features lower non-null values, so eliminate those for now"
   ]
  },
  {
   "cell_type": "code",
   "execution_count": 6,
   "id": "3b383edd",
   "metadata": {},
   "outputs": [
    {
     "name": "stdout",
     "output_type": "stream",
     "text": [
      "<class 'pandas.core.frame.DataFrame'>\n",
      "RangeIndex: 9240 entries, 0 to 9239\n",
      "Data columns (total 35 columns):\n",
      " #   Column                                         Non-Null Count  Dtype  \n",
      "---  ------                                         --------------  -----  \n",
      " 0   Lead Origin                                    9240 non-null   object \n",
      " 1   Lead Source                                    9204 non-null   object \n",
      " 2   Do Not Email                                   9240 non-null   object \n",
      " 3   Do Not Call                                    9240 non-null   object \n",
      " 4   Converted                                      9240 non-null   int64  \n",
      " 5   TotalVisits                                    9103 non-null   float64\n",
      " 6   Total Time Spent on Website                    9240 non-null   int64  \n",
      " 7   Page Views Per Visit                           9103 non-null   float64\n",
      " 8   Last Activity                                  9137 non-null   object \n",
      " 9   Country                                        6779 non-null   object \n",
      " 10  Specialization                                 7802 non-null   object \n",
      " 11  How did you hear about X Education             7033 non-null   object \n",
      " 12  What is your current occupation                6550 non-null   object \n",
      " 13  What matters most to you in choosing a course  6531 non-null   object \n",
      " 14  Search                                         9240 non-null   object \n",
      " 15  Magazine                                       9240 non-null   object \n",
      " 16  Newspaper Article                              9240 non-null   object \n",
      " 17  X Education Forums                             9240 non-null   object \n",
      " 18  Newspaper                                      9240 non-null   object \n",
      " 19  Digital Advertisement                          9240 non-null   object \n",
      " 20  Through Recommendations                        9240 non-null   object \n",
      " 21  Receive More Updates About Our Courses         9240 non-null   object \n",
      " 22  Tags                                           5887 non-null   object \n",
      " 23  Lead Quality                                   4473 non-null   object \n",
      " 24  Update me on Supply Chain Content              9240 non-null   object \n",
      " 25  Get updates on DM Content                      9240 non-null   object \n",
      " 26  Lead Profile                                   6531 non-null   object \n",
      " 27  City                                           7820 non-null   object \n",
      " 28  Asymmetrique Activity Index                    5022 non-null   object \n",
      " 29  Asymmetrique Profile Index                     5022 non-null   object \n",
      " 30  Asymmetrique Activity Score                    5022 non-null   float64\n",
      " 31  Asymmetrique Profile Score                     5022 non-null   float64\n",
      " 32  I agree to pay the amount through cheque       9240 non-null   object \n",
      " 33  A free copy of Mastering The Interview         9240 non-null   object \n",
      " 34  Last Notable Activity                          9240 non-null   object \n",
      "dtypes: float64(4), int64(2), object(29)\n",
      "memory usage: 2.5+ MB\n"
     ]
    }
   ],
   "source": [
    "data.info()"
   ]
  },
  {
   "cell_type": "code",
   "execution_count": 7,
   "id": "1fc74083",
   "metadata": {},
   "outputs": [],
   "source": [
    "drop_column = ['Lead Origin','Country','Specialization','How did you hear about X Education','What matters most to you in choosing a course','Tags','Lead Quality','Lead Profile','City','Asymmetrique Activity Index','Asymmetrique Profile Index','Asymmetrique Activity Score','Asymmetrique Profile Score','Last Notable Activity']"
   ]
  },
  {
   "cell_type": "code",
   "execution_count": 8,
   "id": "665d813a",
   "metadata": {},
   "outputs": [],
   "source": [
    "data_select = data.drop(drop_column, axis=1)"
   ]
  },
  {
   "cell_type": "code",
   "execution_count": 9,
   "id": "1404bf4c",
   "metadata": {},
   "outputs": [
    {
     "data": {
      "text/html": [
       "<div>\n",
       "<style scoped>\n",
       "    .dataframe tbody tr th:only-of-type {\n",
       "        vertical-align: middle;\n",
       "    }\n",
       "\n",
       "    .dataframe tbody tr th {\n",
       "        vertical-align: top;\n",
       "    }\n",
       "\n",
       "    .dataframe thead th {\n",
       "        text-align: right;\n",
       "    }\n",
       "</style>\n",
       "<table border=\"1\" class=\"dataframe\">\n",
       "  <thead>\n",
       "    <tr style=\"text-align: right;\">\n",
       "      <th></th>\n",
       "      <th>Lead Source</th>\n",
       "      <th>Do Not Email</th>\n",
       "      <th>Do Not Call</th>\n",
       "      <th>Converted</th>\n",
       "      <th>TotalVisits</th>\n",
       "      <th>Total Time Spent on Website</th>\n",
       "      <th>Page Views Per Visit</th>\n",
       "      <th>Last Activity</th>\n",
       "      <th>What is your current occupation</th>\n",
       "      <th>Search</th>\n",
       "      <th>...</th>\n",
       "      <th>Newspaper Article</th>\n",
       "      <th>X Education Forums</th>\n",
       "      <th>Newspaper</th>\n",
       "      <th>Digital Advertisement</th>\n",
       "      <th>Through Recommendations</th>\n",
       "      <th>Receive More Updates About Our Courses</th>\n",
       "      <th>Update me on Supply Chain Content</th>\n",
       "      <th>Get updates on DM Content</th>\n",
       "      <th>I agree to pay the amount through cheque</th>\n",
       "      <th>A free copy of Mastering The Interview</th>\n",
       "    </tr>\n",
       "  </thead>\n",
       "  <tbody>\n",
       "    <tr>\n",
       "      <th>0</th>\n",
       "      <td>Olark Chat</td>\n",
       "      <td>No</td>\n",
       "      <td>No</td>\n",
       "      <td>0</td>\n",
       "      <td>0.0</td>\n",
       "      <td>0</td>\n",
       "      <td>0.0</td>\n",
       "      <td>Page Visited on Website</td>\n",
       "      <td>Unemployed</td>\n",
       "      <td>No</td>\n",
       "      <td>...</td>\n",
       "      <td>No</td>\n",
       "      <td>No</td>\n",
       "      <td>No</td>\n",
       "      <td>No</td>\n",
       "      <td>No</td>\n",
       "      <td>No</td>\n",
       "      <td>No</td>\n",
       "      <td>No</td>\n",
       "      <td>No</td>\n",
       "      <td>No</td>\n",
       "    </tr>\n",
       "    <tr>\n",
       "      <th>1</th>\n",
       "      <td>Organic Search</td>\n",
       "      <td>No</td>\n",
       "      <td>No</td>\n",
       "      <td>0</td>\n",
       "      <td>5.0</td>\n",
       "      <td>674</td>\n",
       "      <td>2.5</td>\n",
       "      <td>Email Opened</td>\n",
       "      <td>Unemployed</td>\n",
       "      <td>No</td>\n",
       "      <td>...</td>\n",
       "      <td>No</td>\n",
       "      <td>No</td>\n",
       "      <td>No</td>\n",
       "      <td>No</td>\n",
       "      <td>No</td>\n",
       "      <td>No</td>\n",
       "      <td>No</td>\n",
       "      <td>No</td>\n",
       "      <td>No</td>\n",
       "      <td>No</td>\n",
       "    </tr>\n",
       "    <tr>\n",
       "      <th>2</th>\n",
       "      <td>Direct Traffic</td>\n",
       "      <td>No</td>\n",
       "      <td>No</td>\n",
       "      <td>1</td>\n",
       "      <td>2.0</td>\n",
       "      <td>1532</td>\n",
       "      <td>2.0</td>\n",
       "      <td>Email Opened</td>\n",
       "      <td>Student</td>\n",
       "      <td>No</td>\n",
       "      <td>...</td>\n",
       "      <td>No</td>\n",
       "      <td>No</td>\n",
       "      <td>No</td>\n",
       "      <td>No</td>\n",
       "      <td>No</td>\n",
       "      <td>No</td>\n",
       "      <td>No</td>\n",
       "      <td>No</td>\n",
       "      <td>No</td>\n",
       "      <td>Yes</td>\n",
       "    </tr>\n",
       "    <tr>\n",
       "      <th>3</th>\n",
       "      <td>Direct Traffic</td>\n",
       "      <td>No</td>\n",
       "      <td>No</td>\n",
       "      <td>0</td>\n",
       "      <td>1.0</td>\n",
       "      <td>305</td>\n",
       "      <td>1.0</td>\n",
       "      <td>Unreachable</td>\n",
       "      <td>Unemployed</td>\n",
       "      <td>No</td>\n",
       "      <td>...</td>\n",
       "      <td>No</td>\n",
       "      <td>No</td>\n",
       "      <td>No</td>\n",
       "      <td>No</td>\n",
       "      <td>No</td>\n",
       "      <td>No</td>\n",
       "      <td>No</td>\n",
       "      <td>No</td>\n",
       "      <td>No</td>\n",
       "      <td>No</td>\n",
       "    </tr>\n",
       "    <tr>\n",
       "      <th>4</th>\n",
       "      <td>Google</td>\n",
       "      <td>No</td>\n",
       "      <td>No</td>\n",
       "      <td>1</td>\n",
       "      <td>2.0</td>\n",
       "      <td>1428</td>\n",
       "      <td>1.0</td>\n",
       "      <td>Converted to Lead</td>\n",
       "      <td>Unemployed</td>\n",
       "      <td>No</td>\n",
       "      <td>...</td>\n",
       "      <td>No</td>\n",
       "      <td>No</td>\n",
       "      <td>No</td>\n",
       "      <td>No</td>\n",
       "      <td>No</td>\n",
       "      <td>No</td>\n",
       "      <td>No</td>\n",
       "      <td>No</td>\n",
       "      <td>No</td>\n",
       "      <td>No</td>\n",
       "    </tr>\n",
       "  </tbody>\n",
       "</table>\n",
       "<p>5 rows × 21 columns</p>\n",
       "</div>"
      ],
      "text/plain": [
       "      Lead Source Do Not Email Do Not Call  Converted  TotalVisits  \\\n",
       "0      Olark Chat           No          No          0          0.0   \n",
       "1  Organic Search           No          No          0          5.0   \n",
       "2  Direct Traffic           No          No          1          2.0   \n",
       "3  Direct Traffic           No          No          0          1.0   \n",
       "4          Google           No          No          1          2.0   \n",
       "\n",
       "   Total Time Spent on Website  Page Views Per Visit            Last Activity  \\\n",
       "0                            0                   0.0  Page Visited on Website   \n",
       "1                          674                   2.5             Email Opened   \n",
       "2                         1532                   2.0             Email Opened   \n",
       "3                          305                   1.0              Unreachable   \n",
       "4                         1428                   1.0        Converted to Lead   \n",
       "\n",
       "  What is your current occupation Search  ... Newspaper Article  \\\n",
       "0                      Unemployed     No  ...                No   \n",
       "1                      Unemployed     No  ...                No   \n",
       "2                         Student     No  ...                No   \n",
       "3                      Unemployed     No  ...                No   \n",
       "4                      Unemployed     No  ...                No   \n",
       "\n",
       "  X Education Forums Newspaper Digital Advertisement Through Recommendations  \\\n",
       "0                 No        No                    No                      No   \n",
       "1                 No        No                    No                      No   \n",
       "2                 No        No                    No                      No   \n",
       "3                 No        No                    No                      No   \n",
       "4                 No        No                    No                      No   \n",
       "\n",
       "  Receive More Updates About Our Courses Update me on Supply Chain Content  \\\n",
       "0                                     No                                No   \n",
       "1                                     No                                No   \n",
       "2                                     No                                No   \n",
       "3                                     No                                No   \n",
       "4                                     No                                No   \n",
       "\n",
       "  Get updates on DM Content I agree to pay the amount through cheque  \\\n",
       "0                        No                                       No   \n",
       "1                        No                                       No   \n",
       "2                        No                                       No   \n",
       "3                        No                                       No   \n",
       "4                        No                                       No   \n",
       "\n",
       "  A free copy of Mastering The Interview  \n",
       "0                                     No  \n",
       "1                                     No  \n",
       "2                                    Yes  \n",
       "3                                     No  \n",
       "4                                     No  \n",
       "\n",
       "[5 rows x 21 columns]"
      ]
     },
     "execution_count": 9,
     "metadata": {},
     "output_type": "execute_result"
    }
   ],
   "source": [
    "data_select.head()"
   ]
  },
  {
   "cell_type": "code",
   "execution_count": 10,
   "id": "c3422d07",
   "metadata": {},
   "outputs": [
    {
     "data": {
      "text/plain": [
       "Index(['Lead Source', 'Do Not Email', 'Do Not Call', 'Converted',\n",
       "       'TotalVisits', 'Total Time Spent on Website', 'Page Views Per Visit',\n",
       "       'Last Activity', 'What is your current occupation', 'Search',\n",
       "       'Magazine', 'Newspaper Article', 'X Education Forums', 'Newspaper',\n",
       "       'Digital Advertisement', 'Through Recommendations',\n",
       "       'Receive More Updates About Our Courses',\n",
       "       'Update me on Supply Chain Content', 'Get updates on DM Content',\n",
       "       'I agree to pay the amount through cheque',\n",
       "       'A free copy of Mastering The Interview'],\n",
       "      dtype='object')"
      ]
     },
     "execution_count": 10,
     "metadata": {},
     "output_type": "execute_result"
    }
   ],
   "source": [
    "data_select.columns"
   ]
  },
  {
   "cell_type": "markdown",
   "id": "a146192a",
   "metadata": {},
   "source": [
    "### After going throuh value counts of select features, some features has yes and no values and almost 99%-100% data imbalance, so eliminating those features also"
   ]
  },
  {
   "cell_type": "code",
   "execution_count": 11,
   "id": "99045b6a",
   "metadata": {},
   "outputs": [],
   "source": [
    "imbalance_columns = ['Do Not Email','Do Not Call','Search', 'Magazine',\n",
    "       'Newspaper Article', 'X Education Forums', 'Newspaper',\n",
    "       'Digital Advertisement', 'Through Recommendations',\n",
    "       'Receive More Updates About Our Courses','Update me on Supply Chain Content', 'Get updates on DM Content','I agree to pay the amount through cheque']"
   ]
  },
  {
   "cell_type": "code",
   "execution_count": 12,
   "id": "6d80ebf1",
   "metadata": {},
   "outputs": [
    {
     "data": {
      "text/html": [
       "<div>\n",
       "<style scoped>\n",
       "    .dataframe tbody tr th:only-of-type {\n",
       "        vertical-align: middle;\n",
       "    }\n",
       "\n",
       "    .dataframe tbody tr th {\n",
       "        vertical-align: top;\n",
       "    }\n",
       "\n",
       "    .dataframe thead th {\n",
       "        text-align: right;\n",
       "    }\n",
       "</style>\n",
       "<table border=\"1\" class=\"dataframe\">\n",
       "  <thead>\n",
       "    <tr style=\"text-align: right;\">\n",
       "      <th></th>\n",
       "      <th>Lead Source</th>\n",
       "      <th>Converted</th>\n",
       "      <th>TotalVisits</th>\n",
       "      <th>Total Time Spent on Website</th>\n",
       "      <th>Page Views Per Visit</th>\n",
       "      <th>Last Activity</th>\n",
       "      <th>What is your current occupation</th>\n",
       "      <th>A free copy of Mastering The Interview</th>\n",
       "    </tr>\n",
       "  </thead>\n",
       "  <tbody>\n",
       "    <tr>\n",
       "      <th>0</th>\n",
       "      <td>Olark Chat</td>\n",
       "      <td>0</td>\n",
       "      <td>0.0</td>\n",
       "      <td>0</td>\n",
       "      <td>0.0</td>\n",
       "      <td>Page Visited on Website</td>\n",
       "      <td>Unemployed</td>\n",
       "      <td>No</td>\n",
       "    </tr>\n",
       "    <tr>\n",
       "      <th>1</th>\n",
       "      <td>Organic Search</td>\n",
       "      <td>0</td>\n",
       "      <td>5.0</td>\n",
       "      <td>674</td>\n",
       "      <td>2.5</td>\n",
       "      <td>Email Opened</td>\n",
       "      <td>Unemployed</td>\n",
       "      <td>No</td>\n",
       "    </tr>\n",
       "    <tr>\n",
       "      <th>2</th>\n",
       "      <td>Direct Traffic</td>\n",
       "      <td>1</td>\n",
       "      <td>2.0</td>\n",
       "      <td>1532</td>\n",
       "      <td>2.0</td>\n",
       "      <td>Email Opened</td>\n",
       "      <td>Student</td>\n",
       "      <td>Yes</td>\n",
       "    </tr>\n",
       "    <tr>\n",
       "      <th>3</th>\n",
       "      <td>Direct Traffic</td>\n",
       "      <td>0</td>\n",
       "      <td>1.0</td>\n",
       "      <td>305</td>\n",
       "      <td>1.0</td>\n",
       "      <td>Unreachable</td>\n",
       "      <td>Unemployed</td>\n",
       "      <td>No</td>\n",
       "    </tr>\n",
       "    <tr>\n",
       "      <th>4</th>\n",
       "      <td>Google</td>\n",
       "      <td>1</td>\n",
       "      <td>2.0</td>\n",
       "      <td>1428</td>\n",
       "      <td>1.0</td>\n",
       "      <td>Converted to Lead</td>\n",
       "      <td>Unemployed</td>\n",
       "      <td>No</td>\n",
       "    </tr>\n",
       "  </tbody>\n",
       "</table>\n",
       "</div>"
      ],
      "text/plain": [
       "      Lead Source  Converted  TotalVisits  Total Time Spent on Website  \\\n",
       "0      Olark Chat          0          0.0                            0   \n",
       "1  Organic Search          0          5.0                          674   \n",
       "2  Direct Traffic          1          2.0                         1532   \n",
       "3  Direct Traffic          0          1.0                          305   \n",
       "4          Google          1          2.0                         1428   \n",
       "\n",
       "   Page Views Per Visit            Last Activity  \\\n",
       "0                   0.0  Page Visited on Website   \n",
       "1                   2.5             Email Opened   \n",
       "2                   2.0             Email Opened   \n",
       "3                   1.0              Unreachable   \n",
       "4                   1.0        Converted to Lead   \n",
       "\n",
       "  What is your current occupation A free copy of Mastering The Interview  \n",
       "0                      Unemployed                                     No  \n",
       "1                      Unemployed                                     No  \n",
       "2                         Student                                    Yes  \n",
       "3                      Unemployed                                     No  \n",
       "4                      Unemployed                                     No  "
      ]
     },
     "execution_count": 12,
     "metadata": {},
     "output_type": "execute_result"
    }
   ],
   "source": [
    "data_select.drop(imbalance_columns, axis=1, inplace=True)\n",
    "data_select.head()"
   ]
  },
  {
   "cell_type": "code",
   "execution_count": 13,
   "id": "35d57741",
   "metadata": {},
   "outputs": [
    {
     "name": "stdout",
     "output_type": "stream",
     "text": [
      "<class 'pandas.core.frame.DataFrame'>\n",
      "RangeIndex: 9240 entries, 0 to 9239\n",
      "Data columns (total 8 columns):\n",
      " #   Column                                  Non-Null Count  Dtype  \n",
      "---  ------                                  --------------  -----  \n",
      " 0   Lead Source                             9204 non-null   object \n",
      " 1   Converted                               9240 non-null   int64  \n",
      " 2   TotalVisits                             9103 non-null   float64\n",
      " 3   Total Time Spent on Website             9240 non-null   int64  \n",
      " 4   Page Views Per Visit                    9103 non-null   float64\n",
      " 5   Last Activity                           9137 non-null   object \n",
      " 6   What is your current occupation         6550 non-null   object \n",
      " 7   A free copy of Mastering The Interview  9240 non-null   object \n",
      "dtypes: float64(2), int64(2), object(4)\n",
      "memory usage: 577.6+ KB\n"
     ]
    }
   ],
   "source": [
    "data_select.info()"
   ]
  },
  {
   "cell_type": "markdown",
   "id": "3f7911c3",
   "metadata": {},
   "source": [
    "### As we see there some null values in considered features, lets remove all those rows as these are insignificant in numbers"
   ]
  },
  {
   "cell_type": "code",
   "execution_count": 14,
   "id": "88c82fc2",
   "metadata": {},
   "outputs": [
    {
     "data": {
      "text/plain": [
       "Lead Source                                 36\n",
       "Converted                                    0\n",
       "TotalVisits                                137\n",
       "Total Time Spent on Website                  0\n",
       "Page Views Per Visit                       137\n",
       "Last Activity                              103\n",
       "What is your current occupation           2690\n",
       "A free copy of Mastering The Interview       0\n",
       "dtype: int64"
      ]
     },
     "execution_count": 14,
     "metadata": {},
     "output_type": "execute_result"
    }
   ],
   "source": [
    "data_select.isna().sum()"
   ]
  },
  {
   "cell_type": "code",
   "execution_count": 15,
   "id": "433dd7c1",
   "metadata": {},
   "outputs": [],
   "source": [
    "data_select['What is your current occupation'].fillna('Not_updated', inplace=True)"
   ]
  },
  {
   "cell_type": "code",
   "execution_count": 16,
   "id": "bdc0ee39",
   "metadata": {},
   "outputs": [
    {
     "data": {
      "text/plain": [
       "Lead Source                                36\n",
       "Converted                                   0\n",
       "TotalVisits                               137\n",
       "Total Time Spent on Website                 0\n",
       "Page Views Per Visit                      137\n",
       "Last Activity                             103\n",
       "What is your current occupation             0\n",
       "A free copy of Mastering The Interview      0\n",
       "dtype: int64"
      ]
     },
     "execution_count": 16,
     "metadata": {},
     "output_type": "execute_result"
    }
   ],
   "source": [
    "data_select.isna().sum()"
   ]
  },
  {
   "cell_type": "code",
   "execution_count": 17,
   "id": "2f390230",
   "metadata": {},
   "outputs": [
    {
     "data": {
      "text/plain": [
       "(9074, 8)"
      ]
     },
     "execution_count": 17,
     "metadata": {},
     "output_type": "execute_result"
    }
   ],
   "source": [
    "data_select.dropna(inplace=True)\n",
    "data_select.shape"
   ]
  },
  {
   "cell_type": "code",
   "execution_count": 18,
   "id": "6c32f33c",
   "metadata": {},
   "outputs": [
    {
     "name": "stdout",
     "output_type": "stream",
     "text": [
      "<class 'pandas.core.frame.DataFrame'>\n",
      "Int64Index: 9074 entries, 0 to 9239\n",
      "Data columns (total 8 columns):\n",
      " #   Column                                  Non-Null Count  Dtype  \n",
      "---  ------                                  --------------  -----  \n",
      " 0   Lead Source                             9074 non-null   object \n",
      " 1   Converted                               9074 non-null   int64  \n",
      " 2   TotalVisits                             9074 non-null   float64\n",
      " 3   Total Time Spent on Website             9074 non-null   int64  \n",
      " 4   Page Views Per Visit                    9074 non-null   float64\n",
      " 5   Last Activity                           9074 non-null   object \n",
      " 6   What is your current occupation         9074 non-null   object \n",
      " 7   A free copy of Mastering The Interview  9074 non-null   object \n",
      "dtypes: float64(2), int64(2), object(4)\n",
      "memory usage: 638.0+ KB\n"
     ]
    }
   ],
   "source": [
    "data_select.info()"
   ]
  },
  {
   "cell_type": "code",
   "execution_count": 19,
   "id": "cee88e50",
   "metadata": {},
   "outputs": [
    {
     "data": {
      "image/png": "[encoded data removed]",
      "text/plain": [
       "<Figure size 750x750 with 12 Axes>"
      ]
     },
     "metadata": {},
     "output_type": "display_data"
    }
   ],
   "source": [
    "sns.pairplot(data_select[['TotalVisits','Total Time Spent on Website','Page Views Per Visit']])\n",
    "plt.show()"
   ]
  },
  {
   "cell_type": "markdown",
   "id": "f091aabe",
   "metadata": {},
   "source": [
    "### Lets check for outliers"
   ]
  },
  {
   "cell_type": "code",
   "execution_count": 20,
   "id": "aa865009",
   "metadata": {},
   "outputs": [
    {
     "name": "stderr",
     "output_type": "stream",
     "text": [
      "C:\\Users\\HP\\anaconda3\\lib\\site-packages\\seaborn\\_decorators.py:36: FutureWarning: Pass the following variable as a keyword arg: x. From version 0.12, the only valid positional argument will be `data`, and passing other arguments without an explicit keyword will result in an error or misinterpretation.\n",
      "  warnings.warn(\n"
     ]
    },
    {
     "data": {
      "image/png": "[encoded data removed]",
      "text/plain": [
       "<Figure size 640x480 with 1 Axes>"
      ]
     },
     "metadata": {},
     "output_type": "display_data"
    }
   ],
   "source": [
    "# We removed rows where totalvisits are above 50 as outliers\n",
    "\n",
    "data_outlier = data_select[data_select['TotalVisits']<50]\n",
    "sns.boxplot(data_outlier['TotalVisits'])\n",
    "plt.show()"
   ]
  },
  {
   "cell_type": "code",
   "execution_count": 21,
   "id": "3a43a26d",
   "metadata": {},
   "outputs": [
    {
     "data": {
      "text/plain": [
       "(9068, 8)"
      ]
     },
     "execution_count": 21,
     "metadata": {},
     "output_type": "execute_result"
    }
   ],
   "source": [
    "data_outlier.shape"
   ]
  },
  {
   "cell_type": "code",
   "execution_count": 22,
   "id": "28c10ce2",
   "metadata": {},
   "outputs": [
    {
     "name": "stderr",
     "output_type": "stream",
     "text": [
      "C:\\Users\\HP\\anaconda3\\lib\\site-packages\\seaborn\\_decorators.py:36: FutureWarning: Pass the following variable as a keyword arg: x. From version 0.12, the only valid positional argument will be `data`, and passing other arguments without an explicit keyword will result in an error or misinterpretation.\n",
      "  warnings.warn(\n"
     ]
    },
    {
     "data": {
      "image/png": "[encoded data removed]",
      "text/plain": [
       "<Figure size 640x480 with 1 Axes>"
      ]
     },
     "metadata": {},
     "output_type": "display_data"
    }
   ],
   "source": [
    "sns.boxplot(data_outlier['Total Time Spent on Website'])\n",
    "plt.show()"
   ]
  },
  {
   "cell_type": "code",
   "execution_count": 23,
   "id": "3eb66172",
   "metadata": {},
   "outputs": [
    {
     "name": "stderr",
     "output_type": "stream",
     "text": [
      "C:\\Users\\HP\\anaconda3\\lib\\site-packages\\seaborn\\_decorators.py:36: FutureWarning: Pass the following variable as a keyword arg: x. From version 0.12, the only valid positional argument will be `data`, and passing other arguments without an explicit keyword will result in an error or misinterpretation.\n",
      "  warnings.warn(\n"
     ]
    },
    {
     "data": {
      "image/png": "[encoded data removed]",
      "text/plain": [
       "<Figure size 640x480 with 1 Axes>"
      ]
     },
     "metadata": {},
     "output_type": "display_data"
    }
   ],
   "source": [
    "# We removed rows where Page views per visit are above 20 as outliers\n",
    "\n",
    "data_outlier = data_outlier[data_outlier['Page Views Per Visit']<20]\n",
    "sns.boxplot(data_outlier['Page Views Per Visit'])\n",
    "plt.show()"
   ]
  },
  {
   "cell_type": "code",
   "execution_count": 24,
   "id": "41a487ee",
   "metadata": {},
   "outputs": [
    {
     "data": {
      "text/plain": [
       "(9067, 8)"
      ]
     },
     "execution_count": 24,
     "metadata": {},
     "output_type": "execute_result"
    }
   ],
   "source": [
    "data_outlier.shape"
   ]
  },
  {
   "cell_type": "code",
   "execution_count": 25,
   "id": "16203bb5",
   "metadata": {},
   "outputs": [
    {
     "data": {
      "text/html": [
       "<div>\n",
       "<style scoped>\n",
       "    .dataframe tbody tr th:only-of-type {\n",
       "        vertical-align: middle;\n",
       "    }\n",
       "\n",
       "    .dataframe tbody tr th {\n",
       "        vertical-align: top;\n",
       "    }\n",
       "\n",
       "    .dataframe thead th {\n",
       "        text-align: right;\n",
       "    }\n",
       "</style>\n",
       "<table border=\"1\" class=\"dataframe\">\n",
       "  <thead>\n",
       "    <tr style=\"text-align: right;\">\n",
       "      <th></th>\n",
       "      <th>Lead Source</th>\n",
       "      <th>Converted</th>\n",
       "      <th>TotalVisits</th>\n",
       "      <th>Total Time Spent on Website</th>\n",
       "      <th>Page Views Per Visit</th>\n",
       "      <th>Last Activity</th>\n",
       "      <th>What is your current occupation</th>\n",
       "      <th>A free copy of Mastering The Interview</th>\n",
       "    </tr>\n",
       "  </thead>\n",
       "  <tbody>\n",
       "    <tr>\n",
       "      <th>0</th>\n",
       "      <td>Olark Chat</td>\n",
       "      <td>0</td>\n",
       "      <td>0.0</td>\n",
       "      <td>0</td>\n",
       "      <td>0.0</td>\n",
       "      <td>Page Visited on Website</td>\n",
       "      <td>Unemployed</td>\n",
       "      <td>No</td>\n",
       "    </tr>\n",
       "    <tr>\n",
       "      <th>1</th>\n",
       "      <td>Organic Search</td>\n",
       "      <td>0</td>\n",
       "      <td>5.0</td>\n",
       "      <td>674</td>\n",
       "      <td>2.5</td>\n",
       "      <td>Email Opened</td>\n",
       "      <td>Unemployed</td>\n",
       "      <td>No</td>\n",
       "    </tr>\n",
       "    <tr>\n",
       "      <th>2</th>\n",
       "      <td>Direct Traffic</td>\n",
       "      <td>1</td>\n",
       "      <td>2.0</td>\n",
       "      <td>1532</td>\n",
       "      <td>2.0</td>\n",
       "      <td>Email Opened</td>\n",
       "      <td>Student</td>\n",
       "      <td>Yes</td>\n",
       "    </tr>\n",
       "    <tr>\n",
       "      <th>3</th>\n",
       "      <td>Direct Traffic</td>\n",
       "      <td>0</td>\n",
       "      <td>1.0</td>\n",
       "      <td>305</td>\n",
       "      <td>1.0</td>\n",
       "      <td>Unreachable</td>\n",
       "      <td>Unemployed</td>\n",
       "      <td>No</td>\n",
       "    </tr>\n",
       "    <tr>\n",
       "      <th>4</th>\n",
       "      <td>Google</td>\n",
       "      <td>1</td>\n",
       "      <td>2.0</td>\n",
       "      <td>1428</td>\n",
       "      <td>1.0</td>\n",
       "      <td>Converted to Lead</td>\n",
       "      <td>Unemployed</td>\n",
       "      <td>No</td>\n",
       "    </tr>\n",
       "  </tbody>\n",
       "</table>\n",
       "</div>"
      ],
      "text/plain": [
       "      Lead Source  Converted  TotalVisits  Total Time Spent on Website  \\\n",
       "0      Olark Chat          0          0.0                            0   \n",
       "1  Organic Search          0          5.0                          674   \n",
       "2  Direct Traffic          1          2.0                         1532   \n",
       "3  Direct Traffic          0          1.0                          305   \n",
       "4          Google          1          2.0                         1428   \n",
       "\n",
       "   Page Views Per Visit            Last Activity  \\\n",
       "0                   0.0  Page Visited on Website   \n",
       "1                   2.5             Email Opened   \n",
       "2                   2.0             Email Opened   \n",
       "3                   1.0              Unreachable   \n",
       "4                   1.0        Converted to Lead   \n",
       "\n",
       "  What is your current occupation A free copy of Mastering The Interview  \n",
       "0                      Unemployed                                     No  \n",
       "1                      Unemployed                                     No  \n",
       "2                         Student                                    Yes  \n",
       "3                      Unemployed                                     No  \n",
       "4                      Unemployed                                     No  "
      ]
     },
     "execution_count": 25,
     "metadata": {},
     "output_type": "execute_result"
    }
   ],
   "source": [
    "data_outlier.head()"
   ]
  },
  {
   "cell_type": "code",
   "execution_count": 26,
   "id": "ec0bc55c",
   "metadata": {},
   "outputs": [
    {
     "name": "stdout",
     "output_type": "stream",
     "text": [
      "<class 'pandas.core.frame.DataFrame'>\n",
      "Int64Index: 9067 entries, 0 to 9239\n",
      "Data columns (total 8 columns):\n",
      " #   Column                                  Non-Null Count  Dtype  \n",
      "---  ------                                  --------------  -----  \n",
      " 0   Lead Source                             9067 non-null   object \n",
      " 1   Converted                               9067 non-null   int64  \n",
      " 2   TotalVisits                             9067 non-null   float64\n",
      " 3   Total Time Spent on Website             9067 non-null   int64  \n",
      " 4   Page Views Per Visit                    9067 non-null   float64\n",
      " 5   Last Activity                           9067 non-null   object \n",
      " 6   What is your current occupation         9067 non-null   object \n",
      " 7   A free copy of Mastering The Interview  9067 non-null   object \n",
      "dtypes: float64(2), int64(2), object(4)\n",
      "memory usage: 637.5+ KB\n"
     ]
    }
   ],
   "source": [
    "data_outlier.info()"
   ]
  },
  {
   "cell_type": "code",
   "execution_count": 27,
   "id": "ac381fae",
   "metadata": {},
   "outputs": [],
   "source": [
    "data_final = data_outlier"
   ]
  },
  {
   "cell_type": "markdown",
   "id": "4f6f6048",
   "metadata": {},
   "source": [
    "## 2. Doing EDA"
   ]
  },
  {
   "cell_type": "code",
   "execution_count": 28,
   "id": "3e43d196",
   "metadata": {},
   "outputs": [],
   "source": [
    "# We got our data after treating outliers, missing values, now lets get some insights of data"
   ]
  },
  {
   "cell_type": "code",
   "execution_count": 29,
   "id": "b224e509",
   "metadata": {},
   "outputs": [
    {
     "data": {
      "text/plain": [
       "Index(['Lead Source', 'Converted', 'TotalVisits',\n",
       "       'Total Time Spent on Website', 'Page Views Per Visit', 'Last Activity',\n",
       "       'What is your current occupation',\n",
       "       'A free copy of Mastering The Interview'],\n",
       "      dtype='object')"
      ]
     },
     "execution_count": 29,
     "metadata": {},
     "output_type": "execute_result"
    }
   ],
   "source": [
    "data_final.columns"
   ]
  },
  {
   "cell_type": "markdown",
   "id": "2c7a4cd6",
   "metadata": {},
   "source": [
    "#### Highest leads are from Google, direct"
   ]
  },
  {
   "cell_type": "code",
   "execution_count": 30,
   "id": "ea6efc50",
   "metadata": {},
   "outputs": [
    {
     "data": {
      "image/png": "[encoded data removed]",
      "text/plain": [
       "<Figure size 640x480 with 1 Axes>"
      ]
     },
     "metadata": {},
     "output_type": "display_data"
    }
   ],
   "source": [
    "data_final[['Lead Source','Converted']].groupby([\"Lead Source\"]).sum().sort_values(by = 'Converted', ascending=False).plot.barh()\n",
    "plt.show()"
   ]
  },
  {
   "cell_type": "markdown",
   "id": "8e46d994",
   "metadata": {},
   "source": [
    "#### We can see more people are spending very less time on the website"
   ]
  },
  {
   "cell_type": "code",
   "execution_count": 31,
   "id": "56fa5fa0",
   "metadata": {},
   "outputs": [
    {
     "data": {
      "image/png": "[encoded data removed]",
      "text/plain": [
       "<Figure size 640x480 with 1 Axes>"
      ]
     },
     "metadata": {},
     "output_type": "display_data"
    }
   ],
   "source": [
    "sns.histplot(data_final['Total Time Spent on Website'], bins=10)\n",
    "plt.show()\n"
   ]
  },
  {
   "cell_type": "code",
   "execution_count": 32,
   "id": "147bbd9e",
   "metadata": {},
   "outputs": [
    {
     "data": {
      "text/plain": [
       "count    9067.000000\n",
       "mean        3.379949\n",
       "std         3.497408\n",
       "min         0.000000\n",
       "25%         1.000000\n",
       "50%         3.000000\n",
       "75%         5.000000\n",
       "max        43.000000\n",
       "Name: TotalVisits, dtype: float64"
      ]
     },
     "execution_count": 32,
     "metadata": {},
     "output_type": "execute_result"
    }
   ],
   "source": [
    "data_outlier['TotalVisits'].describe()"
   ]
  },
  {
   "cell_type": "code",
   "execution_count": 33,
   "id": "7f34e8e0",
   "metadata": {},
   "outputs": [
    {
     "data": {
      "image/png": "[encoded data removed]",
      "text/plain": [
       "<Figure size 640x480 with 1 Axes>"
      ]
     },
     "metadata": {},
     "output_type": "display_data"
    }
   ],
   "source": [
    "sns.histplot(data_final['Page Views Per Visit'], bins=10)\n",
    "plt.show()\n",
    "\n",
    "# We can see people tend to visit 2-3 pages and leave the website"
   ]
  },
  {
   "cell_type": "markdown",
   "id": "d137e407",
   "metadata": {},
   "source": [
    "#### Most of leads converetd are unemployed and working professional"
   ]
  },
  {
   "cell_type": "code",
   "execution_count": 34,
   "id": "aab69588",
   "metadata": {},
   "outputs": [
    {
     "data": {
      "image/png": "[encoded data removed]",
      "text/plain": [
       "<Figure size 640x480 with 1 Axes>"
      ]
     },
     "metadata": {},
     "output_type": "display_data"
    }
   ],
   "source": [
    "data_final[['What is your current occupation','Converted']].groupby([\"What is your current occupation\"]).sum().sort_values(by = 'Converted', ascending=False).plot.barh()\n",
    "plt.ylabel('Current Occupation')\n",
    "plt.show()"
   ]
  },
  {
   "cell_type": "code",
   "execution_count": 35,
   "id": "7a48ff53",
   "metadata": {},
   "outputs": [
    {
     "data": {
      "image/png": "[encoded data removed]",
      "text/plain": [
       "<Figure size 640x480 with 1 Axes>"
      ]
     },
     "metadata": {},
     "output_type": "display_data"
    }
   ],
   "source": [
    "data_final[['Last Activity','Converted']].groupby([\"Last Activity\"]).sum().sort_values(by = 'Converted', ascending=False).plot.barh()\n",
    "\n",
    "plt.show()"
   ]
  },
  {
   "cell_type": "code",
   "execution_count": 36,
   "id": "99d4eee4",
   "metadata": {},
   "outputs": [
    {
     "data": {
      "text/plain": [
       "(9067, 8)"
      ]
     },
     "execution_count": 36,
     "metadata": {},
     "output_type": "execute_result"
    }
   ],
   "source": [
    "data_final.shape"
   ]
  },
  {
   "cell_type": "markdown",
   "id": "8451d86b",
   "metadata": {},
   "source": [
    "### 3. Data preparation creating dummy variables, scaling numeric variables"
   ]
  },
  {
   "cell_type": "code",
   "execution_count": 37,
   "id": "3c652c69",
   "metadata": {},
   "outputs": [],
   "source": [
    "# Creating a dummy variable for some of the categorical variables and dropping the first one.\n",
    "data_dummy = pd.get_dummies(data_final[['Lead Source', 'Last Activity', 'What is your current occupation']], drop_first=True)\n",
    "\n",
    "# Adding the results to the master dataframe\n",
    "data_final = pd.concat([data_final, data_dummy], axis=1)"
   ]
  },
  {
   "cell_type": "code",
   "execution_count": 38,
   "id": "5e990e86",
   "metadata": {},
   "outputs": [
    {
     "name": "stderr",
     "output_type": "stream",
     "text": [
      "C:\\Users\\HP\\AppData\\Local\\Temp\\ipykernel_19200\\566490658.py:2: FutureWarning: In a future version of pandas all arguments of DataFrame.drop except for the argument 'labels' will be keyword-only.\n",
      "  data_final = data_final.drop(['Lead Source', 'Last Activity', 'What is your current occupation'], 1)\n"
     ]
    }
   ],
   "source": [
    "# We have created dummies for the below variables, so we can drop them\n",
    "data_final = data_final.drop(['Lead Source', 'Last Activity', 'What is your current occupation'], 1)"
   ]
  },
  {
   "cell_type": "code",
   "execution_count": 39,
   "id": "86c056c4",
   "metadata": {},
   "outputs": [
    {
     "data": {
      "text/html": [
       "<div>\n",
       "<style scoped>\n",
       "    .dataframe tbody tr th:only-of-type {\n",
       "        vertical-align: middle;\n",
       "    }\n",
       "\n",
       "    .dataframe tbody tr th {\n",
       "        vertical-align: top;\n",
       "    }\n",
       "\n",
       "    .dataframe thead th {\n",
       "        text-align: right;\n",
       "    }\n",
       "</style>\n",
       "<table border=\"1\" class=\"dataframe\">\n",
       "  <thead>\n",
       "    <tr style=\"text-align: right;\">\n",
       "      <th></th>\n",
       "      <th>Converted</th>\n",
       "      <th>TotalVisits</th>\n",
       "      <th>Total Time Spent on Website</th>\n",
       "      <th>Page Views Per Visit</th>\n",
       "      <th>A free copy of Mastering The Interview</th>\n",
       "      <th>Lead Source_Direct Traffic</th>\n",
       "      <th>Lead Source_Facebook</th>\n",
       "      <th>Lead Source_Google</th>\n",
       "      <th>Lead Source_Live Chat</th>\n",
       "      <th>Lead Source_NC_EDM</th>\n",
       "      <th>...</th>\n",
       "      <th>Last Activity_Unreachable</th>\n",
       "      <th>Last Activity_Unsubscribed</th>\n",
       "      <th>Last Activity_View in browser link Clicked</th>\n",
       "      <th>Last Activity_Visited Booth in Tradeshow</th>\n",
       "      <th>What is your current occupation_Housewife</th>\n",
       "      <th>What is your current occupation_Not_updated</th>\n",
       "      <th>What is your current occupation_Other</th>\n",
       "      <th>What is your current occupation_Student</th>\n",
       "      <th>What is your current occupation_Unemployed</th>\n",
       "      <th>What is your current occupation_Working Professional</th>\n",
       "    </tr>\n",
       "  </thead>\n",
       "  <tbody>\n",
       "    <tr>\n",
       "      <th>0</th>\n",
       "      <td>0</td>\n",
       "      <td>0.0</td>\n",
       "      <td>0</td>\n",
       "      <td>0.0</td>\n",
       "      <td>No</td>\n",
       "      <td>0</td>\n",
       "      <td>0</td>\n",
       "      <td>0</td>\n",
       "      <td>0</td>\n",
       "      <td>0</td>\n",
       "      <td>...</td>\n",
       "      <td>0</td>\n",
       "      <td>0</td>\n",
       "      <td>0</td>\n",
       "      <td>0</td>\n",
       "      <td>0</td>\n",
       "      <td>0</td>\n",
       "      <td>0</td>\n",
       "      <td>0</td>\n",
       "      <td>1</td>\n",
       "      <td>0</td>\n",
       "    </tr>\n",
       "    <tr>\n",
       "      <th>1</th>\n",
       "      <td>0</td>\n",
       "      <td>5.0</td>\n",
       "      <td>674</td>\n",
       "      <td>2.5</td>\n",
       "      <td>No</td>\n",
       "      <td>0</td>\n",
       "      <td>0</td>\n",
       "      <td>0</td>\n",
       "      <td>0</td>\n",
       "      <td>0</td>\n",
       "      <td>...</td>\n",
       "      <td>0</td>\n",
       "      <td>0</td>\n",
       "      <td>0</td>\n",
       "      <td>0</td>\n",
       "      <td>0</td>\n",
       "      <td>0</td>\n",
       "      <td>0</td>\n",
       "      <td>0</td>\n",
       "      <td>1</td>\n",
       "      <td>0</td>\n",
       "    </tr>\n",
       "    <tr>\n",
       "      <th>2</th>\n",
       "      <td>1</td>\n",
       "      <td>2.0</td>\n",
       "      <td>1532</td>\n",
       "      <td>2.0</td>\n",
       "      <td>Yes</td>\n",
       "      <td>1</td>\n",
       "      <td>0</td>\n",
       "      <td>0</td>\n",
       "      <td>0</td>\n",
       "      <td>0</td>\n",
       "      <td>...</td>\n",
       "      <td>0</td>\n",
       "      <td>0</td>\n",
       "      <td>0</td>\n",
       "      <td>0</td>\n",
       "      <td>0</td>\n",
       "      <td>0</td>\n",
       "      <td>0</td>\n",
       "      <td>1</td>\n",
       "      <td>0</td>\n",
       "      <td>0</td>\n",
       "    </tr>\n",
       "    <tr>\n",
       "      <th>3</th>\n",
       "      <td>0</td>\n",
       "      <td>1.0</td>\n",
       "      <td>305</td>\n",
       "      <td>1.0</td>\n",
       "      <td>No</td>\n",
       "      <td>1</td>\n",
       "      <td>0</td>\n",
       "      <td>0</td>\n",
       "      <td>0</td>\n",
       "      <td>0</td>\n",
       "      <td>...</td>\n",
       "      <td>1</td>\n",
       "      <td>0</td>\n",
       "      <td>0</td>\n",
       "      <td>0</td>\n",
       "      <td>0</td>\n",
       "      <td>0</td>\n",
       "      <td>0</td>\n",
       "      <td>0</td>\n",
       "      <td>1</td>\n",
       "      <td>0</td>\n",
       "    </tr>\n",
       "    <tr>\n",
       "      <th>4</th>\n",
       "      <td>1</td>\n",
       "      <td>2.0</td>\n",
       "      <td>1428</td>\n",
       "      <td>1.0</td>\n",
       "      <td>No</td>\n",
       "      <td>0</td>\n",
       "      <td>0</td>\n",
       "      <td>1</td>\n",
       "      <td>0</td>\n",
       "      <td>0</td>\n",
       "      <td>...</td>\n",
       "      <td>0</td>\n",
       "      <td>0</td>\n",
       "      <td>0</td>\n",
       "      <td>0</td>\n",
       "      <td>0</td>\n",
       "      <td>0</td>\n",
       "      <td>0</td>\n",
       "      <td>0</td>\n",
       "      <td>1</td>\n",
       "      <td>0</td>\n",
       "    </tr>\n",
       "  </tbody>\n",
       "</table>\n",
       "<p>5 rows × 47 columns</p>\n",
       "</div>"
      ],
      "text/plain": [
       "   Converted  TotalVisits  Total Time Spent on Website  Page Views Per Visit  \\\n",
       "0          0          0.0                            0                   0.0   \n",
       "1          0          5.0                          674                   2.5   \n",
       "2          1          2.0                         1532                   2.0   \n",
       "3          0          1.0                          305                   1.0   \n",
       "4          1          2.0                         1428                   1.0   \n",
       "\n",
       "  A free copy of Mastering The Interview  Lead Source_Direct Traffic  \\\n",
       "0                                     No                           0   \n",
       "1                                     No                           0   \n",
       "2                                    Yes                           1   \n",
       "3                                     No                           1   \n",
       "4                                     No                           0   \n",
       "\n",
       "   Lead Source_Facebook  Lead Source_Google  Lead Source_Live Chat  \\\n",
       "0                     0                   0                      0   \n",
       "1                     0                   0                      0   \n",
       "2                     0                   0                      0   \n",
       "3                     0                   0                      0   \n",
       "4                     0                   1                      0   \n",
       "\n",
       "   Lead Source_NC_EDM  ...  Last Activity_Unreachable  \\\n",
       "0                   0  ...                          0   \n",
       "1                   0  ...                          0   \n",
       "2                   0  ...                          0   \n",
       "3                   0  ...                          1   \n",
       "4                   0  ...                          0   \n",
       "\n",
       "   Last Activity_Unsubscribed  Last Activity_View in browser link Clicked  \\\n",
       "0                           0                                           0   \n",
       "1                           0                                           0   \n",
       "2                           0                                           0   \n",
       "3                           0                                           0   \n",
       "4                           0                                           0   \n",
       "\n",
       "   Last Activity_Visited Booth in Tradeshow  \\\n",
       "0                                         0   \n",
       "1                                         0   \n",
       "2                                         0   \n",
       "3                                         0   \n",
       "4                                         0   \n",
       "\n",
       "   What is your current occupation_Housewife  \\\n",
       "0                                          0   \n",
       "1                                          0   \n",
       "2                                          0   \n",
       "3                                          0   \n",
       "4                                          0   \n",
       "\n",
       "   What is your current occupation_Not_updated  \\\n",
       "0                                            0   \n",
       "1                                            0   \n",
       "2                                            0   \n",
       "3                                            0   \n",
       "4                                            0   \n",
       "\n",
       "   What is your current occupation_Other  \\\n",
       "0                                      0   \n",
       "1                                      0   \n",
       "2                                      0   \n",
       "3                                      0   \n",
       "4                                      0   \n",
       "\n",
       "   What is your current occupation_Student  \\\n",
       "0                                        0   \n",
       "1                                        0   \n",
       "2                                        1   \n",
       "3                                        0   \n",
       "4                                        0   \n",
       "\n",
       "   What is your current occupation_Unemployed  \\\n",
       "0                                           1   \n",
       "1                                           1   \n",
       "2                                           0   \n",
       "3                                           1   \n",
       "4                                           1   \n",
       "\n",
       "   What is your current occupation_Working Professional  \n",
       "0                                                  0     \n",
       "1                                                  0     \n",
       "2                                                  0     \n",
       "3                                                  0     \n",
       "4                                                  0     \n",
       "\n",
       "[5 rows x 47 columns]"
      ]
     },
     "execution_count": 39,
     "metadata": {},
     "output_type": "execute_result"
    }
   ],
   "source": [
    "data_final.head()"
   ]
  },
  {
   "cell_type": "code",
   "execution_count": 40,
   "id": "829930d8",
   "metadata": {},
   "outputs": [],
   "source": [
    "# List of variables to map\n",
    "\n",
    "varlist =  ['A free copy of Mastering The Interview']\n",
    "\n",
    "# Defining the map function\n",
    "def binary_map(x):\n",
    "    return x.map({'Yes': 1, \"No\": 0})\n",
    "\n",
    "# Applying the function to the housing list\n",
    "data_final[varlist] = data_final[varlist].apply(binary_map)"
   ]
  },
  {
   "cell_type": "code",
   "execution_count": 41,
   "id": "8f1b6702",
   "metadata": {},
   "outputs": [
    {
     "data": {
      "text/html": [
       "<div>\n",
       "<style scoped>\n",
       "    .dataframe tbody tr th:only-of-type {\n",
       "        vertical-align: middle;\n",
       "    }\n",
       "\n",
       "    .dataframe tbody tr th {\n",
       "        vertical-align: top;\n",
       "    }\n",
       "\n",
       "    .dataframe thead th {\n",
       "        text-align: right;\n",
       "    }\n",
       "</style>\n",
       "<table border=\"1\" class=\"dataframe\">\n",
       "  <thead>\n",
       "    <tr style=\"text-align: right;\">\n",
       "      <th></th>\n",
       "      <th>Converted</th>\n",
       "      <th>TotalVisits</th>\n",
       "      <th>Total Time Spent on Website</th>\n",
       "      <th>Page Views Per Visit</th>\n",
       "      <th>A free copy of Mastering The Interview</th>\n",
       "      <th>Lead Source_Direct Traffic</th>\n",
       "      <th>Lead Source_Facebook</th>\n",
       "      <th>Lead Source_Google</th>\n",
       "      <th>Lead Source_Live Chat</th>\n",
       "      <th>Lead Source_NC_EDM</th>\n",
       "      <th>...</th>\n",
       "      <th>Last Activity_Unreachable</th>\n",
       "      <th>Last Activity_Unsubscribed</th>\n",
       "      <th>Last Activity_View in browser link Clicked</th>\n",
       "      <th>Last Activity_Visited Booth in Tradeshow</th>\n",
       "      <th>What is your current occupation_Housewife</th>\n",
       "      <th>What is your current occupation_Not_updated</th>\n",
       "      <th>What is your current occupation_Other</th>\n",
       "      <th>What is your current occupation_Student</th>\n",
       "      <th>What is your current occupation_Unemployed</th>\n",
       "      <th>What is your current occupation_Working Professional</th>\n",
       "    </tr>\n",
       "  </thead>\n",
       "  <tbody>\n",
       "    <tr>\n",
       "      <th>0</th>\n",
       "      <td>0</td>\n",
       "      <td>0.0</td>\n",
       "      <td>0</td>\n",
       "      <td>0.0</td>\n",
       "      <td>0</td>\n",
       "      <td>0</td>\n",
       "      <td>0</td>\n",
       "      <td>0</td>\n",
       "      <td>0</td>\n",
       "      <td>0</td>\n",
       "      <td>...</td>\n",
       "      <td>0</td>\n",
       "      <td>0</td>\n",
       "      <td>0</td>\n",
       "      <td>0</td>\n",
       "      <td>0</td>\n",
       "      <td>0</td>\n",
       "      <td>0</td>\n",
       "      <td>0</td>\n",
       "      <td>1</td>\n",
       "      <td>0</td>\n",
       "    </tr>\n",
       "    <tr>\n",
       "      <th>1</th>\n",
       "      <td>0</td>\n",
       "      <td>5.0</td>\n",
       "      <td>674</td>\n",
       "      <td>2.5</td>\n",
       "      <td>0</td>\n",
       "      <td>0</td>\n",
       "      <td>0</td>\n",
       "      <td>0</td>\n",
       "      <td>0</td>\n",
       "      <td>0</td>\n",
       "      <td>...</td>\n",
       "      <td>0</td>\n",
       "      <td>0</td>\n",
       "      <td>0</td>\n",
       "      <td>0</td>\n",
       "      <td>0</td>\n",
       "      <td>0</td>\n",
       "      <td>0</td>\n",
       "      <td>0</td>\n",
       "      <td>1</td>\n",
       "      <td>0</td>\n",
       "    </tr>\n",
       "    <tr>\n",
       "      <th>2</th>\n",
       "      <td>1</td>\n",
       "      <td>2.0</td>\n",
       "      <td>1532</td>\n",
       "      <td>2.0</td>\n",
       "      <td>1</td>\n",
       "      <td>1</td>\n",
       "      <td>0</td>\n",
       "      <td>0</td>\n",
       "      <td>0</td>\n",
       "      <td>0</td>\n",
       "      <td>...</td>\n",
       "      <td>0</td>\n",
       "      <td>0</td>\n",
       "      <td>0</td>\n",
       "      <td>0</td>\n",
       "      <td>0</td>\n",
       "      <td>0</td>\n",
       "      <td>0</td>\n",
       "      <td>1</td>\n",
       "      <td>0</td>\n",
       "      <td>0</td>\n",
       "    </tr>\n",
       "    <tr>\n",
       "      <th>3</th>\n",
       "      <td>0</td>\n",
       "      <td>1.0</td>\n",
       "      <td>305</td>\n",
       "      <td>1.0</td>\n",
       "      <td>0</td>\n",
       "      <td>1</td>\n",
       "      <td>0</td>\n",
       "      <td>0</td>\n",
       "      <td>0</td>\n",
       "      <td>0</td>\n",
       "      <td>...</td>\n",
       "      <td>1</td>\n",
       "      <td>0</td>\n",
       "      <td>0</td>\n",
       "      <td>0</td>\n",
       "      <td>0</td>\n",
       "      <td>0</td>\n",
       "      <td>0</td>\n",
       "      <td>0</td>\n",
       "      <td>1</td>\n",
       "      <td>0</td>\n",
       "    </tr>\n",
       "    <tr>\n",
       "      <th>4</th>\n",
       "      <td>1</td>\n",
       "      <td>2.0</td>\n",
       "      <td>1428</td>\n",
       "      <td>1.0</td>\n",
       "      <td>0</td>\n",
       "      <td>0</td>\n",
       "      <td>0</td>\n",
       "      <td>1</td>\n",
       "      <td>0</td>\n",
       "      <td>0</td>\n",
       "      <td>...</td>\n",
       "      <td>0</td>\n",
       "      <td>0</td>\n",
       "      <td>0</td>\n",
       "      <td>0</td>\n",
       "      <td>0</td>\n",
       "      <td>0</td>\n",
       "      <td>0</td>\n",
       "      <td>0</td>\n",
       "      <td>1</td>\n",
       "      <td>0</td>\n",
       "    </tr>\n",
       "  </tbody>\n",
       "</table>\n",
       "<p>5 rows × 47 columns</p>\n",
       "</div>"
      ],
      "text/plain": [
       "   Converted  TotalVisits  Total Time Spent on Website  Page Views Per Visit  \\\n",
       "0          0          0.0                            0                   0.0   \n",
       "1          0          5.0                          674                   2.5   \n",
       "2          1          2.0                         1532                   2.0   \n",
       "3          0          1.0                          305                   1.0   \n",
       "4          1          2.0                         1428                   1.0   \n",
       "\n",
       "   A free copy of Mastering The Interview  Lead Source_Direct Traffic  \\\n",
       "0                                       0                           0   \n",
       "1                                       0                           0   \n",
       "2                                       1                           1   \n",
       "3                                       0                           1   \n",
       "4                                       0                           0   \n",
       "\n",
       "   Lead Source_Facebook  Lead Source_Google  Lead Source_Live Chat  \\\n",
       "0                     0                   0                      0   \n",
       "1                     0                   0                      0   \n",
       "2                     0                   0                      0   \n",
       "3                     0                   0                      0   \n",
       "4                     0                   1                      0   \n",
       "\n",
       "   Lead Source_NC_EDM  ...  Last Activity_Unreachable  \\\n",
       "0                   0  ...                          0   \n",
       "1                   0  ...                          0   \n",
       "2                   0  ...                          0   \n",
       "3                   0  ...                          1   \n",
       "4                   0  ...                          0   \n",
       "\n",
       "   Last Activity_Unsubscribed  Last Activity_View in browser link Clicked  \\\n",
       "0                           0                                           0   \n",
       "1                           0                                           0   \n",
       "2                           0                                           0   \n",
       "3                           0                                           0   \n",
       "4                           0                                           0   \n",
       "\n",
       "   Last Activity_Visited Booth in Tradeshow  \\\n",
       "0                                         0   \n",
       "1                                         0   \n",
       "2                                         0   \n",
       "3                                         0   \n",
       "4                                         0   \n",
       "\n",
       "   What is your current occupation_Housewife  \\\n",
       "0                                          0   \n",
       "1                                          0   \n",
       "2                                          0   \n",
       "3                                          0   \n",
       "4                                          0   \n",
       "\n",
       "   What is your current occupation_Not_updated  \\\n",
       "0                                            0   \n",
       "1                                            0   \n",
       "2                                            0   \n",
       "3                                            0   \n",
       "4                                            0   \n",
       "\n",
       "   What is your current occupation_Other  \\\n",
       "0                                      0   \n",
       "1                                      0   \n",
       "2                                      0   \n",
       "3                                      0   \n",
       "4                                      0   \n",
       "\n",
       "   What is your current occupation_Student  \\\n",
       "0                                        0   \n",
       "1                                        0   \n",
       "2                                        1   \n",
       "3                                        0   \n",
       "4                                        0   \n",
       "\n",
       "   What is your current occupation_Unemployed  \\\n",
       "0                                           1   \n",
       "1                                           1   \n",
       "2                                           0   \n",
       "3                                           1   \n",
       "4                                           1   \n",
       "\n",
       "   What is your current occupation_Working Professional  \n",
       "0                                                  0     \n",
       "1                                                  0     \n",
       "2                                                  0     \n",
       "3                                                  0     \n",
       "4                                                  0     \n",
       "\n",
       "[5 rows x 47 columns]"
      ]
     },
     "execution_count": 41,
     "metadata": {},
     "output_type": "execute_result"
    }
   ],
   "source": [
    "data_final.head()"
   ]
  },
  {
   "cell_type": "code",
   "execution_count": 42,
   "id": "48ea88b1",
   "metadata": {},
   "outputs": [],
   "source": [
    "from sklearn.preprocessing import StandardScaler"
   ]
  },
  {
   "cell_type": "code",
   "execution_count": 43,
   "id": "aed383ea",
   "metadata": {},
   "outputs": [
    {
     "data": {
      "text/html": [
       "<div>\n",
       "<style scoped>\n",
       "    .dataframe tbody tr th:only-of-type {\n",
       "        vertical-align: middle;\n",
       "    }\n",
       "\n",
       "    .dataframe tbody tr th {\n",
       "        vertical-align: top;\n",
       "    }\n",
       "\n",
       "    .dataframe thead th {\n",
       "        text-align: right;\n",
       "    }\n",
       "</style>\n",
       "<table border=\"1\" class=\"dataframe\">\n",
       "  <thead>\n",
       "    <tr style=\"text-align: right;\">\n",
       "      <th></th>\n",
       "      <th>Converted</th>\n",
       "      <th>TotalVisits</th>\n",
       "      <th>Total Time Spent on Website</th>\n",
       "      <th>Page Views Per Visit</th>\n",
       "      <th>A free copy of Mastering The Interview</th>\n",
       "      <th>Lead Source_Direct Traffic</th>\n",
       "      <th>Lead Source_Facebook</th>\n",
       "      <th>Lead Source_Google</th>\n",
       "      <th>Lead Source_Live Chat</th>\n",
       "      <th>Lead Source_NC_EDM</th>\n",
       "      <th>...</th>\n",
       "      <th>Last Activity_Unreachable</th>\n",
       "      <th>Last Activity_Unsubscribed</th>\n",
       "      <th>Last Activity_View in browser link Clicked</th>\n",
       "      <th>Last Activity_Visited Booth in Tradeshow</th>\n",
       "      <th>What is your current occupation_Housewife</th>\n",
       "      <th>What is your current occupation_Not_updated</th>\n",
       "      <th>What is your current occupation_Other</th>\n",
       "      <th>What is your current occupation_Student</th>\n",
       "      <th>What is your current occupation_Unemployed</th>\n",
       "      <th>What is your current occupation_Working Professional</th>\n",
       "    </tr>\n",
       "  </thead>\n",
       "  <tbody>\n",
       "    <tr>\n",
       "      <th>0</th>\n",
       "      <td>0</td>\n",
       "      <td>-0.966469</td>\n",
       "      <td>-0.885366</td>\n",
       "      <td>-1.138182</td>\n",
       "      <td>0</td>\n",
       "      <td>0</td>\n",
       "      <td>0</td>\n",
       "      <td>0</td>\n",
       "      <td>0</td>\n",
       "      <td>0</td>\n",
       "      <td>...</td>\n",
       "      <td>0</td>\n",
       "      <td>0</td>\n",
       "      <td>0</td>\n",
       "      <td>0</td>\n",
       "      <td>0</td>\n",
       "      <td>0</td>\n",
       "      <td>0</td>\n",
       "      <td>0</td>\n",
       "      <td>1</td>\n",
       "      <td>0</td>\n",
       "    </tr>\n",
       "    <tr>\n",
       "      <th>1</th>\n",
       "      <td>0</td>\n",
       "      <td>0.463240</td>\n",
       "      <td>0.350945</td>\n",
       "      <td>0.067722</td>\n",
       "      <td>0</td>\n",
       "      <td>0</td>\n",
       "      <td>0</td>\n",
       "      <td>0</td>\n",
       "      <td>0</td>\n",
       "      <td>0</td>\n",
       "      <td>...</td>\n",
       "      <td>0</td>\n",
       "      <td>0</td>\n",
       "      <td>0</td>\n",
       "      <td>0</td>\n",
       "      <td>0</td>\n",
       "      <td>0</td>\n",
       "      <td>0</td>\n",
       "      <td>0</td>\n",
       "      <td>1</td>\n",
       "      <td>0</td>\n",
       "    </tr>\n",
       "    <tr>\n",
       "      <th>2</th>\n",
       "      <td>1</td>\n",
       "      <td>-0.394585</td>\n",
       "      <td>1.924765</td>\n",
       "      <td>-0.173459</td>\n",
       "      <td>1</td>\n",
       "      <td>1</td>\n",
       "      <td>0</td>\n",
       "      <td>0</td>\n",
       "      <td>0</td>\n",
       "      <td>0</td>\n",
       "      <td>...</td>\n",
       "      <td>0</td>\n",
       "      <td>0</td>\n",
       "      <td>0</td>\n",
       "      <td>0</td>\n",
       "      <td>0</td>\n",
       "      <td>0</td>\n",
       "      <td>0</td>\n",
       "      <td>1</td>\n",
       "      <td>0</td>\n",
       "      <td>0</td>\n",
       "    </tr>\n",
       "    <tr>\n",
       "      <th>3</th>\n",
       "      <td>0</td>\n",
       "      <td>-0.680527</td>\n",
       "      <td>-0.325908</td>\n",
       "      <td>-0.655820</td>\n",
       "      <td>0</td>\n",
       "      <td>1</td>\n",
       "      <td>0</td>\n",
       "      <td>0</td>\n",
       "      <td>0</td>\n",
       "      <td>0</td>\n",
       "      <td>...</td>\n",
       "      <td>1</td>\n",
       "      <td>0</td>\n",
       "      <td>0</td>\n",
       "      <td>0</td>\n",
       "      <td>0</td>\n",
       "      <td>0</td>\n",
       "      <td>0</td>\n",
       "      <td>0</td>\n",
       "      <td>1</td>\n",
       "      <td>0</td>\n",
       "    </tr>\n",
       "    <tr>\n",
       "      <th>4</th>\n",
       "      <td>1</td>\n",
       "      <td>-0.394585</td>\n",
       "      <td>1.733999</td>\n",
       "      <td>-0.655820</td>\n",
       "      <td>0</td>\n",
       "      <td>0</td>\n",
       "      <td>0</td>\n",
       "      <td>1</td>\n",
       "      <td>0</td>\n",
       "      <td>0</td>\n",
       "      <td>...</td>\n",
       "      <td>0</td>\n",
       "      <td>0</td>\n",
       "      <td>0</td>\n",
       "      <td>0</td>\n",
       "      <td>0</td>\n",
       "      <td>0</td>\n",
       "      <td>0</td>\n",
       "      <td>0</td>\n",
       "      <td>1</td>\n",
       "      <td>0</td>\n",
       "    </tr>\n",
       "  </tbody>\n",
       "</table>\n",
       "<p>5 rows × 47 columns</p>\n",
       "</div>"
      ],
      "text/plain": [
       "   Converted  TotalVisits  Total Time Spent on Website  Page Views Per Visit  \\\n",
       "0          0    -0.966469                    -0.885366             -1.138182   \n",
       "1          0     0.463240                     0.350945              0.067722   \n",
       "2          1    -0.394585                     1.924765             -0.173459   \n",
       "3          0    -0.680527                    -0.325908             -0.655820   \n",
       "4          1    -0.394585                     1.733999             -0.655820   \n",
       "\n",
       "   A free copy of Mastering The Interview  Lead Source_Direct Traffic  \\\n",
       "0                                       0                           0   \n",
       "1                                       0                           0   \n",
       "2                                       1                           1   \n",
       "3                                       0                           1   \n",
       "4                                       0                           0   \n",
       "\n",
       "   Lead Source_Facebook  Lead Source_Google  Lead Source_Live Chat  \\\n",
       "0                     0                   0                      0   \n",
       "1                     0                   0                      0   \n",
       "2                     0                   0                      0   \n",
       "3                     0                   0                      0   \n",
       "4                     0                   1                      0   \n",
       "\n",
       "   Lead Source_NC_EDM  ...  Last Activity_Unreachable  \\\n",
       "0                   0  ...                          0   \n",
       "1                   0  ...                          0   \n",
       "2                   0  ...                          0   \n",
       "3                   0  ...                          1   \n",
       "4                   0  ...                          0   \n",
       "\n",
       "   Last Activity_Unsubscribed  Last Activity_View in browser link Clicked  \\\n",
       "0                           0                                           0   \n",
       "1                           0                                           0   \n",
       "2                           0                                           0   \n",
       "3                           0                                           0   \n",
       "4                           0                                           0   \n",
       "\n",
       "   Last Activity_Visited Booth in Tradeshow  \\\n",
       "0                                         0   \n",
       "1                                         0   \n",
       "2                                         0   \n",
       "3                                         0   \n",
       "4                                         0   \n",
       "\n",
       "   What is your current occupation_Housewife  \\\n",
       "0                                          0   \n",
       "1                                          0   \n",
       "2                                          0   \n",
       "3                                          0   \n",
       "4                                          0   \n",
       "\n",
       "   What is your current occupation_Not_updated  \\\n",
       "0                                            0   \n",
       "1                                            0   \n",
       "2                                            0   \n",
       "3                                            0   \n",
       "4                                            0   \n",
       "\n",
       "   What is your current occupation_Other  \\\n",
       "0                                      0   \n",
       "1                                      0   \n",
       "2                                      0   \n",
       "3                                      0   \n",
       "4                                      0   \n",
       "\n",
       "   What is your current occupation_Student  \\\n",
       "0                                        0   \n",
       "1                                        0   \n",
       "2                                        1   \n",
       "3                                        0   \n",
       "4                                        0   \n",
       "\n",
       "   What is your current occupation_Unemployed  \\\n",
       "0                                           1   \n",
       "1                                           1   \n",
       "2                                           0   \n",
       "3                                           1   \n",
       "4                                           1   \n",
       "\n",
       "   What is your current occupation_Working Professional  \n",
       "0                                                  0     \n",
       "1                                                  0     \n",
       "2                                                  0     \n",
       "3                                                  0     \n",
       "4                                                  0     \n",
       "\n",
       "[5 rows x 47 columns]"
      ]
     },
     "execution_count": 43,
     "metadata": {},
     "output_type": "execute_result"
    }
   ],
   "source": [
    "scaler = StandardScaler()\n",
    "\n",
    "data_final[['TotalVisits','Total Time Spent on Website','Page Views Per Visit']] = scaler.fit_transform(data_final[['TotalVisits','Total Time Spent on Website','Page Views Per Visit']])\n",
    "\n",
    "data_final.head()"
   ]
  },
  {
   "cell_type": "code",
   "execution_count": 44,
   "id": "ddc179ab",
   "metadata": {},
   "outputs": [
    {
     "name": "stdout",
     "output_type": "stream",
     "text": [
      "<class 'pandas.core.frame.DataFrame'>\n",
      "Int64Index: 9067 entries, 0 to 9239\n",
      "Data columns (total 47 columns):\n",
      " #   Column                                                Non-Null Count  Dtype  \n",
      "---  ------                                                --------------  -----  \n",
      " 0   Converted                                             9067 non-null   int64  \n",
      " 1   TotalVisits                                           9067 non-null   float64\n",
      " 2   Total Time Spent on Website                           9067 non-null   float64\n",
      " 3   Page Views Per Visit                                  9067 non-null   float64\n",
      " 4   A free copy of Mastering The Interview                9067 non-null   int64  \n",
      " 5   Lead Source_Direct Traffic                            9067 non-null   uint8  \n",
      " 6   Lead Source_Facebook                                  9067 non-null   uint8  \n",
      " 7   Lead Source_Google                                    9067 non-null   uint8  \n",
      " 8   Lead Source_Live Chat                                 9067 non-null   uint8  \n",
      " 9   Lead Source_NC_EDM                                    9067 non-null   uint8  \n",
      " 10  Lead Source_Olark Chat                                9067 non-null   uint8  \n",
      " 11  Lead Source_Organic Search                            9067 non-null   uint8  \n",
      " 12  Lead Source_Pay per Click Ads                         9067 non-null   uint8  \n",
      " 13  Lead Source_Press_Release                             9067 non-null   uint8  \n",
      " 14  Lead Source_Reference                                 9067 non-null   uint8  \n",
      " 15  Lead Source_Referral Sites                            9067 non-null   uint8  \n",
      " 16  Lead Source_Social Media                              9067 non-null   uint8  \n",
      " 17  Lead Source_WeLearn                                   9067 non-null   uint8  \n",
      " 18  Lead Source_Welingak Website                          9067 non-null   uint8  \n",
      " 19  Lead Source_bing                                      9067 non-null   uint8  \n",
      " 20  Lead Source_blog                                      9067 non-null   uint8  \n",
      " 21  Lead Source_google                                    9067 non-null   uint8  \n",
      " 22  Lead Source_testone                                   9067 non-null   uint8  \n",
      " 23  Lead Source_welearnblog_Home                          9067 non-null   uint8  \n",
      " 24  Lead Source_youtubechannel                            9067 non-null   uint8  \n",
      " 25  Last Activity_Converted to Lead                       9067 non-null   uint8  \n",
      " 26  Last Activity_Email Bounced                           9067 non-null   uint8  \n",
      " 27  Last Activity_Email Link Clicked                      9067 non-null   uint8  \n",
      " 28  Last Activity_Email Marked Spam                       9067 non-null   uint8  \n",
      " 29  Last Activity_Email Opened                            9067 non-null   uint8  \n",
      " 30  Last Activity_Email Received                          9067 non-null   uint8  \n",
      " 31  Last Activity_Form Submitted on Website               9067 non-null   uint8  \n",
      " 32  Last Activity_Had a Phone Conversation                9067 non-null   uint8  \n",
      " 33  Last Activity_Olark Chat Conversation                 9067 non-null   uint8  \n",
      " 34  Last Activity_Page Visited on Website                 9067 non-null   uint8  \n",
      " 35  Last Activity_Resubscribed to emails                  9067 non-null   uint8  \n",
      " 36  Last Activity_SMS Sent                                9067 non-null   uint8  \n",
      " 37  Last Activity_Unreachable                             9067 non-null   uint8  \n",
      " 38  Last Activity_Unsubscribed                            9067 non-null   uint8  \n",
      " 39  Last Activity_View in browser link Clicked            9067 non-null   uint8  \n",
      " 40  Last Activity_Visited Booth in Tradeshow              9067 non-null   uint8  \n",
      " 41  What is your current occupation_Housewife             9067 non-null   uint8  \n",
      " 42  What is your current occupation_Not_updated           9067 non-null   uint8  \n",
      " 43  What is your current occupation_Other                 9067 non-null   uint8  \n",
      " 44  What is your current occupation_Student               9067 non-null   uint8  \n",
      " 45  What is your current occupation_Unemployed            9067 non-null   uint8  \n",
      " 46  What is your current occupation_Working Professional  9067 non-null   uint8  \n",
      "dtypes: float64(3), int64(2), uint8(42)\n",
      "memory usage: 796.9 KB\n"
     ]
    }
   ],
   "source": [
    "data_final.info()"
   ]
  },
  {
   "cell_type": "code",
   "execution_count": 45,
   "id": "6e4333d1",
   "metadata": {},
   "outputs": [],
   "source": [
    "# Lets drop some variables which are not important as per EDA we did above\n",
    "\n",
    "data_final.drop(['What is your current occupation_Not_updated',\n",
    "                 'Last Activity_Converted to Lead',\n",
    "                 'Last Activity_Email Bounced',\n",
    "                 'Last Activity_Email Marked Spam',\n",
    "                 'Last Activity_Email Received',\n",
    "                 'Last Activity_Resubscribed to emails',\n",
    "                 'Last Activity_Unsubscribed',\n",
    "                 'Last Activity_View in browser link Clicked',\n",
    "                 'Last Activity_Visited Booth in Tradeshow'], axis=1, inplace=True)"
   ]
  },
  {
   "cell_type": "markdown",
   "id": "8f5bc7eb",
   "metadata": {},
   "source": [
    "### 4. Train Test split "
   ]
  },
  {
   "cell_type": "code",
   "execution_count": 46,
   "id": "88fcc624",
   "metadata": {},
   "outputs": [],
   "source": [
    "from sklearn.model_selection import train_test_split"
   ]
  },
  {
   "cell_type": "code",
   "execution_count": 47,
   "id": "3e2fc467",
   "metadata": {},
   "outputs": [],
   "source": [
    "X = data_final.drop(['Converted'], axis=1)\n",
    "y = data_final['Converted']"
   ]
  },
  {
   "cell_type": "code",
   "execution_count": 48,
   "id": "b03b9566",
   "metadata": {},
   "outputs": [],
   "source": [
    "# Splitting the data into train and test\n",
    "X_train, X_test, y_train, y_test = train_test_split(X, y, train_size=0.7, test_size=0.3, random_state=100)"
   ]
  },
  {
   "cell_type": "code",
   "execution_count": 49,
   "id": "80975356",
   "metadata": {},
   "outputs": [
    {
     "data": {
      "text/plain": [
       "37.862578581669794"
      ]
     },
     "execution_count": 49,
     "metadata": {},
     "output_type": "execute_result"
    }
   ],
   "source": [
    "### Checking the lead conversion Rate\n",
    "converted = (sum(data_final['Converted'])/len(data_final['Converted'].index))*100\n",
    "converted"
   ]
  },
  {
   "cell_type": "markdown",
   "id": "249fbf6c",
   "metadata": {},
   "source": [
    "#### We have almost 38% conversion rate"
   ]
  },
  {
   "cell_type": "markdown",
   "id": "3706e76e",
   "metadata": {},
   "source": [
    "### 5. Model building"
   ]
  },
  {
   "cell_type": "code",
   "execution_count": 50,
   "id": "d06f06bc",
   "metadata": {},
   "outputs": [],
   "source": [
    "import statsmodels.api as sm"
   ]
  },
  {
   "cell_type": "markdown",
   "id": "52ccc648",
   "metadata": {},
   "source": [
    "### Model 1 - Direct Approach"
   ]
  },
  {
   "cell_type": "code",
   "execution_count": 51,
   "id": "84d97987",
   "metadata": {},
   "outputs": [
    {
     "name": "stderr",
     "output_type": "stream",
     "text": [
      "C:\\Users\\HP\\anaconda3\\lib\\site-packages\\statsmodels\\genmod\\families\\links.py:187: RuntimeWarning: overflow encountered in exp\n",
      "  t = np.exp(-z)\n",
      "C:\\Users\\HP\\anaconda3\\lib\\site-packages\\statsmodels\\genmod\\families\\family.py:1014: RuntimeWarning: divide by zero encountered in log\n",
      "  special.gammaln(n - y + 1) + y * np.log(mu / (1 - mu + 1e-20)) +\n",
      "C:\\Users\\HP\\anaconda3\\lib\\site-packages\\statsmodels\\genmod\\families\\family.py:1014: RuntimeWarning: invalid value encountered in multiply\n",
      "  special.gammaln(n - y + 1) + y * np.log(mu / (1 - mu + 1e-20)) +\n"
     ]
    },
    {
     "data": {
      "text/html": [
       "<table class=\"simpletable\">\n",
       "<caption>Generalized Linear Model Regression Results</caption>\n",
       "<tr>\n",
       "  <th>Dep. Variable:</th>       <td>Converted</td>    <th>  No. Observations:  </th>   <td>  6346</td>  \n",
       "</tr>\n",
       "<tr>\n",
       "  <th>Model:</th>                  <td>GLM</td>       <th>  Df Residuals:      </th>   <td>  6309</td>  \n",
       "</tr>\n",
       "<tr>\n",
       "  <th>Model Family:</th>        <td>Binomial</td>     <th>  Df Model:          </th>   <td>    36</td>  \n",
       "</tr>\n",
       "<tr>\n",
       "  <th>Link Function:</th>         <td>Logit</td>      <th>  Scale:             </th>  <td>  1.0000</td> \n",
       "</tr>\n",
       "<tr>\n",
       "  <th>Method:</th>                <td>IRLS</td>       <th>  Log-Likelihood:    </th>  <td>     nan</td> \n",
       "</tr>\n",
       "<tr>\n",
       "  <th>Date:</th>            <td>Sun, 16 Jul 2023</td> <th>  Deviance:          </th> <td>1.7840e+05</td>\n",
       "</tr>\n",
       "<tr>\n",
       "  <th>Time:</th>                <td>14:23:17</td>     <th>  Pearson chi2:      </th>  <td>8.72e+18</td> \n",
       "</tr>\n",
       "<tr>\n",
       "  <th>No. Iterations:</th>         <td>100</td>       <th>  Pseudo R-squ. (CS):</th>   <td>   nan</td>  \n",
       "</tr>\n",
       "<tr>\n",
       "  <th>Covariance Type:</th>     <td>nonrobust</td>    <th>                     </th>      <td> </td>    \n",
       "</tr>\n",
       "</table>\n",
       "<table class=\"simpletable\">\n",
       "<tr>\n",
       "                            <td></td>                              <th>coef</th>     <th>std err</th>      <th>z</th>      <th>P>|z|</th>  <th>[0.025</th>    <th>0.975]</th>  \n",
       "</tr>\n",
       "<tr>\n",
       "  <th>const</th>                                                <td> 2.796e+15</td> <td> 6.73e+07</td> <td> 4.15e+07</td> <td> 0.000</td> <td>  2.8e+15</td> <td>  2.8e+15</td>\n",
       "</tr>\n",
       "<tr>\n",
       "  <th>TotalVisits</th>                                          <td>  1.93e+14</td> <td> 1.15e+06</td> <td> 1.68e+08</td> <td> 0.000</td> <td> 1.93e+14</td> <td> 1.93e+14</td>\n",
       "</tr>\n",
       "<tr>\n",
       "  <th>Total Time Spent on Website</th>                          <td> 8.663e+14</td> <td> 9.78e+05</td> <td> 8.86e+08</td> <td> 0.000</td> <td> 8.66e+14</td> <td> 8.66e+14</td>\n",
       "</tr>\n",
       "<tr>\n",
       "  <th>Page Views Per Visit</th>                                 <td>-8.932e+13</td> <td> 1.28e+06</td> <td>-6.97e+07</td> <td> 0.000</td> <td>-8.93e+13</td> <td>-8.93e+13</td>\n",
       "</tr>\n",
       "<tr>\n",
       "  <th>A free copy of Mastering The Interview</th>               <td> 7.855e+13</td> <td> 2.46e+06</td> <td> 3.19e+07</td> <td> 0.000</td> <td> 7.86e+13</td> <td> 7.86e+13</td>\n",
       "</tr>\n",
       "<tr>\n",
       "  <th>Lead Source_Direct Traffic</th>                           <td>-4.294e+15</td> <td> 6.72e+07</td> <td>-6.39e+07</td> <td> 0.000</td> <td>-4.29e+15</td> <td>-4.29e+15</td>\n",
       "</tr>\n",
       "<tr>\n",
       "  <th>Lead Source_Facebook</th>                                 <td>-2.998e+15</td> <td> 6.86e+07</td> <td>-4.37e+07</td> <td> 0.000</td> <td>   -3e+15</td> <td>   -3e+15</td>\n",
       "</tr>\n",
       "<tr>\n",
       "  <th>Lead Source_Google</th>                                   <td>-3.659e+15</td> <td> 6.72e+07</td> <td>-5.44e+07</td> <td> 0.000</td> <td>-3.66e+15</td> <td>-3.66e+15</td>\n",
       "</tr>\n",
       "<tr>\n",
       "  <th>Lead Source_Live Chat</th>                                <td> 2.736e+15</td> <td> 8.23e+07</td> <td> 3.32e+07</td> <td> 0.000</td> <td> 2.74e+15</td> <td> 2.74e+15</td>\n",
       "</tr>\n",
       "<tr>\n",
       "  <th>Lead Source_NC_EDM</th>                                   <td> 7.411e+13</td> <td>  9.5e+07</td> <td>  7.8e+05</td> <td> 0.000</td> <td> 7.41e+13</td> <td> 7.41e+13</td>\n",
       "</tr>\n",
       "<tr>\n",
       "  <th>Lead Source_Olark Chat</th>                               <td> -2.74e+15</td> <td> 6.73e+07</td> <td>-4.07e+07</td> <td> 0.000</td> <td>-2.74e+15</td> <td>-2.74e+15</td>\n",
       "</tr>\n",
       "<tr>\n",
       "  <th>Lead Source_Organic Search</th>                           <td>-3.937e+15</td> <td> 6.73e+07</td> <td>-5.85e+07</td> <td> 0.000</td> <td>-3.94e+15</td> <td>-3.94e+15</td>\n",
       "</tr>\n",
       "<tr>\n",
       "  <th>Lead Source_Pay per Click Ads</th>                        <td>-3.754e+15</td> <td>  9.5e+07</td> <td>-3.95e+07</td> <td> 0.000</td> <td>-3.75e+15</td> <td>-3.75e+15</td>\n",
       "</tr>\n",
       "<tr>\n",
       "  <th>Lead Source_Press_Release</th>                            <td>-8.535e+15</td> <td> 8.23e+07</td> <td>-1.04e+08</td> <td> 0.000</td> <td>-8.53e+15</td> <td>-8.53e+15</td>\n",
       "</tr>\n",
       "<tr>\n",
       "  <th>Lead Source_Reference</th>                                <td>-9.854e+14</td> <td> 6.73e+07</td> <td>-1.46e+07</td> <td> 0.000</td> <td>-9.85e+14</td> <td>-9.85e+14</td>\n",
       "</tr>\n",
       "<tr>\n",
       "  <th>Lead Source_Referral Sites</th>                           <td> -4.04e+15</td> <td> 6.76e+07</td> <td>-5.97e+07</td> <td> 0.000</td> <td>-4.04e+15</td> <td>-4.04e+15</td>\n",
       "</tr>\n",
       "<tr>\n",
       "  <th>Lead Source_Social Media</th>                             <td>-3.705e+15</td> <td> 8.22e+07</td> <td> -4.5e+07</td> <td> 0.000</td> <td> -3.7e+15</td> <td> -3.7e+15</td>\n",
       "</tr>\n",
       "<tr>\n",
       "  <th>Lead Source_WeLearn</th>                                  <td>    0.2288</td> <td> 7.51e-08</td> <td> 3.05e+06</td> <td> 0.000</td> <td>    0.229</td> <td>    0.229</td>\n",
       "</tr>\n",
       "<tr>\n",
       "  <th>Lead Source_Welingak Website</th>                         <td> -4.24e+14</td> <td> 6.76e+07</td> <td>-6.27e+06</td> <td> 0.000</td> <td>-4.24e+14</td> <td>-4.24e+14</td>\n",
       "</tr>\n",
       "<tr>\n",
       "  <th>Lead Source_bing</th>                                     <td> -4.18e+15</td> <td> 7.51e+07</td> <td>-5.56e+07</td> <td> 0.000</td> <td>-4.18e+15</td> <td>-4.18e+15</td>\n",
       "</tr>\n",
       "<tr>\n",
       "  <th>Lead Source_blog</th>                                     <td>-8.267e+15</td> <td>  9.5e+07</td> <td> -8.7e+07</td> <td> 0.000</td> <td>-8.27e+15</td> <td>-8.27e+15</td>\n",
       "</tr>\n",
       "<tr>\n",
       "  <th>Lead Source_google</th>                                   <td>-8.144e+15</td> <td> 7.76e+07</td> <td>-1.05e+08</td> <td> 0.000</td> <td>-8.14e+15</td> <td>-8.14e+15</td>\n",
       "</tr>\n",
       "<tr>\n",
       "  <th>Lead Source_testone</th>                                  <td> -8.16e+15</td> <td> 9.49e+07</td> <td> -8.6e+07</td> <td> 0.000</td> <td>-8.16e+15</td> <td>-8.16e+15</td>\n",
       "</tr>\n",
       "<tr>\n",
       "  <th>Lead Source_welearnblog_Home</th>                         <td>-3.248e+15</td> <td>  9.5e+07</td> <td>-3.42e+07</td> <td> 0.000</td> <td>-3.25e+15</td> <td>-3.25e+15</td>\n",
       "</tr>\n",
       "<tr>\n",
       "  <th>Lead Source_youtubechannel</th>                           <td>-7.356e+15</td> <td>  9.5e+07</td> <td>-7.74e+07</td> <td> 0.000</td> <td>-7.36e+15</td> <td>-7.36e+15</td>\n",
       "</tr>\n",
       "<tr>\n",
       "  <th>Last Activity_Email Link Clicked</th>                     <td> 8.321e+13</td> <td> 5.74e+06</td> <td> 1.45e+07</td> <td> 0.000</td> <td> 8.32e+13</td> <td> 8.32e+13</td>\n",
       "</tr>\n",
       "<tr>\n",
       "  <th>Last Activity_Email Opened</th>                           <td> 6.955e+14</td> <td> 3.26e+06</td> <td> 2.13e+08</td> <td> 0.000</td> <td> 6.96e+14</td> <td> 6.96e+14</td>\n",
       "</tr>\n",
       "<tr>\n",
       "  <th>Last Activity_Form Submitted on Website</th>              <td> 1.312e+14</td> <td> 7.81e+06</td> <td> 1.68e+07</td> <td> 0.000</td> <td> 1.31e+14</td> <td> 1.31e+14</td>\n",
       "</tr>\n",
       "<tr>\n",
       "  <th>Last Activity_Had a Phone Conversation</th>               <td>-4.529e+14</td> <td> 1.57e+07</td> <td>-2.88e+07</td> <td> 0.000</td> <td>-4.53e+14</td> <td>-4.53e+14</td>\n",
       "</tr>\n",
       "<tr>\n",
       "  <th>Last Activity_Olark Chat Conversation</th>                <td>-3.161e+14</td> <td> 4.17e+06</td> <td>-7.57e+07</td> <td> 0.000</td> <td>-3.16e+14</td> <td>-3.16e+14</td>\n",
       "</tr>\n",
       "<tr>\n",
       "  <th>Last Activity_Page Visited on Website</th>                <td>  1.81e+14</td> <td> 4.48e+06</td> <td> 4.04e+07</td> <td> 0.000</td> <td> 1.81e+14</td> <td> 1.81e+14</td>\n",
       "</tr>\n",
       "<tr>\n",
       "  <th>Last Activity_SMS Sent</th>                               <td>-1.056e+15</td> <td> 3.37e+06</td> <td>-3.13e+08</td> <td> 0.000</td> <td>-1.06e+15</td> <td>-1.06e+15</td>\n",
       "</tr>\n",
       "<tr>\n",
       "  <th>Last Activity_Unreachable</th>                            <td> 7.244e+14</td> <td> 8.65e+06</td> <td> 8.37e+07</td> <td> 0.000</td> <td> 7.24e+14</td> <td> 7.24e+14</td>\n",
       "</tr>\n",
       "<tr>\n",
       "  <th>What is your current occupation_Housewife</th>            <td> 2.942e+15</td> <td> 2.55e+07</td> <td> 1.15e+08</td> <td> 0.000</td> <td> 2.94e+15</td> <td> 2.94e+15</td>\n",
       "</tr>\n",
       "<tr>\n",
       "  <th>What is your current occupation_Other</th>                <td> 1.016e+14</td> <td> 1.87e+07</td> <td> 5.42e+06</td> <td> 0.000</td> <td> 1.02e+14</td> <td> 1.02e+14</td>\n",
       "</tr>\n",
       "<tr>\n",
       "  <th>What is your current occupation_Student</th>              <td> 1.122e+15</td> <td> 5.82e+06</td> <td> 1.93e+08</td> <td> 0.000</td> <td> 1.12e+15</td> <td> 1.12e+15</td>\n",
       "</tr>\n",
       "<tr>\n",
       "  <th>What is your current occupation_Unemployed</th>           <td> 8.801e+14</td> <td> 1.99e+06</td> <td> 4.42e+08</td> <td> 0.000</td> <td>  8.8e+14</td> <td>  8.8e+14</td>\n",
       "</tr>\n",
       "<tr>\n",
       "  <th>What is your current occupation_Working Professional</th> <td> 1.316e+15</td> <td> 3.64e+06</td> <td> 3.61e+08</td> <td> 0.000</td> <td> 1.32e+15</td> <td> 1.32e+15</td>\n",
       "</tr>\n",
       "</table>"
      ],
      "text/plain": [
       "<class 'statsmodels.iolib.summary.Summary'>\n",
       "\"\"\"\n",
       "                 Generalized Linear Model Regression Results                  \n",
       "==============================================================================\n",
       "Dep. Variable:              Converted   No. Observations:                 6346\n",
       "Model:                            GLM   Df Residuals:                     6309\n",
       "Model Family:                Binomial   Df Model:                           36\n",
       "Link Function:                  Logit   Scale:                          1.0000\n",
       "Method:                          IRLS   Log-Likelihood:                    nan\n",
       "Date:                Sun, 16 Jul 2023   Deviance:                   1.7840e+05\n",
       "Time:                        14:23:17   Pearson chi2:                 8.72e+18\n",
       "No. Iterations:                   100   Pseudo R-squ. (CS):                nan\n",
       "Covariance Type:            nonrobust                                         \n",
       "========================================================================================================================\n",
       "                                                           coef    std err          z      P>|z|      [0.025      0.975]\n",
       "------------------------------------------------------------------------------------------------------------------------\n",
       "const                                                 2.796e+15   6.73e+07   4.15e+07      0.000     2.8e+15     2.8e+15\n",
       "TotalVisits                                            1.93e+14   1.15e+06   1.68e+08      0.000    1.93e+14    1.93e+14\n",
       "Total Time Spent on Website                           8.663e+14   9.78e+05   8.86e+08      0.000    8.66e+14    8.66e+14\n",
       "Page Views Per Visit                                 -8.932e+13   1.28e+06  -6.97e+07      0.000   -8.93e+13   -8.93e+13\n",
       "A free copy of Mastering The Interview                7.855e+13   2.46e+06   3.19e+07      0.000    7.86e+13    7.86e+13\n",
       "Lead Source_Direct Traffic                           -4.294e+15   6.72e+07  -6.39e+07      0.000   -4.29e+15   -4.29e+15\n",
       "Lead Source_Facebook                                 -2.998e+15   6.86e+07  -4.37e+07      0.000      -3e+15      -3e+15\n",
       "Lead Source_Google                                   -3.659e+15   6.72e+07  -5.44e+07      0.000   -3.66e+15   -3.66e+15\n",
       "Lead Source_Live Chat                                 2.736e+15   8.23e+07   3.32e+07      0.000    2.74e+15    2.74e+15\n",
       "Lead Source_NC_EDM                                    7.411e+13    9.5e+07    7.8e+05      0.000    7.41e+13    7.41e+13\n",
       "Lead Source_Olark Chat                                -2.74e+15   6.73e+07  -4.07e+07      0.000   -2.74e+15   -2.74e+15\n",
       "Lead Source_Organic Search                           -3.937e+15   6.73e+07  -5.85e+07      0.000   -3.94e+15   -3.94e+15\n",
       "Lead Source_Pay per Click Ads                        -3.754e+15    9.5e+07  -3.95e+07      0.000   -3.75e+15   -3.75e+15\n",
       "Lead Source_Press_Release                            -8.535e+15   8.23e+07  -1.04e+08      0.000   -8.53e+15   -8.53e+15\n",
       "Lead Source_Reference                                -9.854e+14   6.73e+07  -1.46e+07      0.000   -9.85e+14   -9.85e+14\n",
       "Lead Source_Referral Sites                            -4.04e+15   6.76e+07  -5.97e+07      0.000   -4.04e+15   -4.04e+15\n",
       "Lead Source_Social Media                             -3.705e+15   8.22e+07   -4.5e+07      0.000    -3.7e+15    -3.7e+15\n",
       "Lead Source_WeLearn                                      0.2288   7.51e-08   3.05e+06      0.000       0.229       0.229\n",
       "Lead Source_Welingak Website                          -4.24e+14   6.76e+07  -6.27e+06      0.000   -4.24e+14   -4.24e+14\n",
       "Lead Source_bing                                      -4.18e+15   7.51e+07  -5.56e+07      0.000   -4.18e+15   -4.18e+15\n",
       "Lead Source_blog                                     -8.267e+15    9.5e+07   -8.7e+07      0.000   -8.27e+15   -8.27e+15\n",
       "Lead Source_google                                   -8.144e+15   7.76e+07  -1.05e+08      0.000   -8.14e+15   -8.14e+15\n",
       "Lead Source_testone                                   -8.16e+15   9.49e+07   -8.6e+07      0.000   -8.16e+15   -8.16e+15\n",
       "Lead Source_welearnblog_Home                         -3.248e+15    9.5e+07  -3.42e+07      0.000   -3.25e+15   -3.25e+15\n",
       "Lead Source_youtubechannel                           -7.356e+15    9.5e+07  -7.74e+07      0.000   -7.36e+15   -7.36e+15\n",
       "Last Activity_Email Link Clicked                      8.321e+13   5.74e+06   1.45e+07      0.000    8.32e+13    8.32e+13\n",
       "Last Activity_Email Opened                            6.955e+14   3.26e+06   2.13e+08      0.000    6.96e+14    6.96e+14\n",
       "Last Activity_Form Submitted on Website               1.312e+14   7.81e+06   1.68e+07      0.000    1.31e+14    1.31e+14\n",
       "Last Activity_Had a Phone Conversation               -4.529e+14   1.57e+07  -2.88e+07      0.000   -4.53e+14   -4.53e+14\n",
       "Last Activity_Olark Chat Conversation                -3.161e+14   4.17e+06  -7.57e+07      0.000   -3.16e+14   -3.16e+14\n",
       "Last Activity_Page Visited on Website                  1.81e+14   4.48e+06   4.04e+07      0.000    1.81e+14    1.81e+14\n",
       "Last Activity_SMS Sent                               -1.056e+15   3.37e+06  -3.13e+08      0.000   -1.06e+15   -1.06e+15\n",
       "Last Activity_Unreachable                             7.244e+14   8.65e+06   8.37e+07      0.000    7.24e+14    7.24e+14\n",
       "What is your current occupation_Housewife             2.942e+15   2.55e+07   1.15e+08      0.000    2.94e+15    2.94e+15\n",
       "What is your current occupation_Other                 1.016e+14   1.87e+07   5.42e+06      0.000    1.02e+14    1.02e+14\n",
       "What is your current occupation_Student               1.122e+15   5.82e+06   1.93e+08      0.000    1.12e+15    1.12e+15\n",
       "What is your current occupation_Unemployed            8.801e+14   1.99e+06   4.42e+08      0.000     8.8e+14     8.8e+14\n",
       "What is your current occupation_Working Professional  1.316e+15   3.64e+06   3.61e+08      0.000    1.32e+15    1.32e+15\n",
       "========================================================================================================================\n",
       "\"\"\""
      ]
     },
     "execution_count": 51,
     "metadata": {},
     "output_type": "execute_result"
    }
   ],
   "source": [
    "# Logistic regression model\n",
    "logm = sm.GLM(y_train,(sm.add_constant(X_train)), family = sm.families.Binomial())\n",
    "logm.fit().summary()"
   ]
  },
  {
   "cell_type": "markdown",
   "id": "2064b952",
   "metadata": {},
   "source": [
    "#### We got so many features, lets do RFE for feature selection"
   ]
  },
  {
   "cell_type": "markdown",
   "id": "12293fa9",
   "metadata": {},
   "source": [
    "### RFE"
   ]
  },
  {
   "cell_type": "code",
   "execution_count": 52,
   "id": "7712b8b8",
   "metadata": {},
   "outputs": [],
   "source": [
    "from sklearn.linear_model import LogisticRegression\n",
    "logreg = LogisticRegression()"
   ]
  },
  {
   "cell_type": "code",
   "execution_count": 53,
   "id": "089ff884",
   "metadata": {},
   "outputs": [
    {
     "name": "stderr",
     "output_type": "stream",
     "text": [
      "C:\\Users\\HP\\anaconda3\\lib\\site-packages\\sklearn\\linear_model\\_logistic.py:814: ConvergenceWarning: lbfgs failed to converge (status=1):\n",
      "STOP: TOTAL NO. of ITERATIONS REACHED LIMIT.\n",
      "\n",
      "Increase the number of iterations (max_iter) or scale the data as shown in:\n",
      "    https://scikit-learn.org/stable/modules/preprocessing.html\n",
      "Please also refer to the documentation for alternative solver options:\n",
      "    https://scikit-learn.org/stable/modules/linear_model.html#logistic-regression\n",
      "  n_iter_i = _check_optimize_result(\n",
      "C:\\Users\\HP\\anaconda3\\lib\\site-packages\\sklearn\\linear_model\\_logistic.py:814: ConvergenceWarning: lbfgs failed to converge (status=1):\n",
      "STOP: TOTAL NO. of ITERATIONS REACHED LIMIT.\n",
      "\n",
      "Increase the number of iterations (max_iter) or scale the data as shown in:\n",
      "    https://scikit-learn.org/stable/modules/preprocessing.html\n",
      "Please also refer to the documentation for alternative solver options:\n",
      "    https://scikit-learn.org/stable/modules/linear_model.html#logistic-regression\n",
      "  n_iter_i = _check_optimize_result(\n",
      "C:\\Users\\HP\\anaconda3\\lib\\site-packages\\sklearn\\linear_model\\_logistic.py:814: ConvergenceWarning: lbfgs failed to converge (status=1):\n",
      "STOP: TOTAL NO. of ITERATIONS REACHED LIMIT.\n",
      "\n",
      "Increase the number of iterations (max_iter) or scale the data as shown in:\n",
      "    https://scikit-learn.org/stable/modules/preprocessing.html\n",
      "Please also refer to the documentation for alternative solver options:\n",
      "    https://scikit-learn.org/stable/modules/linear_model.html#logistic-regression\n",
      "  n_iter_i = _check_optimize_result(\n",
      "C:\\Users\\HP\\anaconda3\\lib\\site-packages\\sklearn\\linear_model\\_logistic.py:814: ConvergenceWarning: lbfgs failed to converge (status=1):\n",
      "STOP: TOTAL NO. of ITERATIONS REACHED LIMIT.\n",
      "\n",
      "Increase the number of iterations (max_iter) or scale the data as shown in:\n",
      "    https://scikit-learn.org/stable/modules/preprocessing.html\n",
      "Please also refer to the documentation for alternative solver options:\n",
      "    https://scikit-learn.org/stable/modules/linear_model.html#logistic-regression\n",
      "  n_iter_i = _check_optimize_result(\n",
      "C:\\Users\\HP\\anaconda3\\lib\\site-packages\\sklearn\\linear_model\\_logistic.py:814: ConvergenceWarning: lbfgs failed to converge (status=1):\n",
      "STOP: TOTAL NO. of ITERATIONS REACHED LIMIT.\n",
      "\n",
      "Increase the number of iterations (max_iter) or scale the data as shown in:\n",
      "    https://scikit-learn.org/stable/modules/preprocessing.html\n",
      "Please also refer to the documentation for alternative solver options:\n",
      "    https://scikit-learn.org/stable/modules/linear_model.html#logistic-regression\n",
      "  n_iter_i = _check_optimize_result(\n",
      "C:\\Users\\HP\\anaconda3\\lib\\site-packages\\sklearn\\linear_model\\_logistic.py:814: ConvergenceWarning: lbfgs failed to converge (status=1):\n",
      "STOP: TOTAL NO. of ITERATIONS REACHED LIMIT.\n",
      "\n",
      "Increase the number of iterations (max_iter) or scale the data as shown in:\n",
      "    https://scikit-learn.org/stable/modules/preprocessing.html\n",
      "Please also refer to the documentation for alternative solver options:\n",
      "    https://scikit-learn.org/stable/modules/linear_model.html#logistic-regression\n",
      "  n_iter_i = _check_optimize_result(\n",
      "C:\\Users\\HP\\anaconda3\\lib\\site-packages\\sklearn\\linear_model\\_logistic.py:814: ConvergenceWarning: lbfgs failed to converge (status=1):\n",
      "STOP: TOTAL NO. of ITERATIONS REACHED LIMIT.\n",
      "\n",
      "Increase the number of iterations (max_iter) or scale the data as shown in:\n",
      "    https://scikit-learn.org/stable/modules/preprocessing.html\n",
      "Please also refer to the documentation for alternative solver options:\n",
      "    https://scikit-learn.org/stable/modules/linear_model.html#logistic-regression\n",
      "  n_iter_i = _check_optimize_result(\n",
      "C:\\Users\\HP\\anaconda3\\lib\\site-packages\\sklearn\\linear_model\\_logistic.py:814: ConvergenceWarning: lbfgs failed to converge (status=1):\n",
      "STOP: TOTAL NO. of ITERATIONS REACHED LIMIT.\n",
      "\n",
      "Increase the number of iterations (max_iter) or scale the data as shown in:\n",
      "    https://scikit-learn.org/stable/modules/preprocessing.html\n",
      "Please also refer to the documentation for alternative solver options:\n",
      "    https://scikit-learn.org/stable/modules/linear_model.html#logistic-regression\n",
      "  n_iter_i = _check_optimize_result(\n"
     ]
    }
   ],
   "source": [
    "from sklearn.feature_selection import RFE\n",
    "rfe = RFE(logreg, n_features_to_select=15)             # running RFE with 15 variables as output\n",
    "rfe = rfe.fit(X_train, y_train)"
   ]
  },
  {
   "cell_type": "code",
   "execution_count": 54,
   "id": "f1a8dec9",
   "metadata": {},
   "outputs": [
    {
     "data": {
      "text/plain": [
       "array([False,  True, False, False,  True, False,  True, False, False,\n",
       "       False,  True, False, False,  True,  True, False, False,  True,\n",
       "       False, False, False, False, False, False, False,  True, False,\n",
       "        True, False, False,  True, False,  True,  True,  True,  True,\n",
       "        True])"
      ]
     },
     "execution_count": 54,
     "metadata": {},
     "output_type": "execute_result"
    }
   ],
   "source": [
    "rfe.support_"
   ]
  },
  {
   "cell_type": "code",
   "execution_count": 55,
   "id": "3817feff",
   "metadata": {},
   "outputs": [
    {
     "data": {
      "text/plain": [
       "[('TotalVisits', False, 16),\n",
       " ('Total Time Spent on Website', True, 1),\n",
       " ('Page Views Per Visit', False, 17),\n",
       " ('A free copy of Mastering The Interview', False, 22),\n",
       " ('Lead Source_Direct Traffic', True, 1),\n",
       " ('Lead Source_Facebook', False, 19),\n",
       " ('Lead Source_Google', True, 1),\n",
       " ('Lead Source_Live Chat', False, 5),\n",
       " ('Lead Source_NC_EDM', False, 9),\n",
       " ('Lead Source_Olark Chat', False, 14),\n",
       " ('Lead Source_Organic Search', True, 1),\n",
       " ('Lead Source_Pay per Click Ads', False, 11),\n",
       " ('Lead Source_Press_Release', False, 6),\n",
       " ('Lead Source_Reference', True, 1),\n",
       " ('Lead Source_Referral Sites', True, 1),\n",
       " ('Lead Source_Social Media', False, 13),\n",
       " ('Lead Source_WeLearn', False, 23),\n",
       " ('Lead Source_Welingak Website', True, 1),\n",
       " ('Lead Source_bing', False, 10),\n",
       " ('Lead Source_blog', False, 12),\n",
       " ('Lead Source_google', False, 4),\n",
       " ('Lead Source_testone', False, 15),\n",
       " ('Lead Source_welearnblog_Home', False, 18),\n",
       " ('Lead Source_youtubechannel', False, 21),\n",
       " ('Last Activity_Email Link Clicked', False, 7),\n",
       " ('Last Activity_Email Opened', True, 1),\n",
       " ('Last Activity_Form Submitted on Website', False, 20),\n",
       " ('Last Activity_Had a Phone Conversation', True, 1),\n",
       " ('Last Activity_Olark Chat Conversation', False, 3),\n",
       " ('Last Activity_Page Visited on Website', False, 8),\n",
       " ('Last Activity_SMS Sent', True, 1),\n",
       " ('Last Activity_Unreachable', False, 2),\n",
       " ('What is your current occupation_Housewife', True, 1),\n",
       " ('What is your current occupation_Other', True, 1),\n",
       " ('What is your current occupation_Student', True, 1),\n",
       " ('What is your current occupation_Unemployed', True, 1),\n",
       " ('What is your current occupation_Working Professional', True, 1)]"
      ]
     },
     "execution_count": 55,
     "metadata": {},
     "output_type": "execute_result"
    }
   ],
   "source": [
    "list(zip(X_train.columns, rfe.support_, rfe.ranking_))"
   ]
  },
  {
   "cell_type": "code",
   "execution_count": 56,
   "id": "26ce6dbf",
   "metadata": {},
   "outputs": [],
   "source": [
    "col = X_train.columns[rfe.support_]"
   ]
  },
  {
   "cell_type": "code",
   "execution_count": 57,
   "id": "01542707",
   "metadata": {},
   "outputs": [
    {
     "data": {
      "text/plain": [
       "Index(['TotalVisits', 'Page Views Per Visit',\n",
       "       'A free copy of Mastering The Interview', 'Lead Source_Facebook',\n",
       "       'Lead Source_Live Chat', 'Lead Source_NC_EDM', 'Lead Source_Olark Chat',\n",
       "       'Lead Source_Pay per Click Ads', 'Lead Source_Press_Release',\n",
       "       'Lead Source_Social Media', 'Lead Source_WeLearn', 'Lead Source_bing',\n",
       "       'Lead Source_blog', 'Lead Source_google', 'Lead Source_testone',\n",
       "       'Lead Source_welearnblog_Home', 'Lead Source_youtubechannel',\n",
       "       'Last Activity_Email Link Clicked',\n",
       "       'Last Activity_Form Submitted on Website',\n",
       "       'Last Activity_Olark Chat Conversation',\n",
       "       'Last Activity_Page Visited on Website', 'Last Activity_Unreachable'],\n",
       "      dtype='object')"
      ]
     },
     "execution_count": 57,
     "metadata": {},
     "output_type": "execute_result"
    }
   ],
   "source": [
    "X_train.columns[~rfe.support_]"
   ]
  },
  {
   "cell_type": "markdown",
   "id": "37670bba",
   "metadata": {},
   "source": [
    "#### Assessing the model with StatsModels"
   ]
  },
  {
   "cell_type": "code",
   "execution_count": 58,
   "id": "94507f67",
   "metadata": {},
   "outputs": [],
   "source": [
    "import statsmodels.api as sm"
   ]
  },
  {
   "cell_type": "markdown",
   "id": "72400819",
   "metadata": {},
   "source": [
    "### Model 2"
   ]
  },
  {
   "cell_type": "code",
   "execution_count": 59,
   "id": "a8aab771",
   "metadata": {},
   "outputs": [
    {
     "data": {
      "text/html": [
       "<table class=\"simpletable\">\n",
       "<caption>Generalized Linear Model Regression Results</caption>\n",
       "<tr>\n",
       "  <th>Dep. Variable:</th>       <td>Converted</td>    <th>  No. Observations:  </th>  <td>  6346</td> \n",
       "</tr>\n",
       "<tr>\n",
       "  <th>Model:</th>                  <td>GLM</td>       <th>  Df Residuals:      </th>  <td>  6330</td> \n",
       "</tr>\n",
       "<tr>\n",
       "  <th>Model Family:</th>        <td>Binomial</td>     <th>  Df Model:          </th>  <td>    15</td> \n",
       "</tr>\n",
       "<tr>\n",
       "  <th>Link Function:</th>         <td>Logit</td>      <th>  Scale:             </th> <td>  1.0000</td>\n",
       "</tr>\n",
       "<tr>\n",
       "  <th>Method:</th>                <td>IRLS</td>       <th>  Log-Likelihood:    </th> <td> -2597.7</td>\n",
       "</tr>\n",
       "<tr>\n",
       "  <th>Date:</th>            <td>Sun, 16 Jul 2023</td> <th>  Deviance:          </th> <td>  5195.3</td>\n",
       "</tr>\n",
       "<tr>\n",
       "  <th>Time:</th>                <td>14:23:19</td>     <th>  Pearson chi2:      </th> <td>6.40e+03</td>\n",
       "</tr>\n",
       "<tr>\n",
       "  <th>No. Iterations:</th>         <td>21</td>        <th>  Pseudo R-squ. (CS):</th>  <td>0.4012</td> \n",
       "</tr>\n",
       "<tr>\n",
       "  <th>Covariance Type:</th>     <td>nonrobust</td>    <th>                     </th>     <td> </td>   \n",
       "</tr>\n",
       "</table>\n",
       "<table class=\"simpletable\">\n",
       "<tr>\n",
       "                            <td></td>                              <th>coef</th>     <th>std err</th>      <th>z</th>      <th>P>|z|</th>  <th>[0.025</th>    <th>0.975]</th>  \n",
       "</tr>\n",
       "<tr>\n",
       "  <th>const</th>                                                <td>   -2.0516</td> <td>    0.117</td> <td>  -17.587</td> <td> 0.000</td> <td>   -2.280</td> <td>   -1.823</td>\n",
       "</tr>\n",
       "<tr>\n",
       "  <th>Total Time Spent on Website</th>                          <td>    1.1115</td> <td>    0.041</td> <td>   27.363</td> <td> 0.000</td> <td>    1.032</td> <td>    1.191</td>\n",
       "</tr>\n",
       "<tr>\n",
       "  <th>Lead Source_Direct Traffic</th>                           <td>   -1.5638</td> <td>    0.115</td> <td>  -13.636</td> <td> 0.000</td> <td>   -1.789</td> <td>   -1.339</td>\n",
       "</tr>\n",
       "<tr>\n",
       "  <th>Lead Source_Google</th>                                   <td>   -1.0415</td> <td>    0.109</td> <td>   -9.593</td> <td> 0.000</td> <td>   -1.254</td> <td>   -0.829</td>\n",
       "</tr>\n",
       "<tr>\n",
       "  <th>Lead Source_Organic Search</th>                           <td>   -1.2257</td> <td>    0.132</td> <td>   -9.314</td> <td> 0.000</td> <td>   -1.484</td> <td>   -0.968</td>\n",
       "</tr>\n",
       "<tr>\n",
       "  <th>Lead Source_Reference</th>                                <td>    2.5315</td> <td>    0.245</td> <td>   10.336</td> <td> 0.000</td> <td>    2.051</td> <td>    3.011</td>\n",
       "</tr>\n",
       "<tr>\n",
       "  <th>Lead Source_Referral Sites</th>                           <td>   -1.5051</td> <td>    0.383</td> <td>   -3.933</td> <td> 0.000</td> <td>   -2.255</td> <td>   -0.755</td>\n",
       "</tr>\n",
       "<tr>\n",
       "  <th>Lead Source_Welingak Website</th>                         <td>    3.9113</td> <td>    0.726</td> <td>    5.391</td> <td> 0.000</td> <td>    2.489</td> <td>    5.333</td>\n",
       "</tr>\n",
       "<tr>\n",
       "  <th>Last Activity_Email Opened</th>                           <td>    1.0721</td> <td>    0.092</td> <td>   11.614</td> <td> 0.000</td> <td>    0.891</td> <td>    1.253</td>\n",
       "</tr>\n",
       "<tr>\n",
       "  <th>Last Activity_Had a Phone Conversation</th>               <td>    2.7201</td> <td>    0.605</td> <td>    4.499</td> <td> 0.000</td> <td>    1.535</td> <td>    3.905</td>\n",
       "</tr>\n",
       "<tr>\n",
       "  <th>Last Activity_SMS Sent</th>                               <td>    2.1852</td> <td>    0.097</td> <td>   22.497</td> <td> 0.000</td> <td>    1.995</td> <td>    2.376</td>\n",
       "</tr>\n",
       "<tr>\n",
       "  <th>What is your current occupation_Housewife</th>            <td>   23.8300</td> <td> 1.58e+04</td> <td>    0.002</td> <td> 0.999</td> <td>-3.09e+04</td> <td>  3.1e+04</td>\n",
       "</tr>\n",
       "<tr>\n",
       "  <th>What is your current occupation_Other</th>                <td>    2.3340</td> <td>    0.665</td> <td>    3.508</td> <td> 0.000</td> <td>    1.030</td> <td>    3.638</td>\n",
       "</tr>\n",
       "<tr>\n",
       "  <th>What is your current occupation_Student</th>              <td>    1.3786</td> <td>    0.228</td> <td>    6.038</td> <td> 0.000</td> <td>    0.931</td> <td>    1.826</td>\n",
       "</tr>\n",
       "<tr>\n",
       "  <th>What is your current occupation_Unemployed</th>           <td>    1.2895</td> <td>    0.088</td> <td>   14.707</td> <td> 0.000</td> <td>    1.118</td> <td>    1.461</td>\n",
       "</tr>\n",
       "<tr>\n",
       "  <th>What is your current occupation_Working Professional</th> <td>    3.8051</td> <td>    0.198</td> <td>   19.246</td> <td> 0.000</td> <td>    3.418</td> <td>    4.193</td>\n",
       "</tr>\n",
       "</table>"
      ],
      "text/plain": [
       "<class 'statsmodels.iolib.summary.Summary'>\n",
       "\"\"\"\n",
       "                 Generalized Linear Model Regression Results                  \n",
       "==============================================================================\n",
       "Dep. Variable:              Converted   No. Observations:                 6346\n",
       "Model:                            GLM   Df Residuals:                     6330\n",
       "Model Family:                Binomial   Df Model:                           15\n",
       "Link Function:                  Logit   Scale:                          1.0000\n",
       "Method:                          IRLS   Log-Likelihood:                -2597.7\n",
       "Date:                Sun, 16 Jul 2023   Deviance:                       5195.3\n",
       "Time:                        14:23:19   Pearson chi2:                 6.40e+03\n",
       "No. Iterations:                    21   Pseudo R-squ. (CS):             0.4012\n",
       "Covariance Type:            nonrobust                                         \n",
       "========================================================================================================================\n",
       "                                                           coef    std err          z      P>|z|      [0.025      0.975]\n",
       "------------------------------------------------------------------------------------------------------------------------\n",
       "const                                                   -2.0516      0.117    -17.587      0.000      -2.280      -1.823\n",
       "Total Time Spent on Website                              1.1115      0.041     27.363      0.000       1.032       1.191\n",
       "Lead Source_Direct Traffic                              -1.5638      0.115    -13.636      0.000      -1.789      -1.339\n",
       "Lead Source_Google                                      -1.0415      0.109     -9.593      0.000      -1.254      -0.829\n",
       "Lead Source_Organic Search                              -1.2257      0.132     -9.314      0.000      -1.484      -0.968\n",
       "Lead Source_Reference                                    2.5315      0.245     10.336      0.000       2.051       3.011\n",
       "Lead Source_Referral Sites                              -1.5051      0.383     -3.933      0.000      -2.255      -0.755\n",
       "Lead Source_Welingak Website                             3.9113      0.726      5.391      0.000       2.489       5.333\n",
       "Last Activity_Email Opened                               1.0721      0.092     11.614      0.000       0.891       1.253\n",
       "Last Activity_Had a Phone Conversation                   2.7201      0.605      4.499      0.000       1.535       3.905\n",
       "Last Activity_SMS Sent                                   2.1852      0.097     22.497      0.000       1.995       2.376\n",
       "What is your current occupation_Housewife               23.8300   1.58e+04      0.002      0.999   -3.09e+04     3.1e+04\n",
       "What is your current occupation_Other                    2.3340      0.665      3.508      0.000       1.030       3.638\n",
       "What is your current occupation_Student                  1.3786      0.228      6.038      0.000       0.931       1.826\n",
       "What is your current occupation_Unemployed               1.2895      0.088     14.707      0.000       1.118       1.461\n",
       "What is your current occupation_Working Professional     3.8051      0.198     19.246      0.000       3.418       4.193\n",
       "========================================================================================================================\n",
       "\"\"\""
      ]
     },
     "execution_count": 59,
     "metadata": {},
     "output_type": "execute_result"
    }
   ],
   "source": [
    "X_train_sm = sm.add_constant(X_train[col])\n",
    "logm2 = sm.GLM(y_train,X_train_sm, family = sm.families.Binomial())\n",
    "res = logm2.fit()\n",
    "res.summary()"
   ]
  },
  {
   "cell_type": "code",
   "execution_count": 60,
   "id": "dd5fe887",
   "metadata": {},
   "outputs": [
    {
     "data": {
      "text/plain": [
       "2178    0.097742\n",
       "7033    0.987262\n",
       "6889    0.045843\n",
       "4062    0.995045\n",
       "7421    0.053267\n",
       "421     0.140924\n",
       "3120    0.829565\n",
       "6245    0.148537\n",
       "3045    0.454678\n",
       "1306    0.780583\n",
       "dtype: float64"
      ]
     },
     "execution_count": 60,
     "metadata": {},
     "output_type": "execute_result"
    }
   ],
   "source": [
    "# Getting the predicted values on the train set\n",
    "y_train_pred = res.predict(X_train_sm)\n",
    "y_train_pred[:10]"
   ]
  },
  {
   "cell_type": "code",
   "execution_count": 61,
   "id": "6154dce5",
   "metadata": {},
   "outputs": [
    {
     "data": {
      "text/plain": [
       "array([0.09774154, 0.98726209, 0.04584271, 0.99504529, 0.05326724,\n",
       "       0.1409243 , 0.82956545, 0.14853733, 0.45467841, 0.78058274])"
      ]
     },
     "execution_count": 61,
     "metadata": {},
     "output_type": "execute_result"
    }
   ],
   "source": [
    "y_train_pred = y_train_pred.values.reshape(-1)\n",
    "y_train_pred[:10]"
   ]
  },
  {
   "cell_type": "markdown",
   "id": "71e853f6",
   "metadata": {},
   "source": [
    "#### Creating a dataframe with the actual converted flag and the predicted probabilities"
   ]
  },
  {
   "cell_type": "code",
   "execution_count": 62,
   "id": "b2112d82",
   "metadata": {},
   "outputs": [
    {
     "data": {
      "text/html": [
       "<div>\n",
       "<style scoped>\n",
       "    .dataframe tbody tr th:only-of-type {\n",
       "        vertical-align: middle;\n",
       "    }\n",
       "\n",
       "    .dataframe tbody tr th {\n",
       "        vertical-align: top;\n",
       "    }\n",
       "\n",
       "    .dataframe thead th {\n",
       "        text-align: right;\n",
       "    }\n",
       "</style>\n",
       "<table border=\"1\" class=\"dataframe\">\n",
       "  <thead>\n",
       "    <tr style=\"text-align: right;\">\n",
       "      <th></th>\n",
       "      <th>Converted</th>\n",
       "      <th>Converted_Prob</th>\n",
       "    </tr>\n",
       "  </thead>\n",
       "  <tbody>\n",
       "    <tr>\n",
       "      <th>0</th>\n",
       "      <td>0</td>\n",
       "      <td>0.097742</td>\n",
       "    </tr>\n",
       "    <tr>\n",
       "      <th>1</th>\n",
       "      <td>1</td>\n",
       "      <td>0.987262</td>\n",
       "    </tr>\n",
       "    <tr>\n",
       "      <th>2</th>\n",
       "      <td>0</td>\n",
       "      <td>0.045843</td>\n",
       "    </tr>\n",
       "    <tr>\n",
       "      <th>3</th>\n",
       "      <td>1</td>\n",
       "      <td>0.995045</td>\n",
       "    </tr>\n",
       "    <tr>\n",
       "      <th>4</th>\n",
       "      <td>1</td>\n",
       "      <td>0.053267</td>\n",
       "    </tr>\n",
       "  </tbody>\n",
       "</table>\n",
       "</div>"
      ],
      "text/plain": [
       "   Converted  Converted_Prob\n",
       "0          0        0.097742\n",
       "1          1        0.987262\n",
       "2          0        0.045843\n",
       "3          1        0.995045\n",
       "4          1        0.053267"
      ]
     },
     "execution_count": 62,
     "metadata": {},
     "output_type": "execute_result"
    }
   ],
   "source": [
    "y_train_pred_final = pd.DataFrame({'Converted':y_train.values, 'Converted_Prob':y_train_pred})\n",
    "\n",
    "y_train_pred_final.head()"
   ]
  },
  {
   "cell_type": "markdown",
   "id": "defe363b",
   "metadata": {},
   "source": [
    "#### Creating new column 'predicted' with 1 if Churn_Prob > 0.5 else 0"
   ]
  },
  {
   "cell_type": "code",
   "execution_count": 63,
   "id": "6f994fb2",
   "metadata": {},
   "outputs": [
    {
     "data": {
      "text/html": [
       "<div>\n",
       "<style scoped>\n",
       "    .dataframe tbody tr th:only-of-type {\n",
       "        vertical-align: middle;\n",
       "    }\n",
       "\n",
       "    .dataframe tbody tr th {\n",
       "        vertical-align: top;\n",
       "    }\n",
       "\n",
       "    .dataframe thead th {\n",
       "        text-align: right;\n",
       "    }\n",
       "</style>\n",
       "<table border=\"1\" class=\"dataframe\">\n",
       "  <thead>\n",
       "    <tr style=\"text-align: right;\">\n",
       "      <th></th>\n",
       "      <th>Converted</th>\n",
       "      <th>Converted_Prob</th>\n",
       "      <th>predicted</th>\n",
       "    </tr>\n",
       "  </thead>\n",
       "  <tbody>\n",
       "    <tr>\n",
       "      <th>0</th>\n",
       "      <td>0</td>\n",
       "      <td>0.097742</td>\n",
       "      <td>0</td>\n",
       "    </tr>\n",
       "    <tr>\n",
       "      <th>1</th>\n",
       "      <td>1</td>\n",
       "      <td>0.987262</td>\n",
       "      <td>1</td>\n",
       "    </tr>\n",
       "    <tr>\n",
       "      <th>2</th>\n",
       "      <td>0</td>\n",
       "      <td>0.045843</td>\n",
       "      <td>0</td>\n",
       "    </tr>\n",
       "    <tr>\n",
       "      <th>3</th>\n",
       "      <td>1</td>\n",
       "      <td>0.995045</td>\n",
       "      <td>1</td>\n",
       "    </tr>\n",
       "    <tr>\n",
       "      <th>4</th>\n",
       "      <td>1</td>\n",
       "      <td>0.053267</td>\n",
       "      <td>0</td>\n",
       "    </tr>\n",
       "  </tbody>\n",
       "</table>\n",
       "</div>"
      ],
      "text/plain": [
       "   Converted  Converted_Prob  predicted\n",
       "0          0        0.097742          0\n",
       "1          1        0.987262          1\n",
       "2          0        0.045843          0\n",
       "3          1        0.995045          1\n",
       "4          1        0.053267          0"
      ]
     },
     "execution_count": 63,
     "metadata": {},
     "output_type": "execute_result"
    }
   ],
   "source": [
    "y_train_pred_final['predicted'] = y_train_pred_final.Converted_Prob.map(lambda x: 1 if x > 0.5 else 0)\n",
    "\n",
    "# Let's see the head\n",
    "y_train_pred_final.head()"
   ]
  },
  {
   "cell_type": "code",
   "execution_count": 64,
   "id": "61fa55b4",
   "metadata": {},
   "outputs": [],
   "source": [
    "from sklearn import metrics"
   ]
  },
  {
   "cell_type": "code",
   "execution_count": 65,
   "id": "c13de091",
   "metadata": {},
   "outputs": [
    {
     "name": "stdout",
     "output_type": "stream",
     "text": [
      "[[3477  435]\n",
      " [ 731 1703]]\n"
     ]
    }
   ],
   "source": [
    "# Confusion matrix \n",
    "confusion = metrics.confusion_matrix(y_train_pred_final.Converted, y_train_pred_final.predicted )\n",
    "print(confusion)"
   ]
  },
  {
   "cell_type": "code",
   "execution_count": 66,
   "id": "82dc94e3",
   "metadata": {},
   "outputs": [
    {
     "name": "stdout",
     "output_type": "stream",
     "text": [
      "0.8162622124172707\n"
     ]
    }
   ],
   "source": [
    "# Let's check the overall accuracy.\n",
    "print(metrics.accuracy_score(y_train_pred_final.Converted, y_train_pred_final.predicted))"
   ]
  },
  {
   "cell_type": "markdown",
   "id": "0832b5fd",
   "metadata": {},
   "source": [
    "#### Checking VIFs"
   ]
  },
  {
   "cell_type": "code",
   "execution_count": 67,
   "id": "cadaeed1",
   "metadata": {},
   "outputs": [],
   "source": [
    "from statsmodels.stats.outliers_influence import variance_inflation_factor"
   ]
  },
  {
   "cell_type": "code",
   "execution_count": 68,
   "id": "f86f9f36",
   "metadata": {},
   "outputs": [
    {
     "data": {
      "text/html": [
       "<div>\n",
       "<style scoped>\n",
       "    .dataframe tbody tr th:only-of-type {\n",
       "        vertical-align: middle;\n",
       "    }\n",
       "\n",
       "    .dataframe tbody tr th {\n",
       "        vertical-align: top;\n",
       "    }\n",
       "\n",
       "    .dataframe thead th {\n",
       "        text-align: right;\n",
       "    }\n",
       "</style>\n",
       "<table border=\"1\" class=\"dataframe\">\n",
       "  <thead>\n",
       "    <tr style=\"text-align: right;\">\n",
       "      <th></th>\n",
       "      <th>Features</th>\n",
       "      <th>VIF</th>\n",
       "    </tr>\n",
       "  </thead>\n",
       "  <tbody>\n",
       "    <tr>\n",
       "      <th>13</th>\n",
       "      <td>What is your current occupation_Unemployed</td>\n",
       "      <td>2.81</td>\n",
       "    </tr>\n",
       "    <tr>\n",
       "      <th>2</th>\n",
       "      <td>Lead Source_Google</td>\n",
       "      <td>2.07</td>\n",
       "    </tr>\n",
       "    <tr>\n",
       "      <th>7</th>\n",
       "      <td>Last Activity_Email Opened</td>\n",
       "      <td>1.97</td>\n",
       "    </tr>\n",
       "    <tr>\n",
       "      <th>9</th>\n",
       "      <td>Last Activity_SMS Sent</td>\n",
       "      <td>1.94</td>\n",
       "    </tr>\n",
       "    <tr>\n",
       "      <th>1</th>\n",
       "      <td>Lead Source_Direct Traffic</td>\n",
       "      <td>1.91</td>\n",
       "    </tr>\n",
       "    <tr>\n",
       "      <th>3</th>\n",
       "      <td>Lead Source_Organic Search</td>\n",
       "      <td>1.42</td>\n",
       "    </tr>\n",
       "    <tr>\n",
       "      <th>14</th>\n",
       "      <td>What is your current occupation_Working Profes...</td>\n",
       "      <td>1.37</td>\n",
       "    </tr>\n",
       "    <tr>\n",
       "      <th>4</th>\n",
       "      <td>Lead Source_Reference</td>\n",
       "      <td>1.35</td>\n",
       "    </tr>\n",
       "    <tr>\n",
       "      <th>0</th>\n",
       "      <td>Total Time Spent on Website</td>\n",
       "      <td>1.13</td>\n",
       "    </tr>\n",
       "    <tr>\n",
       "      <th>6</th>\n",
       "      <td>Lead Source_Welingak Website</td>\n",
       "      <td>1.09</td>\n",
       "    </tr>\n",
       "    <tr>\n",
       "      <th>12</th>\n",
       "      <td>What is your current occupation_Student</td>\n",
       "      <td>1.06</td>\n",
       "    </tr>\n",
       "    <tr>\n",
       "      <th>5</th>\n",
       "      <td>Lead Source_Referral Sites</td>\n",
       "      <td>1.03</td>\n",
       "    </tr>\n",
       "    <tr>\n",
       "      <th>8</th>\n",
       "      <td>Last Activity_Had a Phone Conversation</td>\n",
       "      <td>1.01</td>\n",
       "    </tr>\n",
       "    <tr>\n",
       "      <th>10</th>\n",
       "      <td>What is your current occupation_Housewife</td>\n",
       "      <td>1.01</td>\n",
       "    </tr>\n",
       "    <tr>\n",
       "      <th>11</th>\n",
       "      <td>What is your current occupation_Other</td>\n",
       "      <td>1.01</td>\n",
       "    </tr>\n",
       "  </tbody>\n",
       "</table>\n",
       "</div>"
      ],
      "text/plain": [
       "                                             Features   VIF\n",
       "13         What is your current occupation_Unemployed  2.81\n",
       "2                                  Lead Source_Google  2.07\n",
       "7                          Last Activity_Email Opened  1.97\n",
       "9                              Last Activity_SMS Sent  1.94\n",
       "1                          Lead Source_Direct Traffic  1.91\n",
       "3                          Lead Source_Organic Search  1.42\n",
       "14  What is your current occupation_Working Profes...  1.37\n",
       "4                               Lead Source_Reference  1.35\n",
       "0                         Total Time Spent on Website  1.13\n",
       "6                        Lead Source_Welingak Website  1.09\n",
       "12            What is your current occupation_Student  1.06\n",
       "5                          Lead Source_Referral Sites  1.03\n",
       "8              Last Activity_Had a Phone Conversation  1.01\n",
       "10          What is your current occupation_Housewife  1.01\n",
       "11              What is your current occupation_Other  1.01"
      ]
     },
     "execution_count": 68,
     "metadata": {},
     "output_type": "execute_result"
    }
   ],
   "source": [
    "# Create a dataframe that will contain the names of all the feature variables and their respective VIFs\n",
    "vif = pd.DataFrame()\n",
    "vif['Features'] = X_train[col].columns\n",
    "vif['VIF'] = [variance_inflation_factor(X_train[col].values, i) for i in range(X_train[col].shape[1])]\n",
    "vif['VIF'] = round(vif['VIF'], 2)\n",
    "vif = vif.sort_values(by = \"VIF\", ascending = False)\n",
    "vif"
   ]
  },
  {
   "cell_type": "markdown",
   "id": "65f96bae",
   "metadata": {},
   "source": [
    "#### Variable having p>10 may be due to multicolinearty lets remove that"
   ]
  },
  {
   "cell_type": "code",
   "execution_count": 69,
   "id": "6d7a5d64",
   "metadata": {},
   "outputs": [
    {
     "data": {
      "text/plain": [
       "Index(['Total Time Spent on Website', 'Lead Source_Direct Traffic',\n",
       "       'Lead Source_Google', 'Lead Source_Organic Search',\n",
       "       'Lead Source_Reference', 'Lead Source_Referral Sites',\n",
       "       'Lead Source_Welingak Website', 'Last Activity_Email Opened',\n",
       "       'Last Activity_Had a Phone Conversation', 'Last Activity_SMS Sent',\n",
       "       'What is your current occupation_Other',\n",
       "       'What is your current occupation_Student',\n",
       "       'What is your current occupation_Unemployed',\n",
       "       'What is your current occupation_Working Professional'],\n",
       "      dtype='object')"
      ]
     },
     "execution_count": 69,
     "metadata": {},
     "output_type": "execute_result"
    }
   ],
   "source": [
    "col = col.drop('What is your current occupation_Housewife', 1)\n",
    "col"
   ]
  },
  {
   "cell_type": "markdown",
   "id": "30348147",
   "metadata": {},
   "source": [
    "### Model 3"
   ]
  },
  {
   "cell_type": "code",
   "execution_count": 70,
   "id": "cb53de9c",
   "metadata": {},
   "outputs": [
    {
     "data": {
      "text/html": [
       "<table class=\"simpletable\">\n",
       "<caption>Generalized Linear Model Regression Results</caption>\n",
       "<tr>\n",
       "  <th>Dep. Variable:</th>       <td>Converted</td>    <th>  No. Observations:  </th>  <td>  6346</td> \n",
       "</tr>\n",
       "<tr>\n",
       "  <th>Model:</th>                  <td>GLM</td>       <th>  Df Residuals:      </th>  <td>  6331</td> \n",
       "</tr>\n",
       "<tr>\n",
       "  <th>Model Family:</th>        <td>Binomial</td>     <th>  Df Model:          </th>  <td>    14</td> \n",
       "</tr>\n",
       "<tr>\n",
       "  <th>Link Function:</th>         <td>Logit</td>      <th>  Scale:             </th> <td>  1.0000</td>\n",
       "</tr>\n",
       "<tr>\n",
       "  <th>Method:</th>                <td>IRLS</td>       <th>  Log-Likelihood:    </th> <td> -2605.7</td>\n",
       "</tr>\n",
       "<tr>\n",
       "  <th>Date:</th>            <td>Sun, 16 Jul 2023</td> <th>  Deviance:          </th> <td>  5211.5</td>\n",
       "</tr>\n",
       "<tr>\n",
       "  <th>Time:</th>                <td>14:23:20</td>     <th>  Pearson chi2:      </th> <td>6.45e+03</td>\n",
       "</tr>\n",
       "<tr>\n",
       "  <th>No. Iterations:</th>          <td>7</td>        <th>  Pseudo R-squ. (CS):</th>  <td>0.3997</td> \n",
       "</tr>\n",
       "<tr>\n",
       "  <th>Covariance Type:</th>     <td>nonrobust</td>    <th>                     </th>     <td> </td>   \n",
       "</tr>\n",
       "</table>\n",
       "<table class=\"simpletable\">\n",
       "<tr>\n",
       "                            <td></td>                              <th>coef</th>     <th>std err</th>      <th>z</th>      <th>P>|z|</th>  <th>[0.025</th>    <th>0.975]</th>  \n",
       "</tr>\n",
       "<tr>\n",
       "  <th>const</th>                                                <td>   -2.0346</td> <td>    0.116</td> <td>  -17.525</td> <td> 0.000</td> <td>   -2.262</td> <td>   -1.807</td>\n",
       "</tr>\n",
       "<tr>\n",
       "  <th>Total Time Spent on Website</th>                          <td>    1.1107</td> <td>    0.041</td> <td>   27.401</td> <td> 0.000</td> <td>    1.031</td> <td>    1.190</td>\n",
       "</tr>\n",
       "<tr>\n",
       "  <th>Lead Source_Direct Traffic</th>                           <td>   -1.5588</td> <td>    0.115</td> <td>  -13.614</td> <td> 0.000</td> <td>   -1.783</td> <td>   -1.334</td>\n",
       "</tr>\n",
       "<tr>\n",
       "  <th>Lead Source_Google</th>                                   <td>   -1.0338</td> <td>    0.108</td> <td>   -9.543</td> <td> 0.000</td> <td>   -1.246</td> <td>   -0.821</td>\n",
       "</tr>\n",
       "<tr>\n",
       "  <th>Lead Source_Organic Search</th>                           <td>   -1.2070</td> <td>    0.131</td> <td>   -9.202</td> <td> 0.000</td> <td>   -1.464</td> <td>   -0.950</td>\n",
       "</tr>\n",
       "<tr>\n",
       "  <th>Lead Source_Reference</th>                                <td>    2.6061</td> <td>    0.246</td> <td>   10.598</td> <td> 0.000</td> <td>    2.124</td> <td>    3.088</td>\n",
       "</tr>\n",
       "<tr>\n",
       "  <th>Lead Source_Referral Sites</th>                           <td>   -1.5023</td> <td>    0.382</td> <td>   -3.932</td> <td> 0.000</td> <td>   -2.251</td> <td>   -0.753</td>\n",
       "</tr>\n",
       "<tr>\n",
       "  <th>Lead Source_Welingak Website</th>                         <td>    3.9191</td> <td>    0.726</td> <td>    5.402</td> <td> 0.000</td> <td>    2.497</td> <td>    5.341</td>\n",
       "</tr>\n",
       "<tr>\n",
       "  <th>Last Activity_Email Opened</th>                           <td>    1.0776</td> <td>    0.092</td> <td>   11.698</td> <td> 0.000</td> <td>    0.897</td> <td>    1.258</td>\n",
       "</tr>\n",
       "<tr>\n",
       "  <th>Last Activity_Had a Phone Conversation</th>               <td>    2.7165</td> <td>    0.604</td> <td>    4.496</td> <td> 0.000</td> <td>    1.532</td> <td>    3.901</td>\n",
       "</tr>\n",
       "<tr>\n",
       "  <th>Last Activity_SMS Sent</th>                               <td>    2.1805</td> <td>    0.097</td> <td>   22.482</td> <td> 0.000</td> <td>    1.990</td> <td>    2.371</td>\n",
       "</tr>\n",
       "<tr>\n",
       "  <th>What is your current occupation_Other</th>                <td>    2.3061</td> <td>    0.665</td> <td>    3.468</td> <td> 0.001</td> <td>    1.003</td> <td>    3.609</td>\n",
       "</tr>\n",
       "<tr>\n",
       "  <th>What is your current occupation_Student</th>              <td>    1.3496</td> <td>    0.228</td> <td>    5.910</td> <td> 0.000</td> <td>    0.902</td> <td>    1.797</td>\n",
       "</tr>\n",
       "<tr>\n",
       "  <th>What is your current occupation_Unemployed</th>           <td>    1.2632</td> <td>    0.087</td> <td>   14.533</td> <td> 0.000</td> <td>    1.093</td> <td>    1.434</td>\n",
       "</tr>\n",
       "<tr>\n",
       "  <th>What is your current occupation_Working Professional</th> <td>    3.7778</td> <td>    0.197</td> <td>   19.143</td> <td> 0.000</td> <td>    3.391</td> <td>    4.165</td>\n",
       "</tr>\n",
       "</table>"
      ],
      "text/plain": [
       "<class 'statsmodels.iolib.summary.Summary'>\n",
       "\"\"\"\n",
       "                 Generalized Linear Model Regression Results                  \n",
       "==============================================================================\n",
       "Dep. Variable:              Converted   No. Observations:                 6346\n",
       "Model:                            GLM   Df Residuals:                     6331\n",
       "Model Family:                Binomial   Df Model:                           14\n",
       "Link Function:                  Logit   Scale:                          1.0000\n",
       "Method:                          IRLS   Log-Likelihood:                -2605.7\n",
       "Date:                Sun, 16 Jul 2023   Deviance:                       5211.5\n",
       "Time:                        14:23:20   Pearson chi2:                 6.45e+03\n",
       "No. Iterations:                     7   Pseudo R-squ. (CS):             0.3997\n",
       "Covariance Type:            nonrobust                                         \n",
       "========================================================================================================================\n",
       "                                                           coef    std err          z      P>|z|      [0.025      0.975]\n",
       "------------------------------------------------------------------------------------------------------------------------\n",
       "const                                                   -2.0346      0.116    -17.525      0.000      -2.262      -1.807\n",
       "Total Time Spent on Website                              1.1107      0.041     27.401      0.000       1.031       1.190\n",
       "Lead Source_Direct Traffic                              -1.5588      0.115    -13.614      0.000      -1.783      -1.334\n",
       "Lead Source_Google                                      -1.0338      0.108     -9.543      0.000      -1.246      -0.821\n",
       "Lead Source_Organic Search                              -1.2070      0.131     -9.202      0.000      -1.464      -0.950\n",
       "Lead Source_Reference                                    2.6061      0.246     10.598      0.000       2.124       3.088\n",
       "Lead Source_Referral Sites                              -1.5023      0.382     -3.932      0.000      -2.251      -0.753\n",
       "Lead Source_Welingak Website                             3.9191      0.726      5.402      0.000       2.497       5.341\n",
       "Last Activity_Email Opened                               1.0776      0.092     11.698      0.000       0.897       1.258\n",
       "Last Activity_Had a Phone Conversation                   2.7165      0.604      4.496      0.000       1.532       3.901\n",
       "Last Activity_SMS Sent                                   2.1805      0.097     22.482      0.000       1.990       2.371\n",
       "What is your current occupation_Other                    2.3061      0.665      3.468      0.001       1.003       3.609\n",
       "What is your current occupation_Student                  1.3496      0.228      5.910      0.000       0.902       1.797\n",
       "What is your current occupation_Unemployed               1.2632      0.087     14.533      0.000       1.093       1.434\n",
       "What is your current occupation_Working Professional     3.7778      0.197     19.143      0.000       3.391       4.165\n",
       "========================================================================================================================\n",
       "\"\"\""
      ]
     },
     "execution_count": 70,
     "metadata": {},
     "output_type": "execute_result"
    }
   ],
   "source": [
    "# Let's re-run the model using the selected variables\n",
    "X_train_sm = sm.add_constant(X_train[col])\n",
    "logm3 = sm.GLM(y_train,X_train_sm, family = sm.families.Binomial())\n",
    "res = logm3.fit()\n",
    "res.summary()"
   ]
  },
  {
   "cell_type": "code",
   "execution_count": 71,
   "id": "66f748ad",
   "metadata": {},
   "outputs": [],
   "source": [
    "y_train_pred = res.predict(X_train_sm).values.reshape(-1)"
   ]
  },
  {
   "cell_type": "code",
   "execution_count": 72,
   "id": "11722e49",
   "metadata": {},
   "outputs": [
    {
     "data": {
      "text/plain": [
       "array([0.09933009, 0.98719335, 0.04662346, 0.99501491, 0.05306852,\n",
       "       0.14111743, 0.8282331 , 0.14745055, 0.45874824, 0.78114427])"
      ]
     },
     "execution_count": 72,
     "metadata": {},
     "output_type": "execute_result"
    }
   ],
   "source": [
    "y_train_pred[:10]"
   ]
  },
  {
   "cell_type": "code",
   "execution_count": 73,
   "id": "854bb685",
   "metadata": {},
   "outputs": [],
   "source": [
    "y_train_pred_final['Converted_Prob'] = y_train_pred"
   ]
  },
  {
   "cell_type": "code",
   "execution_count": 74,
   "id": "035e7216",
   "metadata": {},
   "outputs": [
    {
     "data": {
      "text/html": [
       "<div>\n",
       "<style scoped>\n",
       "    .dataframe tbody tr th:only-of-type {\n",
       "        vertical-align: middle;\n",
       "    }\n",
       "\n",
       "    .dataframe tbody tr th {\n",
       "        vertical-align: top;\n",
       "    }\n",
       "\n",
       "    .dataframe thead th {\n",
       "        text-align: right;\n",
       "    }\n",
       "</style>\n",
       "<table border=\"1\" class=\"dataframe\">\n",
       "  <thead>\n",
       "    <tr style=\"text-align: right;\">\n",
       "      <th></th>\n",
       "      <th>Converted</th>\n",
       "      <th>Converted_Prob</th>\n",
       "      <th>predicted</th>\n",
       "    </tr>\n",
       "  </thead>\n",
       "  <tbody>\n",
       "    <tr>\n",
       "      <th>0</th>\n",
       "      <td>0</td>\n",
       "      <td>0.099330</td>\n",
       "      <td>0</td>\n",
       "    </tr>\n",
       "    <tr>\n",
       "      <th>1</th>\n",
       "      <td>1</td>\n",
       "      <td>0.987193</td>\n",
       "      <td>1</td>\n",
       "    </tr>\n",
       "    <tr>\n",
       "      <th>2</th>\n",
       "      <td>0</td>\n",
       "      <td>0.046623</td>\n",
       "      <td>0</td>\n",
       "    </tr>\n",
       "    <tr>\n",
       "      <th>3</th>\n",
       "      <td>1</td>\n",
       "      <td>0.995015</td>\n",
       "      <td>1</td>\n",
       "    </tr>\n",
       "    <tr>\n",
       "      <th>4</th>\n",
       "      <td>1</td>\n",
       "      <td>0.053069</td>\n",
       "      <td>0</td>\n",
       "    </tr>\n",
       "  </tbody>\n",
       "</table>\n",
       "</div>"
      ],
      "text/plain": [
       "   Converted  Converted_Prob  predicted\n",
       "0          0        0.099330          0\n",
       "1          1        0.987193          1\n",
       "2          0        0.046623          0\n",
       "3          1        0.995015          1\n",
       "4          1        0.053069          0"
      ]
     },
     "execution_count": 74,
     "metadata": {},
     "output_type": "execute_result"
    }
   ],
   "source": [
    "# Creating new column 'predicted' with 1 if Converted_Prob > 0.5 else 0\n",
    "y_train_pred_final['predicted'] = y_train_pred_final.Converted_Prob.map(lambda x: 1 if x > 0.5 else 0)\n",
    "y_train_pred_final.head()"
   ]
  },
  {
   "cell_type": "code",
   "execution_count": 75,
   "id": "bc8b8183",
   "metadata": {},
   "outputs": [
    {
     "name": "stdout",
     "output_type": "stream",
     "text": [
      "0.8157894736842105\n"
     ]
    }
   ],
   "source": [
    "# Let's check the overall accuracy.\n",
    "print(metrics.accuracy_score(y_train_pred_final.Converted, y_train_pred_final.predicted))"
   ]
  },
  {
   "cell_type": "markdown",
   "id": "6e63eca4",
   "metadata": {},
   "source": [
    "#### lets check VIF again"
   ]
  },
  {
   "cell_type": "code",
   "execution_count": 76,
   "id": "1947d319",
   "metadata": {},
   "outputs": [
    {
     "data": {
      "text/html": [
       "<div>\n",
       "<style scoped>\n",
       "    .dataframe tbody tr th:only-of-type {\n",
       "        vertical-align: middle;\n",
       "    }\n",
       "\n",
       "    .dataframe tbody tr th {\n",
       "        vertical-align: top;\n",
       "    }\n",
       "\n",
       "    .dataframe thead th {\n",
       "        text-align: right;\n",
       "    }\n",
       "</style>\n",
       "<table border=\"1\" class=\"dataframe\">\n",
       "  <thead>\n",
       "    <tr style=\"text-align: right;\">\n",
       "      <th></th>\n",
       "      <th>Features</th>\n",
       "      <th>VIF</th>\n",
       "    </tr>\n",
       "  </thead>\n",
       "  <tbody>\n",
       "    <tr>\n",
       "      <th>12</th>\n",
       "      <td>What is your current occupation_Unemployed</td>\n",
       "      <td>2.81</td>\n",
       "    </tr>\n",
       "    <tr>\n",
       "      <th>2</th>\n",
       "      <td>Lead Source_Google</td>\n",
       "      <td>2.07</td>\n",
       "    </tr>\n",
       "    <tr>\n",
       "      <th>7</th>\n",
       "      <td>Last Activity_Email Opened</td>\n",
       "      <td>1.97</td>\n",
       "    </tr>\n",
       "    <tr>\n",
       "      <th>9</th>\n",
       "      <td>Last Activity_SMS Sent</td>\n",
       "      <td>1.94</td>\n",
       "    </tr>\n",
       "    <tr>\n",
       "      <th>1</th>\n",
       "      <td>Lead Source_Direct Traffic</td>\n",
       "      <td>1.91</td>\n",
       "    </tr>\n",
       "    <tr>\n",
       "      <th>3</th>\n",
       "      <td>Lead Source_Organic Search</td>\n",
       "      <td>1.42</td>\n",
       "    </tr>\n",
       "    <tr>\n",
       "      <th>13</th>\n",
       "      <td>What is your current occupation_Working Profes...</td>\n",
       "      <td>1.37</td>\n",
       "    </tr>\n",
       "    <tr>\n",
       "      <th>4</th>\n",
       "      <td>Lead Source_Reference</td>\n",
       "      <td>1.34</td>\n",
       "    </tr>\n",
       "    <tr>\n",
       "      <th>0</th>\n",
       "      <td>Total Time Spent on Website</td>\n",
       "      <td>1.13</td>\n",
       "    </tr>\n",
       "    <tr>\n",
       "      <th>6</th>\n",
       "      <td>Lead Source_Welingak Website</td>\n",
       "      <td>1.09</td>\n",
       "    </tr>\n",
       "    <tr>\n",
       "      <th>11</th>\n",
       "      <td>What is your current occupation_Student</td>\n",
       "      <td>1.06</td>\n",
       "    </tr>\n",
       "    <tr>\n",
       "      <th>5</th>\n",
       "      <td>Lead Source_Referral Sites</td>\n",
       "      <td>1.03</td>\n",
       "    </tr>\n",
       "    <tr>\n",
       "      <th>8</th>\n",
       "      <td>Last Activity_Had a Phone Conversation</td>\n",
       "      <td>1.01</td>\n",
       "    </tr>\n",
       "    <tr>\n",
       "      <th>10</th>\n",
       "      <td>What is your current occupation_Other</td>\n",
       "      <td>1.01</td>\n",
       "    </tr>\n",
       "  </tbody>\n",
       "</table>\n",
       "</div>"
      ],
      "text/plain": [
       "                                             Features   VIF\n",
       "12         What is your current occupation_Unemployed  2.81\n",
       "2                                  Lead Source_Google  2.07\n",
       "7                          Last Activity_Email Opened  1.97\n",
       "9                              Last Activity_SMS Sent  1.94\n",
       "1                          Lead Source_Direct Traffic  1.91\n",
       "3                          Lead Source_Organic Search  1.42\n",
       "13  What is your current occupation_Working Profes...  1.37\n",
       "4                               Lead Source_Reference  1.34\n",
       "0                         Total Time Spent on Website  1.13\n",
       "6                        Lead Source_Welingak Website  1.09\n",
       "11            What is your current occupation_Student  1.06\n",
       "5                          Lead Source_Referral Sites  1.03\n",
       "8              Last Activity_Had a Phone Conversation  1.01\n",
       "10              What is your current occupation_Other  1.01"
      ]
     },
     "execution_count": 76,
     "metadata": {},
     "output_type": "execute_result"
    }
   ],
   "source": [
    "vif = pd.DataFrame()\n",
    "vif['Features'] = X_train[col].columns\n",
    "vif['VIF'] = [variance_inflation_factor(X_train[col].values, i) for i in range(X_train[col].shape[1])]\n",
    "vif['VIF'] = round(vif['VIF'], 2)\n",
    "vif = vif.sort_values(by = \"VIF\", ascending = False)\n",
    "vif"
   ]
  },
  {
   "cell_type": "markdown",
   "id": "7f5e2f67",
   "metadata": {},
   "source": [
    "### 6. Model Evaluation"
   ]
  },
  {
   "cell_type": "markdown",
   "id": "008d786e",
   "metadata": {},
   "source": [
    "### Confusiton Matrics"
   ]
  },
  {
   "cell_type": "code",
   "execution_count": 77,
   "id": "d1630a56",
   "metadata": {},
   "outputs": [
    {
     "data": {
      "text/plain": [
       "array([[3477,  435],\n",
       "       [ 734, 1700]], dtype=int64)"
      ]
     },
     "execution_count": 77,
     "metadata": {},
     "output_type": "execute_result"
    }
   ],
   "source": [
    "# Let's take a look at the confusion matrix again \n",
    "confusion = metrics.confusion_matrix(y_train_pred_final.Converted, y_train_pred_final.predicted )\n",
    "confusion"
   ]
  },
  {
   "cell_type": "code",
   "execution_count": 78,
   "id": "27655e42",
   "metadata": {},
   "outputs": [],
   "source": [
    "# Actual/Predicted     not_converted    converted\n",
    "        # not_converted        3429      483\n",
    "        # converted            815       1619"
   ]
  },
  {
   "cell_type": "code",
   "execution_count": 79,
   "id": "bf8681fe",
   "metadata": {},
   "outputs": [
    {
     "data": {
      "text/plain": [
       "(6346, 3)"
      ]
     },
     "execution_count": 79,
     "metadata": {},
     "output_type": "execute_result"
    }
   ],
   "source": [
    "y_train_pred_final.shape"
   ]
  },
  {
   "cell_type": "markdown",
   "id": "b2bd72f1",
   "metadata": {},
   "source": [
    "### Lets check metrics beyond accuracy"
   ]
  },
  {
   "cell_type": "code",
   "execution_count": 80,
   "id": "0824a48b",
   "metadata": {},
   "outputs": [],
   "source": [
    "TP = confusion[1,1] # true positive \n",
    "TN = confusion[0,0] # true negatives\n",
    "FP = confusion[0,1] # false positives\n",
    "FN = confusion[1,0] # false negatives"
   ]
  },
  {
   "cell_type": "code",
   "execution_count": 81,
   "id": "1f600166",
   "metadata": {},
   "outputs": [
    {
     "data": {
      "text/plain": [
       "0.6984387838948234"
      ]
     },
     "execution_count": 81,
     "metadata": {},
     "output_type": "execute_result"
    }
   ],
   "source": [
    "# Let's see the sensitivity of our logistic regression model\n",
    "TP / float(TP+FN)"
   ]
  },
  {
   "cell_type": "code",
   "execution_count": 82,
   "id": "e7d0bd6d",
   "metadata": {},
   "outputs": [
    {
     "data": {
      "text/plain": [
       "0.8888036809815951"
      ]
     },
     "execution_count": 82,
     "metadata": {},
     "output_type": "execute_result"
    }
   ],
   "source": [
    "# Let us calculate specificity\n",
    "TN / float(TN+FP)"
   ]
  },
  {
   "cell_type": "code",
   "execution_count": 83,
   "id": "3b0c3787",
   "metadata": {},
   "outputs": [
    {
     "name": "stdout",
     "output_type": "stream",
     "text": [
      "0.1111963190184049\n"
     ]
    }
   ],
   "source": [
    "# Calculate false postive rate - predicting conversion when lead does not have converted\n",
    "print(FP/ float(TN+FP))"
   ]
  },
  {
   "cell_type": "code",
   "execution_count": 84,
   "id": "2a46abee",
   "metadata": {},
   "outputs": [
    {
     "name": "stdout",
     "output_type": "stream",
     "text": [
      "0.7962529274004684\n"
     ]
    }
   ],
   "source": [
    "# positive predictive value \n",
    "print (TP / float(TP+FP))"
   ]
  },
  {
   "cell_type": "code",
   "execution_count": 85,
   "id": "aaf04b7f",
   "metadata": {},
   "outputs": [
    {
     "name": "stdout",
     "output_type": "stream",
     "text": [
      "0.8256946093564475\n"
     ]
    }
   ],
   "source": [
    "# Negative predictive value\n",
    "print (TN / float(TN+ FN))"
   ]
  },
  {
   "cell_type": "markdown",
   "id": "eedaca8d",
   "metadata": {},
   "source": [
    "### lets plot the ROC curve"
   ]
  },
  {
   "cell_type": "code",
   "execution_count": 86,
   "id": "c88adf25",
   "metadata": {},
   "outputs": [],
   "source": [
    "def draw_roc(actual, probs):\n",
    "    fpr, tpr, thresholds = metrics.roc_curve( actual, probs,\n",
    "                                              drop_intermediate = False )\n",
    "    auc_score = metrics.roc_auc_score( actual, probs )\n",
    "    plt.figure(figsize=(5, 5))\n",
    "    plt.plot( fpr, tpr, label='ROC curve (area = %0.2f)' % auc_score )\n",
    "    plt.plot([0, 1], [0, 1], 'k--')\n",
    "    plt.xlim([0.0, 1.0])\n",
    "    plt.ylim([0.0, 1.05])\n",
    "    plt.xlabel('False Positive Rate or [1 - True Negative Rate]')\n",
    "    plt.ylabel('True Positive Rate')\n",
    "    plt.title('Receiver operating characteristic example')\n",
    "    plt.legend(loc=\"lower right\")\n",
    "    plt.show()\n",
    "\n",
    "    return None"
   ]
  },
  {
   "cell_type": "code",
   "execution_count": 87,
   "id": "20e25252",
   "metadata": {},
   "outputs": [],
   "source": [
    "fpr, tpr, thresholds = metrics.roc_curve( y_train_pred_final.Converted, y_train_pred_final.Converted_Prob, drop_intermediate = False )"
   ]
  },
  {
   "cell_type": "code",
   "execution_count": 88,
   "id": "9251823a",
   "metadata": {},
   "outputs": [
    {
     "data": {
      "image/png": "[encoded data removed]",
      "text/plain": [
       "<Figure size 500x500 with 1 Axes>"
      ]
     },
     "metadata": {},
     "output_type": "display_data"
    }
   ],
   "source": [
    "draw_roc(y_train_pred_final.Converted, y_train_pred_final.Converted_Prob)"
   ]
  },
  {
   "cell_type": "markdown",
   "id": "1d693fb9",
   "metadata": {},
   "source": [
    "#### Finding Optimal cutoff point"
   ]
  },
  {
   "cell_type": "code",
   "execution_count": 89,
   "id": "6f924014",
   "metadata": {},
   "outputs": [
    {
     "data": {
      "text/html": [
       "<div>\n",
       "<style scoped>\n",
       "    .dataframe tbody tr th:only-of-type {\n",
       "        vertical-align: middle;\n",
       "    }\n",
       "\n",
       "    .dataframe tbody tr th {\n",
       "        vertical-align: top;\n",
       "    }\n",
       "\n",
       "    .dataframe thead th {\n",
       "        text-align: right;\n",
       "    }\n",
       "</style>\n",
       "<table border=\"1\" class=\"dataframe\">\n",
       "  <thead>\n",
       "    <tr style=\"text-align: right;\">\n",
       "      <th></th>\n",
       "      <th>Converted</th>\n",
       "      <th>Converted_Prob</th>\n",
       "      <th>predicted</th>\n",
       "      <th>0.0</th>\n",
       "      <th>0.1</th>\n",
       "      <th>0.2</th>\n",
       "      <th>0.3</th>\n",
       "      <th>0.4</th>\n",
       "      <th>0.5</th>\n",
       "      <th>0.6</th>\n",
       "      <th>0.7</th>\n",
       "      <th>0.8</th>\n",
       "      <th>0.9</th>\n",
       "    </tr>\n",
       "  </thead>\n",
       "  <tbody>\n",
       "    <tr>\n",
       "      <th>0</th>\n",
       "      <td>0</td>\n",
       "      <td>0.099330</td>\n",
       "      <td>0</td>\n",
       "      <td>1</td>\n",
       "      <td>0</td>\n",
       "      <td>0</td>\n",
       "      <td>0</td>\n",
       "      <td>0</td>\n",
       "      <td>0</td>\n",
       "      <td>0</td>\n",
       "      <td>0</td>\n",
       "      <td>0</td>\n",
       "      <td>0</td>\n",
       "    </tr>\n",
       "    <tr>\n",
       "      <th>1</th>\n",
       "      <td>1</td>\n",
       "      <td>0.987193</td>\n",
       "      <td>1</td>\n",
       "      <td>1</td>\n",
       "      <td>1</td>\n",
       "      <td>1</td>\n",
       "      <td>1</td>\n",
       "      <td>1</td>\n",
       "      <td>1</td>\n",
       "      <td>1</td>\n",
       "      <td>1</td>\n",
       "      <td>1</td>\n",
       "      <td>1</td>\n",
       "    </tr>\n",
       "    <tr>\n",
       "      <th>2</th>\n",
       "      <td>0</td>\n",
       "      <td>0.046623</td>\n",
       "      <td>0</td>\n",
       "      <td>1</td>\n",
       "      <td>0</td>\n",
       "      <td>0</td>\n",
       "      <td>0</td>\n",
       "      <td>0</td>\n",
       "      <td>0</td>\n",
       "      <td>0</td>\n",
       "      <td>0</td>\n",
       "      <td>0</td>\n",
       "      <td>0</td>\n",
       "    </tr>\n",
       "    <tr>\n",
       "      <th>3</th>\n",
       "      <td>1</td>\n",
       "      <td>0.995015</td>\n",
       "      <td>1</td>\n",
       "      <td>1</td>\n",
       "      <td>1</td>\n",
       "      <td>1</td>\n",
       "      <td>1</td>\n",
       "      <td>1</td>\n",
       "      <td>1</td>\n",
       "      <td>1</td>\n",
       "      <td>1</td>\n",
       "      <td>1</td>\n",
       "      <td>1</td>\n",
       "    </tr>\n",
       "    <tr>\n",
       "      <th>4</th>\n",
       "      <td>1</td>\n",
       "      <td>0.053069</td>\n",
       "      <td>0</td>\n",
       "      <td>1</td>\n",
       "      <td>0</td>\n",
       "      <td>0</td>\n",
       "      <td>0</td>\n",
       "      <td>0</td>\n",
       "      <td>0</td>\n",
       "      <td>0</td>\n",
       "      <td>0</td>\n",
       "      <td>0</td>\n",
       "      <td>0</td>\n",
       "    </tr>\n",
       "  </tbody>\n",
       "</table>\n",
       "</div>"
      ],
      "text/plain": [
       "   Converted  Converted_Prob  predicted  0.0  0.1  0.2  0.3  0.4  0.5  0.6  \\\n",
       "0          0        0.099330          0    1    0    0    0    0    0    0   \n",
       "1          1        0.987193          1    1    1    1    1    1    1    1   \n",
       "2          0        0.046623          0    1    0    0    0    0    0    0   \n",
       "3          1        0.995015          1    1    1    1    1    1    1    1   \n",
       "4          1        0.053069          0    1    0    0    0    0    0    0   \n",
       "\n",
       "   0.7  0.8  0.9  \n",
       "0    0    0    0  \n",
       "1    1    1    1  \n",
       "2    0    0    0  \n",
       "3    1    1    1  \n",
       "4    0    0    0  "
      ]
     },
     "execution_count": 89,
     "metadata": {},
     "output_type": "execute_result"
    }
   ],
   "source": [
    "# Let's create columns with different probability cutoffs \n",
    "numbers = [float(x)/10 for x in range(10)]\n",
    "for i in numbers:\n",
    "    y_train_pred_final[i]= y_train_pred_final.Converted_Prob.map(lambda x: 1 if x > i else 0)\n",
    "y_train_pred_final.head()"
   ]
  },
  {
   "cell_type": "code",
   "execution_count": 90,
   "id": "fd1a97a1",
   "metadata": {},
   "outputs": [
    {
     "name": "stdout",
     "output_type": "stream",
     "text": [
      "     prob  accuracy     sensi     speci\n",
      "0.0   0.0  0.383549  1.000000  0.000000\n",
      "0.1   0.1  0.624173  0.974938  0.405930\n",
      "0.2   0.2  0.755279  0.917420  0.654397\n",
      "0.3   0.3  0.785849  0.864010  0.737219\n",
      "0.4   0.4  0.809486  0.763353  0.838190\n",
      "0.5   0.5  0.815789  0.698439  0.888804\n",
      "0.6   0.6  0.807280  0.632293  0.916155\n",
      "0.7   0.7  0.782698  0.515612  0.948875\n",
      "0.8   0.8  0.760164  0.423993  0.969325\n",
      "0.9   0.9  0.713048  0.271159  0.987986\n"
     ]
    }
   ],
   "source": [
    "# Now let's calculate accuracy sensitivity and specificity for various probability cutoffs.\n",
    "cutoff_df = pd.DataFrame( columns = ['prob','accuracy','sensi','speci'])\n",
    "from sklearn.metrics import confusion_matrix\n",
    "\n",
    "# TP = confusion[1,1] # true positive \n",
    "# TN = confusion[0,0] # true negatives\n",
    "# FP = confusion[0,1] # false positives\n",
    "# FN = confusion[1,0] # false negatives\n",
    "\n",
    "num = [0.0,0.1,0.2,0.3,0.4,0.5,0.6,0.7,0.8,0.9]\n",
    "for i in num:\n",
    "    cm1 = metrics.confusion_matrix(y_train_pred_final.Converted, y_train_pred_final[i] )\n",
    "    total1=sum(sum(cm1))\n",
    "    accuracy = (cm1[0,0]+cm1[1,1])/total1\n",
    "    \n",
    "    speci = cm1[0,0]/(cm1[0,0]+cm1[0,1])\n",
    "    sensi = cm1[1,1]/(cm1[1,0]+cm1[1,1])\n",
    "    cutoff_df.loc[i] =[ i ,accuracy,sensi,speci]\n",
    "print(cutoff_df)"
   ]
  },
  {
   "cell_type": "code",
   "execution_count": 91,
   "id": "ce57c098",
   "metadata": {},
   "outputs": [
    {
     "data": {
      "image/png": "[encoded data removed]",
      "text/plain": [
       "<Figure size 640x480 with 1 Axes>"
      ]
     },
     "metadata": {},
     "output_type": "display_data"
    }
   ],
   "source": [
    "# Let's plot accuracy sensitivity and specificity for various probabilities.\n",
    "cutoff_df.plot.line(x='prob', y=['accuracy','sensi','speci'])\n",
    "plt.show()"
   ]
  },
  {
   "cell_type": "markdown",
   "id": "100dd52e",
   "metadata": {},
   "source": [
    "#### From above optimum point is apprx 0.40 as optimum cutoff point"
   ]
  },
  {
   "cell_type": "code",
   "execution_count": 92,
   "id": "00e53235",
   "metadata": {},
   "outputs": [
    {
     "data": {
      "text/html": [
       "<div>\n",
       "<style scoped>\n",
       "    .dataframe tbody tr th:only-of-type {\n",
       "        vertical-align: middle;\n",
       "    }\n",
       "\n",
       "    .dataframe tbody tr th {\n",
       "        vertical-align: top;\n",
       "    }\n",
       "\n",
       "    .dataframe thead th {\n",
       "        text-align: right;\n",
       "    }\n",
       "</style>\n",
       "<table border=\"1\" class=\"dataframe\">\n",
       "  <thead>\n",
       "    <tr style=\"text-align: right;\">\n",
       "      <th></th>\n",
       "      <th>Converted</th>\n",
       "      <th>Converted_Prob</th>\n",
       "      <th>predicted</th>\n",
       "      <th>0.0</th>\n",
       "      <th>0.1</th>\n",
       "      <th>0.2</th>\n",
       "      <th>0.3</th>\n",
       "      <th>0.4</th>\n",
       "      <th>0.5</th>\n",
       "      <th>0.6</th>\n",
       "      <th>0.7</th>\n",
       "      <th>0.8</th>\n",
       "      <th>0.9</th>\n",
       "      <th>final_predicted</th>\n",
       "    </tr>\n",
       "  </thead>\n",
       "  <tbody>\n",
       "    <tr>\n",
       "      <th>0</th>\n",
       "      <td>0</td>\n",
       "      <td>0.099330</td>\n",
       "      <td>0</td>\n",
       "      <td>1</td>\n",
       "      <td>0</td>\n",
       "      <td>0</td>\n",
       "      <td>0</td>\n",
       "      <td>0</td>\n",
       "      <td>0</td>\n",
       "      <td>0</td>\n",
       "      <td>0</td>\n",
       "      <td>0</td>\n",
       "      <td>0</td>\n",
       "      <td>0</td>\n",
       "    </tr>\n",
       "    <tr>\n",
       "      <th>1</th>\n",
       "      <td>1</td>\n",
       "      <td>0.987193</td>\n",
       "      <td>1</td>\n",
       "      <td>1</td>\n",
       "      <td>1</td>\n",
       "      <td>1</td>\n",
       "      <td>1</td>\n",
       "      <td>1</td>\n",
       "      <td>1</td>\n",
       "      <td>1</td>\n",
       "      <td>1</td>\n",
       "      <td>1</td>\n",
       "      <td>1</td>\n",
       "      <td>1</td>\n",
       "    </tr>\n",
       "    <tr>\n",
       "      <th>2</th>\n",
       "      <td>0</td>\n",
       "      <td>0.046623</td>\n",
       "      <td>0</td>\n",
       "      <td>1</td>\n",
       "      <td>0</td>\n",
       "      <td>0</td>\n",
       "      <td>0</td>\n",
       "      <td>0</td>\n",
       "      <td>0</td>\n",
       "      <td>0</td>\n",
       "      <td>0</td>\n",
       "      <td>0</td>\n",
       "      <td>0</td>\n",
       "      <td>0</td>\n",
       "    </tr>\n",
       "    <tr>\n",
       "      <th>3</th>\n",
       "      <td>1</td>\n",
       "      <td>0.995015</td>\n",
       "      <td>1</td>\n",
       "      <td>1</td>\n",
       "      <td>1</td>\n",
       "      <td>1</td>\n",
       "      <td>1</td>\n",
       "      <td>1</td>\n",
       "      <td>1</td>\n",
       "      <td>1</td>\n",
       "      <td>1</td>\n",
       "      <td>1</td>\n",
       "      <td>1</td>\n",
       "      <td>1</td>\n",
       "    </tr>\n",
       "    <tr>\n",
       "      <th>4</th>\n",
       "      <td>1</td>\n",
       "      <td>0.053069</td>\n",
       "      <td>0</td>\n",
       "      <td>1</td>\n",
       "      <td>0</td>\n",
       "      <td>0</td>\n",
       "      <td>0</td>\n",
       "      <td>0</td>\n",
       "      <td>0</td>\n",
       "      <td>0</td>\n",
       "      <td>0</td>\n",
       "      <td>0</td>\n",
       "      <td>0</td>\n",
       "      <td>0</td>\n",
       "    </tr>\n",
       "  </tbody>\n",
       "</table>\n",
       "</div>"
      ],
      "text/plain": [
       "   Converted  Converted_Prob  predicted  0.0  0.1  0.2  0.3  0.4  0.5  0.6  \\\n",
       "0          0        0.099330          0    1    0    0    0    0    0    0   \n",
       "1          1        0.987193          1    1    1    1    1    1    1    1   \n",
       "2          0        0.046623          0    1    0    0    0    0    0    0   \n",
       "3          1        0.995015          1    1    1    1    1    1    1    1   \n",
       "4          1        0.053069          0    1    0    0    0    0    0    0   \n",
       "\n",
       "   0.7  0.8  0.9  final_predicted  \n",
       "0    0    0    0                0  \n",
       "1    1    1    1                1  \n",
       "2    0    0    0                0  \n",
       "3    1    1    1                1  \n",
       "4    0    0    0                0  "
      ]
     },
     "execution_count": 92,
     "metadata": {},
     "output_type": "execute_result"
    }
   ],
   "source": [
    "y_train_pred_final['final_predicted'] = y_train_pred_final.Converted_Prob.map( lambda x: 1 if x > 0.4 else 0)\n",
    "\n",
    "y_train_pred_final.head()"
   ]
  },
  {
   "cell_type": "code",
   "execution_count": 93,
   "id": "64f537d7",
   "metadata": {},
   "outputs": [
    {
     "data": {
      "text/plain": [
       "0.8094862905767413"
      ]
     },
     "execution_count": 93,
     "metadata": {},
     "output_type": "execute_result"
    }
   ],
   "source": [
    "# Let's check the overall accuracy.\n",
    "metrics.accuracy_score(y_train_pred_final.Converted, y_train_pred_final.final_predicted)"
   ]
  },
  {
   "cell_type": "code",
   "execution_count": 94,
   "id": "f4a20c86",
   "metadata": {},
   "outputs": [
    {
     "data": {
      "text/plain": [
       "array([[3279,  633],\n",
       "       [ 576, 1858]], dtype=int64)"
      ]
     },
     "execution_count": 94,
     "metadata": {},
     "output_type": "execute_result"
    }
   ],
   "source": [
    "confusion2 = metrics.confusion_matrix(y_train_pred_final.Converted, y_train_pred_final.final_predicted )\n",
    "confusion2"
   ]
  },
  {
   "cell_type": "code",
   "execution_count": 95,
   "id": "6da486fb",
   "metadata": {},
   "outputs": [
    {
     "data": {
      "text/plain": [
       "0.6984387838948234"
      ]
     },
     "execution_count": 95,
     "metadata": {},
     "output_type": "execute_result"
    }
   ],
   "source": [
    "# Let's see the sensitivity of our logistic regression model\n",
    "TP / float(TP+FN)"
   ]
  },
  {
   "cell_type": "code",
   "execution_count": 96,
   "id": "5806b19a",
   "metadata": {},
   "outputs": [
    {
     "data": {
      "text/plain": [
       "0.8888036809815951"
      ]
     },
     "execution_count": 96,
     "metadata": {},
     "output_type": "execute_result"
    }
   ],
   "source": [
    "# Let us calculate specificity\n",
    "TN / float(TN+FP)"
   ]
  },
  {
   "cell_type": "code",
   "execution_count": 97,
   "id": "cf0b67f0",
   "metadata": {},
   "outputs": [
    {
     "name": "stdout",
     "output_type": "stream",
     "text": [
      "0.1111963190184049\n"
     ]
    }
   ],
   "source": [
    "# Calculate false postive rate - predicting churn when customer does not have churned\n",
    "print(FP/ float(TN+FP))"
   ]
  },
  {
   "cell_type": "code",
   "execution_count": 98,
   "id": "fd8b5aed",
   "metadata": {},
   "outputs": [
    {
     "name": "stdout",
     "output_type": "stream",
     "text": [
      "0.7962529274004684\n"
     ]
    }
   ],
   "source": [
    "# Positive predictive value \n",
    "print (TP / float(TP+FP))"
   ]
  },
  {
   "cell_type": "code",
   "execution_count": 99,
   "id": "60f52d75",
   "metadata": {},
   "outputs": [
    {
     "name": "stdout",
     "output_type": "stream",
     "text": [
      "0.8256946093564475\n"
     ]
    }
   ],
   "source": [
    "# Negative predictive value\n",
    "print (TN / float(TN+ FN))"
   ]
  },
  {
   "cell_type": "code",
   "execution_count": 100,
   "id": "373086fd",
   "metadata": {},
   "outputs": [
    {
     "data": {
      "text/plain": [
       "array([[3477,  435],\n",
       "       [ 734, 1700]], dtype=int64)"
      ]
     },
     "execution_count": 100,
     "metadata": {},
     "output_type": "execute_result"
    }
   ],
   "source": [
    "confusion = metrics.confusion_matrix(y_train_pred_final.Converted, y_train_pred_final.predicted )\n",
    "confusion"
   ]
  },
  {
   "cell_type": "markdown",
   "id": "12c78ec9",
   "metadata": {},
   "source": [
    "#### Precision\n",
    "TP / TP + FP"
   ]
  },
  {
   "cell_type": "code",
   "execution_count": 101,
   "id": "26615978",
   "metadata": {},
   "outputs": [
    {
     "data": {
      "text/plain": [
       "0.7962529274004684"
      ]
     },
     "execution_count": 101,
     "metadata": {},
     "output_type": "execute_result"
    }
   ],
   "source": [
    "confusion[1,1]/(confusion[0,1]+confusion[1,1])"
   ]
  },
  {
   "cell_type": "markdown",
   "id": "2a0d9119",
   "metadata": {},
   "source": [
    "#### Recall\n",
    "TP / TP + FN"
   ]
  },
  {
   "cell_type": "code",
   "execution_count": 102,
   "id": "cfd8067e",
   "metadata": {},
   "outputs": [
    {
     "data": {
      "text/plain": [
       "0.6984387838948234"
      ]
     },
     "execution_count": 102,
     "metadata": {},
     "output_type": "execute_result"
    }
   ],
   "source": [
    "confusion[1,1]/(confusion[1,0]+confusion[1,1])"
   ]
  },
  {
   "cell_type": "markdown",
   "id": "5886309b",
   "metadata": {},
   "source": [
    "#### Precision and recall tradeoff"
   ]
  },
  {
   "cell_type": "code",
   "execution_count": 103,
   "id": "18463708",
   "metadata": {},
   "outputs": [],
   "source": [
    "from sklearn.metrics import precision_recall_curve"
   ]
  },
  {
   "cell_type": "code",
   "execution_count": 104,
   "id": "b5c11fb1",
   "metadata": {},
   "outputs": [
    {
     "data": {
      "text/plain": [
       "(0       0\n",
       " 1       1\n",
       " 2       0\n",
       " 3       1\n",
       " 4       1\n",
       "        ..\n",
       " 6341    0\n",
       " 6342    1\n",
       " 6343    0\n",
       " 6344    0\n",
       " 6345    0\n",
       " Name: Converted, Length: 6346, dtype: int64,\n",
       " 0       0\n",
       " 1       1\n",
       " 2       0\n",
       " 3       1\n",
       " 4       0\n",
       "        ..\n",
       " 6341    0\n",
       " 6342    1\n",
       " 6343    0\n",
       " 6344    0\n",
       " 6345    0\n",
       " Name: predicted, Length: 6346, dtype: int64)"
      ]
     },
     "execution_count": 104,
     "metadata": {},
     "output_type": "execute_result"
    }
   ],
   "source": [
    "y_train_pred_final.Converted, y_train_pred_final.predicted"
   ]
  },
  {
   "cell_type": "code",
   "execution_count": 105,
   "id": "4fe7d7df",
   "metadata": {},
   "outputs": [],
   "source": [
    "p, r, thresholds = precision_recall_curve(y_train_pred_final.Converted, y_train_pred_final.Converted_Prob)"
   ]
  },
  {
   "cell_type": "code",
   "execution_count": 106,
   "id": "cb0ad231",
   "metadata": {
    "scrolled": true
   },
   "outputs": [
    {
     "data": {
      "image/png": "[encoded data removed]",
      "text/plain": [
       "<Figure size 640x480 with 1 Axes>"
      ]
     },
     "metadata": {},
     "output_type": "display_data"
    }
   ],
   "source": [
    "plt.plot(thresholds, p[:-1], \"g-\")\n",
    "plt.plot(thresholds, r[:-1], \"r-\")\n",
    "plt.xlabel('Recall')\n",
    "plt.ylabel('Precision')\n",
    "plt.show()"
   ]
  },
  {
   "cell_type": "markdown",
   "id": "8186ef3c",
   "metadata": {},
   "source": [
    "### Lets predict on Test Set"
   ]
  },
  {
   "cell_type": "code",
   "execution_count": 107,
   "id": "43a74c7c",
   "metadata": {},
   "outputs": [
    {
     "data": {
      "text/html": [
       "<div>\n",
       "<style scoped>\n",
       "    .dataframe tbody tr th:only-of-type {\n",
       "        vertical-align: middle;\n",
       "    }\n",
       "\n",
       "    .dataframe tbody tr th {\n",
       "        vertical-align: top;\n",
       "    }\n",
       "\n",
       "    .dataframe thead th {\n",
       "        text-align: right;\n",
       "    }\n",
       "</style>\n",
       "<table border=\"1\" class=\"dataframe\">\n",
       "  <thead>\n",
       "    <tr style=\"text-align: right;\">\n",
       "      <th></th>\n",
       "      <th>Total Time Spent on Website</th>\n",
       "      <th>Lead Source_Direct Traffic</th>\n",
       "      <th>Lead Source_Google</th>\n",
       "      <th>Lead Source_Organic Search</th>\n",
       "      <th>Lead Source_Reference</th>\n",
       "      <th>Lead Source_Referral Sites</th>\n",
       "      <th>Lead Source_Welingak Website</th>\n",
       "      <th>Last Activity_Email Opened</th>\n",
       "      <th>Last Activity_Had a Phone Conversation</th>\n",
       "      <th>Last Activity_SMS Sent</th>\n",
       "      <th>What is your current occupation_Other</th>\n",
       "      <th>What is your current occupation_Student</th>\n",
       "      <th>What is your current occupation_Unemployed</th>\n",
       "      <th>What is your current occupation_Working Professional</th>\n",
       "    </tr>\n",
       "  </thead>\n",
       "  <tbody>\n",
       "    <tr>\n",
       "      <th>3053</th>\n",
       "      <td>0.044619</td>\n",
       "      <td>0</td>\n",
       "      <td>1</td>\n",
       "      <td>0</td>\n",
       "      <td>0</td>\n",
       "      <td>0</td>\n",
       "      <td>0</td>\n",
       "      <td>1</td>\n",
       "      <td>0</td>\n",
       "      <td>0</td>\n",
       "      <td>0</td>\n",
       "      <td>0</td>\n",
       "      <td>1</td>\n",
       "      <td>0</td>\n",
       "    </tr>\n",
       "    <tr>\n",
       "      <th>686</th>\n",
       "      <td>0.908569</td>\n",
       "      <td>0</td>\n",
       "      <td>1</td>\n",
       "      <td>0</td>\n",
       "      <td>0</td>\n",
       "      <td>0</td>\n",
       "      <td>0</td>\n",
       "      <td>1</td>\n",
       "      <td>0</td>\n",
       "      <td>0</td>\n",
       "      <td>0</td>\n",
       "      <td>0</td>\n",
       "      <td>1</td>\n",
       "      <td>0</td>\n",
       "    </tr>\n",
       "    <tr>\n",
       "      <th>4091</th>\n",
       "      <td>1.664296</td>\n",
       "      <td>0</td>\n",
       "      <td>1</td>\n",
       "      <td>0</td>\n",
       "      <td>0</td>\n",
       "      <td>0</td>\n",
       "      <td>0</td>\n",
       "      <td>0</td>\n",
       "      <td>0</td>\n",
       "      <td>0</td>\n",
       "      <td>0</td>\n",
       "      <td>0</td>\n",
       "      <td>1</td>\n",
       "      <td>0</td>\n",
       "    </tr>\n",
       "    <tr>\n",
       "      <th>737</th>\n",
       "      <td>-0.885366</td>\n",
       "      <td>0</td>\n",
       "      <td>0</td>\n",
       "      <td>0</td>\n",
       "      <td>0</td>\n",
       "      <td>0</td>\n",
       "      <td>1</td>\n",
       "      <td>1</td>\n",
       "      <td>0</td>\n",
       "      <td>0</td>\n",
       "      <td>0</td>\n",
       "      <td>0</td>\n",
       "      <td>1</td>\n",
       "      <td>0</td>\n",
       "    </tr>\n",
       "    <tr>\n",
       "      <th>4390</th>\n",
       "      <td>-0.118633</td>\n",
       "      <td>0</td>\n",
       "      <td>1</td>\n",
       "      <td>0</td>\n",
       "      <td>0</td>\n",
       "      <td>0</td>\n",
       "      <td>0</td>\n",
       "      <td>0</td>\n",
       "      <td>0</td>\n",
       "      <td>0</td>\n",
       "      <td>0</td>\n",
       "      <td>0</td>\n",
       "      <td>0</td>\n",
       "      <td>0</td>\n",
       "    </tr>\n",
       "  </tbody>\n",
       "</table>\n",
       "</div>"
      ],
      "text/plain": [
       "      Total Time Spent on Website  Lead Source_Direct Traffic  \\\n",
       "3053                     0.044619                           0   \n",
       "686                      0.908569                           0   \n",
       "4091                     1.664296                           0   \n",
       "737                     -0.885366                           0   \n",
       "4390                    -0.118633                           0   \n",
       "\n",
       "      Lead Source_Google  Lead Source_Organic Search  Lead Source_Reference  \\\n",
       "3053                   1                           0                      0   \n",
       "686                    1                           0                      0   \n",
       "4091                   1                           0                      0   \n",
       "737                    0                           0                      0   \n",
       "4390                   1                           0                      0   \n",
       "\n",
       "      Lead Source_Referral Sites  Lead Source_Welingak Website  \\\n",
       "3053                           0                             0   \n",
       "686                            0                             0   \n",
       "4091                           0                             0   \n",
       "737                            0                             1   \n",
       "4390                           0                             0   \n",
       "\n",
       "      Last Activity_Email Opened  Last Activity_Had a Phone Conversation  \\\n",
       "3053                           1                                       0   \n",
       "686                            1                                       0   \n",
       "4091                           0                                       0   \n",
       "737                            1                                       0   \n",
       "4390                           0                                       0   \n",
       "\n",
       "      Last Activity_SMS Sent  What is your current occupation_Other  \\\n",
       "3053                       0                                      0   \n",
       "686                        0                                      0   \n",
       "4091                       0                                      0   \n",
       "737                        0                                      0   \n",
       "4390                       0                                      0   \n",
       "\n",
       "      What is your current occupation_Student  \\\n",
       "3053                                        0   \n",
       "686                                         0   \n",
       "4091                                        0   \n",
       "737                                         0   \n",
       "4390                                        0   \n",
       "\n",
       "      What is your current occupation_Unemployed  \\\n",
       "3053                                           1   \n",
       "686                                            1   \n",
       "4091                                           1   \n",
       "737                                            1   \n",
       "4390                                           0   \n",
       "\n",
       "      What is your current occupation_Working Professional  \n",
       "3053                                                  0     \n",
       "686                                                   0     \n",
       "4091                                                  0     \n",
       "737                                                   0     \n",
       "4390                                                  0     "
      ]
     },
     "execution_count": 107,
     "metadata": {},
     "output_type": "execute_result"
    }
   ],
   "source": [
    "X_test = X_test[col]\n",
    "X_test.head()"
   ]
  },
  {
   "cell_type": "code",
   "execution_count": 108,
   "id": "062f1c91",
   "metadata": {},
   "outputs": [],
   "source": [
    "X_test_sm = sm.add_constant(X_test)"
   ]
  },
  {
   "cell_type": "code",
   "execution_count": 109,
   "id": "4d5d0655",
   "metadata": {},
   "outputs": [],
   "source": [
    "y_test_pred = res.predict(X_test_sm)"
   ]
  },
  {
   "cell_type": "code",
   "execution_count": 110,
   "id": "e212b237",
   "metadata": {},
   "outputs": [
    {
     "data": {
      "text/plain": [
       "3053    0.336706\n",
       "686     0.569925\n",
       "4091    0.510814\n",
       "737     0.962385\n",
       "4390    0.039161\n",
       "4064    0.125619\n",
       "7021    0.966627\n",
       "5415    0.040427\n",
       "8596    0.956572\n",
       "3334    0.018044\n",
       "dtype: float64"
      ]
     },
     "execution_count": 110,
     "metadata": {},
     "output_type": "execute_result"
    }
   ],
   "source": [
    "y_test_pred[:10]"
   ]
  },
  {
   "cell_type": "code",
   "execution_count": 111,
   "id": "5b12ddd8",
   "metadata": {},
   "outputs": [],
   "source": [
    "# Converting y_pred to a dataframe which is an array\n",
    "y_pred_1 = pd.DataFrame(y_test_pred)"
   ]
  },
  {
   "cell_type": "code",
   "execution_count": 112,
   "id": "6c56bd38",
   "metadata": {},
   "outputs": [
    {
     "data": {
      "text/html": [
       "<div>\n",
       "<style scoped>\n",
       "    .dataframe tbody tr th:only-of-type {\n",
       "        vertical-align: middle;\n",
       "    }\n",
       "\n",
       "    .dataframe tbody tr th {\n",
       "        vertical-align: top;\n",
       "    }\n",
       "\n",
       "    .dataframe thead th {\n",
       "        text-align: right;\n",
       "    }\n",
       "</style>\n",
       "<table border=\"1\" class=\"dataframe\">\n",
       "  <thead>\n",
       "    <tr style=\"text-align: right;\">\n",
       "      <th></th>\n",
       "      <th>0</th>\n",
       "    </tr>\n",
       "  </thead>\n",
       "  <tbody>\n",
       "    <tr>\n",
       "      <th>3053</th>\n",
       "      <td>0.336706</td>\n",
       "    </tr>\n",
       "    <tr>\n",
       "      <th>686</th>\n",
       "      <td>0.569925</td>\n",
       "    </tr>\n",
       "    <tr>\n",
       "      <th>4091</th>\n",
       "      <td>0.510814</td>\n",
       "    </tr>\n",
       "    <tr>\n",
       "      <th>737</th>\n",
       "      <td>0.962385</td>\n",
       "    </tr>\n",
       "    <tr>\n",
       "      <th>4390</th>\n",
       "      <td>0.039161</td>\n",
       "    </tr>\n",
       "  </tbody>\n",
       "</table>\n",
       "</div>"
      ],
      "text/plain": [
       "             0\n",
       "3053  0.336706\n",
       "686   0.569925\n",
       "4091  0.510814\n",
       "737   0.962385\n",
       "4390  0.039161"
      ]
     },
     "execution_count": 112,
     "metadata": {},
     "output_type": "execute_result"
    }
   ],
   "source": [
    "# Let's see the head\n",
    "y_pred_1.head()"
   ]
  },
  {
   "cell_type": "code",
   "execution_count": 113,
   "id": "8e2a5fca",
   "metadata": {},
   "outputs": [],
   "source": [
    "# Converting y_test to dataframe\n",
    "y_test_df = pd.DataFrame(y_test)"
   ]
  },
  {
   "cell_type": "code",
   "execution_count": 114,
   "id": "53beb489",
   "metadata": {},
   "outputs": [],
   "source": [
    "# Appending y_test_df and y_pred_1\n",
    "y_pred_final = pd.concat([y_test_df, y_pred_1],axis=1)"
   ]
  },
  {
   "cell_type": "code",
   "execution_count": 115,
   "id": "3510928f",
   "metadata": {},
   "outputs": [
    {
     "data": {
      "text/html": [
       "<div>\n",
       "<style scoped>\n",
       "    .dataframe tbody tr th:only-of-type {\n",
       "        vertical-align: middle;\n",
       "    }\n",
       "\n",
       "    .dataframe tbody tr th {\n",
       "        vertical-align: top;\n",
       "    }\n",
       "\n",
       "    .dataframe thead th {\n",
       "        text-align: right;\n",
       "    }\n",
       "</style>\n",
       "<table border=\"1\" class=\"dataframe\">\n",
       "  <thead>\n",
       "    <tr style=\"text-align: right;\">\n",
       "      <th></th>\n",
       "      <th>Converted</th>\n",
       "      <th>0</th>\n",
       "    </tr>\n",
       "  </thead>\n",
       "  <tbody>\n",
       "    <tr>\n",
       "      <th>3053</th>\n",
       "      <td>0</td>\n",
       "      <td>0.336706</td>\n",
       "    </tr>\n",
       "    <tr>\n",
       "      <th>686</th>\n",
       "      <td>1</td>\n",
       "      <td>0.569925</td>\n",
       "    </tr>\n",
       "    <tr>\n",
       "      <th>4091</th>\n",
       "      <td>1</td>\n",
       "      <td>0.510814</td>\n",
       "    </tr>\n",
       "    <tr>\n",
       "      <th>737</th>\n",
       "      <td>1</td>\n",
       "      <td>0.962385</td>\n",
       "    </tr>\n",
       "    <tr>\n",
       "      <th>4390</th>\n",
       "      <td>0</td>\n",
       "      <td>0.039161</td>\n",
       "    </tr>\n",
       "  </tbody>\n",
       "</table>\n",
       "</div>"
      ],
      "text/plain": [
       "      Converted         0\n",
       "3053          0  0.336706\n",
       "686           1  0.569925\n",
       "4091          1  0.510814\n",
       "737           1  0.962385\n",
       "4390          0  0.039161"
      ]
     },
     "execution_count": 115,
     "metadata": {},
     "output_type": "execute_result"
    }
   ],
   "source": [
    "y_pred_final.head()"
   ]
  },
  {
   "cell_type": "code",
   "execution_count": 116,
   "id": "e7df8176",
   "metadata": {},
   "outputs": [],
   "source": [
    "# Renaming the column \n",
    "y_pred_final= y_pred_final.rename(columns={ 0 : 'Converted_Prob'})"
   ]
  },
  {
   "cell_type": "code",
   "execution_count": 117,
   "id": "6913193b",
   "metadata": {},
   "outputs": [
    {
     "data": {
      "text/html": [
       "<div>\n",
       "<style scoped>\n",
       "    .dataframe tbody tr th:only-of-type {\n",
       "        vertical-align: middle;\n",
       "    }\n",
       "\n",
       "    .dataframe tbody tr th {\n",
       "        vertical-align: top;\n",
       "    }\n",
       "\n",
       "    .dataframe thead th {\n",
       "        text-align: right;\n",
       "    }\n",
       "</style>\n",
       "<table border=\"1\" class=\"dataframe\">\n",
       "  <thead>\n",
       "    <tr style=\"text-align: right;\">\n",
       "      <th></th>\n",
       "      <th>Converted</th>\n",
       "      <th>Converted_Prob</th>\n",
       "    </tr>\n",
       "  </thead>\n",
       "  <tbody>\n",
       "    <tr>\n",
       "      <th>3053</th>\n",
       "      <td>0</td>\n",
       "      <td>0.336706</td>\n",
       "    </tr>\n",
       "    <tr>\n",
       "      <th>686</th>\n",
       "      <td>1</td>\n",
       "      <td>0.569925</td>\n",
       "    </tr>\n",
       "    <tr>\n",
       "      <th>4091</th>\n",
       "      <td>1</td>\n",
       "      <td>0.510814</td>\n",
       "    </tr>\n",
       "    <tr>\n",
       "      <th>737</th>\n",
       "      <td>1</td>\n",
       "      <td>0.962385</td>\n",
       "    </tr>\n",
       "    <tr>\n",
       "      <th>4390</th>\n",
       "      <td>0</td>\n",
       "      <td>0.039161</td>\n",
       "    </tr>\n",
       "  </tbody>\n",
       "</table>\n",
       "</div>"
      ],
      "text/plain": [
       "      Converted  Converted_Prob\n",
       "3053          0        0.336706\n",
       "686           1        0.569925\n",
       "4091          1        0.510814\n",
       "737           1        0.962385\n",
       "4390          0        0.039161"
      ]
     },
     "execution_count": 117,
     "metadata": {},
     "output_type": "execute_result"
    }
   ],
   "source": [
    "# Let's see the head of y_pred_final\n",
    "y_pred_final.head()"
   ]
  },
  {
   "cell_type": "code",
   "execution_count": 118,
   "id": "9a1c489a",
   "metadata": {},
   "outputs": [],
   "source": [
    "y_pred_final['final_predicted'] = y_pred_final.Converted_Prob.map(lambda x: 1 if x > 0.42 else 0)"
   ]
  },
  {
   "cell_type": "code",
   "execution_count": 119,
   "id": "9d19a891",
   "metadata": {},
   "outputs": [
    {
     "data": {
      "text/html": [
       "<div>\n",
       "<style scoped>\n",
       "    .dataframe tbody tr th:only-of-type {\n",
       "        vertical-align: middle;\n",
       "    }\n",
       "\n",
       "    .dataframe tbody tr th {\n",
       "        vertical-align: top;\n",
       "    }\n",
       "\n",
       "    .dataframe thead th {\n",
       "        text-align: right;\n",
       "    }\n",
       "</style>\n",
       "<table border=\"1\" class=\"dataframe\">\n",
       "  <thead>\n",
       "    <tr style=\"text-align: right;\">\n",
       "      <th></th>\n",
       "      <th>Converted</th>\n",
       "      <th>Converted_Prob</th>\n",
       "      <th>final_predicted</th>\n",
       "    </tr>\n",
       "  </thead>\n",
       "  <tbody>\n",
       "    <tr>\n",
       "      <th>3053</th>\n",
       "      <td>0</td>\n",
       "      <td>0.336706</td>\n",
       "      <td>0</td>\n",
       "    </tr>\n",
       "    <tr>\n",
       "      <th>686</th>\n",
       "      <td>1</td>\n",
       "      <td>0.569925</td>\n",
       "      <td>1</td>\n",
       "    </tr>\n",
       "    <tr>\n",
       "      <th>4091</th>\n",
       "      <td>1</td>\n",
       "      <td>0.510814</td>\n",
       "      <td>1</td>\n",
       "    </tr>\n",
       "    <tr>\n",
       "      <th>737</th>\n",
       "      <td>1</td>\n",
       "      <td>0.962385</td>\n",
       "      <td>1</td>\n",
       "    </tr>\n",
       "    <tr>\n",
       "      <th>4390</th>\n",
       "      <td>0</td>\n",
       "      <td>0.039161</td>\n",
       "      <td>0</td>\n",
       "    </tr>\n",
       "  </tbody>\n",
       "</table>\n",
       "</div>"
      ],
      "text/plain": [
       "      Converted  Converted_Prob  final_predicted\n",
       "3053          0        0.336706                0\n",
       "686           1        0.569925                1\n",
       "4091          1        0.510814                1\n",
       "737           1        0.962385                1\n",
       "4390          0        0.039161                0"
      ]
     },
     "execution_count": 119,
     "metadata": {},
     "output_type": "execute_result"
    }
   ],
   "source": [
    "y_pred_final.head()"
   ]
  },
  {
   "cell_type": "code",
   "execution_count": 120,
   "id": "ac235dc6",
   "metadata": {},
   "outputs": [
    {
     "data": {
      "text/plain": [
       "0.8085262771040059"
      ]
     },
     "execution_count": 120,
     "metadata": {},
     "output_type": "execute_result"
    }
   ],
   "source": [
    "# Let's check the overall accuracy.\n",
    "metrics.accuracy_score(y_pred_final.Converted, y_pred_final.final_predicted)"
   ]
  },
  {
   "cell_type": "code",
   "execution_count": 121,
   "id": "713bc2ec",
   "metadata": {},
   "outputs": [
    {
     "data": {
      "text/plain": [
       "array([[1455,  267],\n",
       "       [ 254,  745]], dtype=int64)"
      ]
     },
     "execution_count": 121,
     "metadata": {},
     "output_type": "execute_result"
    }
   ],
   "source": [
    "confusion2 = metrics.confusion_matrix(y_pred_final.Converted, y_pred_final.final_predicted )\n",
    "confusion2"
   ]
  },
  {
   "cell_type": "code",
   "execution_count": 122,
   "id": "70899def",
   "metadata": {},
   "outputs": [],
   "source": [
    "TP = confusion2[1,1] # true positive \n",
    "TN = confusion2[0,0] # true negatives\n",
    "FP = confusion2[0,1] # false positives\n",
    "FN = confusion2[1,0] # false negatives"
   ]
  },
  {
   "cell_type": "code",
   "execution_count": 123,
   "id": "8945a8b9",
   "metadata": {},
   "outputs": [
    {
     "data": {
      "text/plain": [
       "0.7457457457457457"
      ]
     },
     "execution_count": 123,
     "metadata": {},
     "output_type": "execute_result"
    }
   ],
   "source": [
    "# Let's see the sensitivity of our logistic regression model\n",
    "TP / float(TP+FN)"
   ]
  },
  {
   "cell_type": "code",
   "execution_count": 124,
   "id": "54a92293",
   "metadata": {},
   "outputs": [
    {
     "data": {
      "text/plain": [
       "0.8449477351916377"
      ]
     },
     "execution_count": 124,
     "metadata": {},
     "output_type": "execute_result"
    }
   ],
   "source": [
    "# Let us calculate specificity\n",
    "TN / float(TN+FP)"
   ]
  },
  {
   "cell_type": "code",
   "execution_count": 125,
   "id": "6bbccca3",
   "metadata": {},
   "outputs": [
    {
     "data": {
      "text/plain": [
       "0.7361660079051383"
      ]
     },
     "execution_count": 125,
     "metadata": {},
     "output_type": "execute_result"
    }
   ],
   "source": [
    "# Precision\n",
    "\n",
    "TP/float(FP+TP)"
   ]
  },
  {
   "cell_type": "code",
   "execution_count": 126,
   "id": "ed48b8cc",
   "metadata": {},
   "outputs": [
    {
     "data": {
      "text/plain": [
       "0.7457457457457457"
      ]
     },
     "execution_count": 126,
     "metadata": {},
     "output_type": "execute_result"
    }
   ],
   "source": [
    "# Recall\n",
    "\n",
    "TP/ float(FN+TP)"
   ]
  },
  {
   "cell_type": "code",
   "execution_count": 127,
   "id": "5b6da778",
   "metadata": {},
   "outputs": [],
   "source": [
    "# Summary of model\n",
    "\n",
    "#                 Training parameters      Test parameters\n",
    "# Accuracy               0.82                   0.81\n",
    "# Sensitivity            0.70                   0.75\n",
    "# Specifity              0.89                   0.85\n",
    "# Precision              0.80                   0.74\n",
    "# Recall                 0.70                   0.75"
   ]
  }
 ],
 "metadata": {
  "kernelspec": {
   "display_name": "Python 3 (ipykernel)",
   "language": "python",
   "name": "python3"
  },
  "language_info": {
   "codemirror_mode": {
    "name": "ipython",
    "version": 3
   },
   "file_extension": ".py",
   "mimetype": "text/x-python",
   "name": "python",
   "nbconvert_exporter": "python",
   "pygments_lexer": "ipython3",
   "version": "3.9.13"
  }
 },
 "nbformat": 4,
 "nbformat_minor": 5
}
